{
  "cells": [
    {
      "cell_type": "markdown",
      "metadata": {
        "id": "fwPL0hIlGKoA"
      },
      "source": [
        "# <font color='red'>**Sequence to sequence implementation**</font>"
      ]
    },
    {
      "cell_type": "markdown",
      "metadata": {
        "id": "QyfZo8fmLOec"
      },
      "source": [
        "## Task -1: Simple Encoder and Decoder\n",
        "Implement simple Encoder-Decoder model"
      ]
    },
    {
      "cell_type": "code",
      "execution_count": null,
      "metadata": {
        "colab": {
          "base_uri": "https://localhost:8080/"
        },
        "id": "JTtakmPjodaE",
        "outputId": "92d24c8e-9623-41e1-ac5e-4d04fc9d5e2e"
      },
      "outputs": [
        {
          "name": "stdout",
          "output_type": "stream",
          "text": [
            "--2020-12-31 08:10:27--  http://www.manythings.org/anki/ita-eng.zip\n",
            "Resolving www.manythings.org (www.manythings.org)... 104.24.109.196, 104.24.108.196, 172.67.173.198, ...\n",
            "Connecting to www.manythings.org (www.manythings.org)|104.24.109.196|:80... connected.\n",
            "HTTP request sent, awaiting response... 200 OK\n",
            "Length: 7521114 (7.2M) [application/zip]\n",
            "Saving to: ‘ita-eng.zip’\n",
            "\n",
            "ita-eng.zip         100%[===================>]   7.17M  18.3MB/s    in 0.4s    \n",
            "\n",
            "2020-12-31 08:10:27 (18.3 MB/s) - ‘ita-eng.zip’ saved [7521114/7521114]\n",
            "\n",
            "Archive:  ita-eng.zip\n",
            "  inflating: ita.txt                 \n",
            "  inflating: _about.txt              \n"
          ]
        }
      ],
      "source": [
        "!wget http://www.manythings.org/anki/ita-eng.zip\n",
        "!unzip ita-eng.zip"
      ]
    },
    {
      "cell_type": "code",
      "execution_count": null,
      "metadata": {
        "colab": {
          "base_uri": "https://localhost:8080/"
        },
        "id": "8CCAqev6ol5G",
        "outputId": "3394dd1d-375b-4fcd-9ec7-9dc5e30e1181"
      },
      "outputs": [
        {
          "name": "stdout",
          "output_type": "stream",
          "text": [
            "--2020-12-31 08:10:29--  https://www.dropbox.com/s/ddkmtqz01jc024u/glove.6B.100d.txt\n",
            "Resolving www.dropbox.com (www.dropbox.com)... 162.125.6.18, 2620:100:6019:18::a27d:412\n",
            "Connecting to www.dropbox.com (www.dropbox.com)|162.125.6.18|:443... connected.\n",
            "HTTP request sent, awaiting response... 301 Moved Permanently\n",
            "Location: /s/raw/ddkmtqz01jc024u/glove.6B.100d.txt [following]\n",
            "--2020-12-31 08:10:29--  https://www.dropbox.com/s/raw/ddkmtqz01jc024u/glove.6B.100d.txt\n",
            "Reusing existing connection to www.dropbox.com:443.\n",
            "HTTP request sent, awaiting response... 302 Found\n",
            "Location: https://uc9e7ab3a44f07be5b680cf29999.dl.dropboxusercontent.com/cd/0/inline/BGE0EErqurkdDF8NHJJ_aRbxIVxnR2W4z83STYW2ZixUmwoJnJiFRbH2V6c59WbhLaIBQs_1m2gibUZ-vFN-pa_tlJ5MvoPqytuK-2MxjT7TvP9Lnw4K9j5IyjPJaic71fY/file# [following]\n",
            "--2020-12-31 08:10:29--  https://uc9e7ab3a44f07be5b680cf29999.dl.dropboxusercontent.com/cd/0/inline/BGE0EErqurkdDF8NHJJ_aRbxIVxnR2W4z83STYW2ZixUmwoJnJiFRbH2V6c59WbhLaIBQs_1m2gibUZ-vFN-pa_tlJ5MvoPqytuK-2MxjT7TvP9Lnw4K9j5IyjPJaic71fY/file\n",
            "Resolving uc9e7ab3a44f07be5b680cf29999.dl.dropboxusercontent.com (uc9e7ab3a44f07be5b680cf29999.dl.dropboxusercontent.com)... 162.125.6.15, 2620:100:601c:15::a27d:60f\n",
            "Connecting to uc9e7ab3a44f07be5b680cf29999.dl.dropboxusercontent.com (uc9e7ab3a44f07be5b680cf29999.dl.dropboxusercontent.com)|162.125.6.15|:443... connected.\n",
            "HTTP request sent, awaiting response... 200 OK\n",
            "Length: 347116733 (331M) [text/plain]\n",
            "Saving to: ‘glove.6B.100d.txt’\n",
            "\n",
            "glove.6B.100d.txt   100%[===================>] 331.04M   114MB/s    in 2.9s    \n",
            "\n",
            "2020-12-31 08:10:33 (114 MB/s) - ‘glove.6B.100d.txt’ saved [347116733/347116733]\n",
            "\n"
          ]
        }
      ],
      "source": [
        "!wget https://www.dropbox.com/s/ddkmtqz01jc024u/glove.6B.100d.txt"
      ]
    },
    {
      "cell_type": "markdown",
      "metadata": {
        "id": "3k_AlAuKJqVA"
      },
      "source": [
        "<font color='blue'>**Load the data**</font>"
      ]
    },
    {
      "cell_type": "code",
      "execution_count": null,
      "metadata": {
        "id": "fU80Ao-AGaob"
      },
      "outputs": [],
      "source": [
        "import matplotlib.pyplot as plt\n",
        "%matplotlib inline\n",
        "# import seaborn as sns\n",
        "import pandas as pd\n",
        "import re\n",
        "import tensorflow as tf\n",
        "from tensorflow.keras.layers import Embedding, LSTM, Dense\n",
        "from tensorflow.keras.models import Model\n",
        "from tensorflow.keras.preprocessing.text import Tokenizer\n",
        "from tensorflow.keras.preprocessing.sequence import pad_sequences\n",
        "import numpy as np"
      ]
    },
    {
      "cell_type": "code",
      "execution_count": null,
      "metadata": {
        "colab": {
          "base_uri": "https://localhost:8080/",
          "height": 212
        },
        "id": "kP8XzDM-otF3",
        "outputId": "a9d2e752-c191-42b1-ea00-ae706cf710e0"
      },
      "outputs": [
        {
          "name": "stdout",
          "output_type": "stream",
          "text": [
            "(343813, 2)\n"
          ]
        },
        {
          "data": {
            "text/html": [
              "<div>\n",
              "<style scoped>\n",
              "    .dataframe tbody tr th:only-of-type {\n",
              "        vertical-align: middle;\n",
              "    }\n",
              "\n",
              "    .dataframe tbody tr th {\n",
              "        vertical-align: top;\n",
              "    }\n",
              "\n",
              "    .dataframe thead th {\n",
              "        text-align: right;\n",
              "    }\n",
              "</style>\n",
              "<table border=\"1\" class=\"dataframe\">\n",
              "  <thead>\n",
              "    <tr style=\"text-align: right;\">\n",
              "      <th></th>\n",
              "      <th>english</th>\n",
              "      <th>italian</th>\n",
              "    </tr>\n",
              "  </thead>\n",
              "  <tbody>\n",
              "    <tr>\n",
              "      <th>0</th>\n",
              "      <td>Hi.</td>\n",
              "      <td>Ciao!</td>\n",
              "    </tr>\n",
              "    <tr>\n",
              "      <th>1</th>\n",
              "      <td>Run!</td>\n",
              "      <td>Corri!</td>\n",
              "    </tr>\n",
              "    <tr>\n",
              "      <th>2</th>\n",
              "      <td>Run!</td>\n",
              "      <td>Corra!</td>\n",
              "    </tr>\n",
              "    <tr>\n",
              "      <th>3</th>\n",
              "      <td>Run!</td>\n",
              "      <td>Correte!</td>\n",
              "    </tr>\n",
              "    <tr>\n",
              "      <th>4</th>\n",
              "      <td>Who?</td>\n",
              "      <td>Chi?</td>\n",
              "    </tr>\n",
              "  </tbody>\n",
              "</table>\n",
              "</div>"
            ],
            "text/plain": [
              "  english   italian\n",
              "0     Hi.     Ciao!\n",
              "1    Run!    Corri!\n",
              "2    Run!    Corra!\n",
              "3    Run!  Correte!\n",
              "4    Who?      Chi?"
            ]
          },
          "execution_count": 4,
          "metadata": {
            "tags": []
          },
          "output_type": "execute_result"
        }
      ],
      "source": [
        "with open('ita.txt', 'r', encoding=\"utf8\") as f:\n",
        "    eng=[]\n",
        "    ita=[]\n",
        "    for i in f.readlines():\n",
        "        eng.append(i.split(\"\\t\")[0])\n",
        "        ita.append(i.split(\"\\t\")[1])\n",
        "data = pd.DataFrame(data=list(zip(eng, ita)), columns=['english','italian'])\n",
        "print(data.shape)\n",
        "data.head()"
      ]
    },
    {
      "cell_type": "code",
      "execution_count": null,
      "metadata": {
        "colab": {
          "base_uri": "https://localhost:8080/",
          "height": 195
        },
        "id": "MWIrK6ebowF4",
        "outputId": "686e2589-fa0f-4844-d9cf-dc0ce65de1aa"
      },
      "outputs": [
        {
          "data": {
            "text/html": [
              "<div>\n",
              "<style scoped>\n",
              "    .dataframe tbody tr th:only-of-type {\n",
              "        vertical-align: middle;\n",
              "    }\n",
              "\n",
              "    .dataframe tbody tr th {\n",
              "        vertical-align: top;\n",
              "    }\n",
              "\n",
              "    .dataframe thead th {\n",
              "        text-align: right;\n",
              "    }\n",
              "</style>\n",
              "<table border=\"1\" class=\"dataframe\">\n",
              "  <thead>\n",
              "    <tr style=\"text-align: right;\">\n",
              "      <th></th>\n",
              "      <th>english</th>\n",
              "      <th>italian</th>\n",
              "    </tr>\n",
              "  </thead>\n",
              "  <tbody>\n",
              "    <tr>\n",
              "      <th>0</th>\n",
              "      <td>hi</td>\n",
              "      <td>ciao</td>\n",
              "    </tr>\n",
              "    <tr>\n",
              "      <th>1</th>\n",
              "      <td>run</td>\n",
              "      <td>corri</td>\n",
              "    </tr>\n",
              "    <tr>\n",
              "      <th>2</th>\n",
              "      <td>run</td>\n",
              "      <td>corra</td>\n",
              "    </tr>\n",
              "    <tr>\n",
              "      <th>3</th>\n",
              "      <td>run</td>\n",
              "      <td>correte</td>\n",
              "    </tr>\n",
              "    <tr>\n",
              "      <th>4</th>\n",
              "      <td>who</td>\n",
              "      <td>chi</td>\n",
              "    </tr>\n",
              "  </tbody>\n",
              "</table>\n",
              "</div>"
            ],
            "text/plain": [
              "  english  italian\n",
              "0      hi     ciao\n",
              "1     run    corri\n",
              "2     run    corra\n",
              "3     run  correte\n",
              "4     who      chi"
            ]
          },
          "execution_count": 5,
          "metadata": {
            "tags": []
          },
          "output_type": "execute_result"
        }
      ],
      "source": [
        "def decontractions(phrase):\n",
        "    \"\"\"decontracted takes text and convert contractions into natural form.\n",
        "     ref: https://stackoverflow.com/questions/19790188/expanding-english-language-contractions-in-python/47091490#47091490\"\"\"\n",
        "    # specific\n",
        "    phrase = re.sub(r\"won\\'t\", \"will not\", phrase)\n",
        "    phrase = re.sub(r\"can\\'t\", \"can not\", phrase)\n",
        "    phrase = re.sub(r\"won\\’t\", \"will not\", phrase)\n",
        "    phrase = re.sub(r\"can\\’t\", \"can not\", phrase)\n",
        "\n",
        "    # general\n",
        "    phrase = re.sub(r\"n\\'t\", \" not\", phrase)\n",
        "    phrase = re.sub(r\"\\'re\", \" are\", phrase)\n",
        "    phrase = re.sub(r\"\\'s\", \" is\", phrase)\n",
        "    phrase = re.sub(r\"\\'d\", \" would\", phrase)\n",
        "    phrase = re.sub(r\"\\'ll\", \" will\", phrase)\n",
        "    phrase = re.sub(r\"\\'t\", \" not\", phrase)\n",
        "    phrase = re.sub(r\"\\'ve\", \" have\", phrase)\n",
        "    phrase = re.sub(r\"\\'m\", \" am\", phrase)\n",
        "\n",
        "    phrase = re.sub(r\"n\\’t\", \" not\", phrase)\n",
        "    phrase = re.sub(r\"\\’re\", \" are\", phrase)\n",
        "    phrase = re.sub(r\"\\’s\", \" is\", phrase)\n",
        "    phrase = re.sub(r\"\\’d\", \" would\", phrase)\n",
        "    phrase = re.sub(r\"\\’ll\", \" will\", phrase)\n",
        "    phrase = re.sub(r\"\\’t\", \" not\", phrase)\n",
        "    phrase = re.sub(r\"\\’ve\", \" have\", phrase)\n",
        "    phrase = re.sub(r\"\\’m\", \" am\", phrase)\n",
        "\n",
        "    return phrase\n",
        "\n",
        "def preprocess(text):\n",
        "    # convert all the text into lower letters\n",
        "    # use this function to remove the contractions: https://gist.github.com/anandborad/d410a49a493b56dace4f814ab5325bbd\n",
        "    # remove all the spacial characters: except space ' '\n",
        "    text = text.lower()\n",
        "    text = decontractions(text)\n",
        "    text = re.sub('[^A-Za-z0-9 ]+', '', text)\n",
        "    return text\n",
        "\n",
        "def preprocess_ita(text):\n",
        "    # convert all the text into lower letters\n",
        "    # remove the words betweent brakets ()\n",
        "    # remove these characters: {'$', ')', '?', '\"', '’', '.',  '°', '!', ';', '/', \"'\", '€', '%', ':', ',', '('}\n",
        "    # replace these spl characters with space: '\\u200b', '\\xa0', '-', '/'\n",
        "\n",
        "    text = text.lower()\n",
        "    text = decontractions(text)\n",
        "    text = re.sub('[$)\\?\"’.°!;\\'€%:,(/]', '', text)\n",
        "    text = re.sub('\\u200b', ' ', text)\n",
        "    text = re.sub('\\xa0', ' ', text)\n",
        "    text = re.sub('-', ' ', text)\n",
        "    return text\n",
        "\n",
        "\n",
        "data['english'] = data['english'].apply(preprocess)\n",
        "data['italian'] = data['italian'].apply(preprocess_ita)\n",
        "data.head()"
      ]
    },
    {
      "cell_type": "code",
      "execution_count": null,
      "metadata": {
        "id": "HRHcPQyyoyzL"
      },
      "outputs": [],
      "source": [
        "ita_lengths = data['italian'].str.split().apply(len)\n",
        "eng_lengths = data['english'].str.split().apply(len)"
      ]
    },
    {
      "cell_type": "code",
      "execution_count": null,
      "metadata": {
        "colab": {
          "base_uri": "https://localhost:8080/"
        },
        "id": "PnFDEQBno1Iq",
        "outputId": "6ba48907-d511-419f-82f1-3fe06827f15c"
      },
      "outputs": [
        {
          "name": "stdout",
          "output_type": "stream",
          "text": [
            "0 1.0\n",
            "10 3.0\n",
            "20 4.0\n",
            "30 4.0\n",
            "40 5.0\n",
            "50 5.0\n",
            "60 6.0\n",
            "70 6.0\n",
            "80 7.0\n",
            "90 8.0\n",
            "100 92.0\n",
            "90 8.0\n",
            "91 8.0\n",
            "92 8.0\n",
            "93 9.0\n",
            "94 9.0\n",
            "95 9.0\n",
            "96 10.0\n",
            "97 10.0\n",
            "98 11.0\n",
            "99 12.0\n",
            "100 92.0\n",
            "99.1 12.0\n",
            "99.2 12.0\n",
            "99.3 13.0\n",
            "99.4 13.0\n",
            "99.5 13.0\n",
            "99.6 14.0\n",
            "99.7 15.0\n",
            "99.8 16.0\n",
            "99.9 20.0\n",
            "100 92.0\n"
          ]
        }
      ],
      "source": [
        "for i in range(0,101,10):\n",
        "    print(i,np.percentile(ita_lengths, i))\n",
        "for i in range(90,101):\n",
        "    print(i,np.percentile(ita_lengths, i))\n",
        "for i in [99.1,99.2,99.3,99.4,99.5,99.6,99.7,99.8,99.9,100]:\n",
        "    print(i,np.percentile(ita_lengths, i))"
      ]
    },
    {
      "cell_type": "code",
      "execution_count": null,
      "metadata": {
        "colab": {
          "base_uri": "https://localhost:8080/"
        },
        "id": "663EUvT0o30j",
        "outputId": "1a032710-3e63-4aae-96df-8d57fb6e79b1"
      },
      "outputs": [
        {
          "name": "stdout",
          "output_type": "stream",
          "text": [
            "0 1.0\n",
            "10 4.0\n",
            "20 4.0\n",
            "30 5.0\n",
            "40 5.0\n",
            "50 6.0\n",
            "60 6.0\n",
            "70 7.0\n",
            "80 7.0\n",
            "90 8.0\n",
            "100 101.0\n",
            "90 8.0\n",
            "91 9.0\n",
            "92 9.0\n",
            "93 9.0\n",
            "94 9.0\n",
            "95 9.0\n",
            "96 10.0\n",
            "97 10.0\n",
            "98 11.0\n",
            "99 12.0\n",
            "100 101.0\n",
            "99.1 12.0\n",
            "99.2 13.0\n",
            "99.3 13.0\n",
            "99.4 13.0\n",
            "99.5 14.0\n",
            "99.6 14.0\n",
            "99.7 15.0\n",
            "99.8 16.0\n",
            "99.9 21.18800000002375\n",
            "100 101.0\n"
          ]
        }
      ],
      "source": [
        "for i in range(0,101,10):\n",
        "    print(i,np.percentile(eng_lengths, i))\n",
        "for i in range(90,101):\n",
        "    print(i,np.percentile(eng_lengths, i))\n",
        "for i in [99.1,99.2,99.3,99.4,99.5,99.6,99.7,99.8,99.9,100]:\n",
        "    print(i,np.percentile(eng_lengths, i))"
      ]
    },
    {
      "cell_type": "code",
      "execution_count": null,
      "metadata": {
        "colab": {
          "base_uri": "https://localhost:8080/",
          "height": 195
        },
        "id": "P6BgzZrFo6hu",
        "outputId": "10c8e7b3-c65e-4700-db12-8acad849cec8"
      },
      "outputs": [
        {
          "data": {
            "text/html": [
              "<div>\n",
              "<style scoped>\n",
              "    .dataframe tbody tr th:only-of-type {\n",
              "        vertical-align: middle;\n",
              "    }\n",
              "\n",
              "    .dataframe tbody tr th {\n",
              "        vertical-align: top;\n",
              "    }\n",
              "\n",
              "    .dataframe thead th {\n",
              "        text-align: right;\n",
              "    }\n",
              "</style>\n",
              "<table border=\"1\" class=\"dataframe\">\n",
              "  <thead>\n",
              "    <tr style=\"text-align: right;\">\n",
              "      <th></th>\n",
              "      <th>italian</th>\n",
              "      <th>english_inp</th>\n",
              "      <th>english_out</th>\n",
              "    </tr>\n",
              "  </thead>\n",
              "  <tbody>\n",
              "    <tr>\n",
              "      <th>0</th>\n",
              "      <td>ciao</td>\n",
              "      <td>&lt;start&gt; hi</td>\n",
              "      <td>hi &lt;end&gt;</td>\n",
              "    </tr>\n",
              "    <tr>\n",
              "      <th>1</th>\n",
              "      <td>corri</td>\n",
              "      <td>&lt;start&gt; run</td>\n",
              "      <td>run &lt;end&gt;</td>\n",
              "    </tr>\n",
              "    <tr>\n",
              "      <th>2</th>\n",
              "      <td>corra</td>\n",
              "      <td>&lt;start&gt; run</td>\n",
              "      <td>run &lt;end&gt;</td>\n",
              "    </tr>\n",
              "    <tr>\n",
              "      <th>3</th>\n",
              "      <td>correte</td>\n",
              "      <td>&lt;start&gt; run</td>\n",
              "      <td>run &lt;end&gt;</td>\n",
              "    </tr>\n",
              "    <tr>\n",
              "      <th>4</th>\n",
              "      <td>chi</td>\n",
              "      <td>&lt;start&gt; who</td>\n",
              "      <td>who &lt;end&gt;</td>\n",
              "    </tr>\n",
              "  </tbody>\n",
              "</table>\n",
              "</div>"
            ],
            "text/plain": [
              "   italian  english_inp english_out\n",
              "0     ciao   <start> hi    hi <end>\n",
              "1    corri  <start> run   run <end>\n",
              "2    corra  <start> run   run <end>\n",
              "3  correte  <start> run   run <end>\n",
              "4      chi  <start> who   who <end>"
            ]
          },
          "execution_count": 9,
          "metadata": {
            "tags": []
          },
          "output_type": "execute_result"
        }
      ],
      "source": [
        "data['italian_len'] = data['italian'].str.split().apply(len)\n",
        "data = data[data['italian_len'] < 20]\n",
        "\n",
        "data['english_len'] = data['english'].str.split().apply(len)\n",
        "data = data[data['english_len'] < 20]\n",
        "\n",
        "data['english_inp'] = '<start> ' + data['english'].astype(str)\n",
        "data['english_out'] = data['english'].astype(str) + ' <end>'\n",
        "\n",
        "data = data.drop(['english','italian_len','english_len'], axis=1)\n",
        "# only for the first sentance add a toke <end> so that we will have <end> in tokenizer\n",
        "data.head()"
      ]
    },
    {
      "cell_type": "code",
      "execution_count": null,
      "metadata": {
        "colab": {
          "base_uri": "https://localhost:8080/",
          "height": 343
        },
        "id": "b3430FSFo_yi",
        "outputId": "b707655a-21d0-4718-9b80-40cdbbf21f60"
      },
      "outputs": [
        {
          "data": {
            "text/html": [
              "<div>\n",
              "<style scoped>\n",
              "    .dataframe tbody tr th:only-of-type {\n",
              "        vertical-align: middle;\n",
              "    }\n",
              "\n",
              "    .dataframe tbody tr th {\n",
              "        vertical-align: top;\n",
              "    }\n",
              "\n",
              "    .dataframe thead th {\n",
              "        text-align: right;\n",
              "    }\n",
              "</style>\n",
              "<table border=\"1\" class=\"dataframe\">\n",
              "  <thead>\n",
              "    <tr style=\"text-align: right;\">\n",
              "      <th></th>\n",
              "      <th>italian</th>\n",
              "      <th>english_inp</th>\n",
              "      <th>english_out</th>\n",
              "    </tr>\n",
              "  </thead>\n",
              "  <tbody>\n",
              "    <tr>\n",
              "      <th>124828</th>\n",
              "      <td>tom si vuole trasferire qui</td>\n",
              "      <td>&lt;start&gt; tom wants to move here</td>\n",
              "      <td>tom wants to move here &lt;end&gt;</td>\n",
              "    </tr>\n",
              "    <tr>\n",
              "      <th>156154</th>\n",
              "      <td>il papà di tom è molto rigoroso</td>\n",
              "      <td>&lt;start&gt; tom is dad is very strict</td>\n",
              "      <td>tom is dad is very strict &lt;end&gt;</td>\n",
              "    </tr>\n",
              "    <tr>\n",
              "      <th>167683</th>\n",
              "      <td>metta più sale nella minestra</td>\n",
              "      <td>&lt;start&gt; put more salt in the soup</td>\n",
              "      <td>put more salt in the soup &lt;end&gt;</td>\n",
              "    </tr>\n",
              "    <tr>\n",
              "      <th>41885</th>\n",
              "      <td>siamo partiti assieme</td>\n",
              "      <td>&lt;start&gt; we left together</td>\n",
              "      <td>we left together &lt;end&gt;</td>\n",
              "    </tr>\n",
              "    <tr>\n",
              "      <th>323366</th>\n",
              "      <td>tom ha perso il suo lavoro durante lultima rec...</td>\n",
              "      <td>&lt;start&gt; tom lost his job during the last reces...</td>\n",
              "      <td>tom lost his job during the last recession &lt;end&gt;</td>\n",
              "    </tr>\n",
              "    <tr>\n",
              "      <th>57112</th>\n",
              "      <td>sono permessi i cani</td>\n",
              "      <td>&lt;start&gt; dogs are permitted</td>\n",
              "      <td>dogs are permitted &lt;end&gt;</td>\n",
              "    </tr>\n",
              "    <tr>\n",
              "      <th>287729</th>\n",
              "      <td>non voglio andare a fare jogging con lei</td>\n",
              "      <td>&lt;start&gt; i do not want to go jogging with you</td>\n",
              "      <td>i do not want to go jogging with you &lt;end&gt;</td>\n",
              "    </tr>\n",
              "    <tr>\n",
              "      <th>26376</th>\n",
              "      <td>amo insegnare</td>\n",
              "      <td>&lt;start&gt; i love to teach</td>\n",
              "      <td>i love to teach &lt;end&gt;</td>\n",
              "    </tr>\n",
              "    <tr>\n",
              "      <th>179667</th>\n",
              "      <td>penso che tu abbia fatto un buon lavoro</td>\n",
              "      <td>&lt;start&gt; i think you did a good job</td>\n",
              "      <td>i think you did a good job &lt;end&gt;</td>\n",
              "    </tr>\n",
              "    <tr>\n",
              "      <th>212689</th>\n",
              "      <td>guardi il libro sul banco</td>\n",
              "      <td>&lt;start&gt; look at the book on the desk</td>\n",
              "      <td>look at the book on the desk &lt;end&gt;</td>\n",
              "    </tr>\n",
              "  </tbody>\n",
              "</table>\n",
              "</div>"
            ],
            "text/plain": [
              "                                                  italian  ...                                       english_out\n",
              "124828                        tom si vuole trasferire qui  ...                      tom wants to move here <end>\n",
              "156154                    il papà di tom è molto rigoroso  ...                   tom is dad is very strict <end>\n",
              "167683                      metta più sale nella minestra  ...                   put more salt in the soup <end>\n",
              "41885                               siamo partiti assieme  ...                            we left together <end>\n",
              "323366  tom ha perso il suo lavoro durante lultima rec...  ...  tom lost his job during the last recession <end>\n",
              "57112                                sono permessi i cani  ...                          dogs are permitted <end>\n",
              "287729           non voglio andare a fare jogging con lei  ...        i do not want to go jogging with you <end>\n",
              "26376                                       amo insegnare  ...                             i love to teach <end>\n",
              "179667            penso che tu abbia fatto un buon lavoro  ...                  i think you did a good job <end>\n",
              "212689                          guardi il libro sul banco  ...                look at the book on the desk <end>\n",
              "\n",
              "[10 rows x 3 columns]"
            ]
          },
          "execution_count": 10,
          "metadata": {
            "tags": []
          },
          "output_type": "execute_result"
        }
      ],
      "source": [
        "data.sample(10)"
      ]
    },
    {
      "cell_type": "markdown",
      "metadata": {
        "id": "vmGWTdRmKRph"
      },
      "source": [
        "<font color='blue'>**Preprocess data**</font>"
      ]
    },
    {
      "cell_type": "code",
      "execution_count": null,
      "metadata": {
        "id": "v7_ufWjhpFIy"
      },
      "outputs": [],
      "source": [
        "from sklearn.model_selection import train_test_split\n",
        "train, validation = train_test_split(data, test_size=0.2)"
      ]
    },
    {
      "cell_type": "code",
      "execution_count": null,
      "metadata": {
        "colab": {
          "base_uri": "https://localhost:8080/"
        },
        "id": "9QqElB_nKZos",
        "outputId": "ad0e01b8-c65e-47af-8baf-69c303a1012a"
      },
      "outputs": [
        {
          "name": "stdout",
          "output_type": "stream",
          "text": [
            "(274710, 3) (68678, 3)\n"
          ]
        }
      ],
      "source": [
        "print(train.shape, validation.shape)\n",
        "# for one sentence we will be adding <end> token so that the tokanizer learns the word <end>\n",
        "# with this we can use only one tokenizer for both encoder output and decoder output\n",
        "train.iloc[0]['english_inp']= str(train.iloc[0]['english_inp'])+' <end>'\n",
        "train.iloc[0]['english_out']= str(train.iloc[0]['english_out'])+' <end>'"
      ]
    },
    {
      "cell_type": "code",
      "execution_count": null,
      "metadata": {
        "colab": {
          "base_uri": "https://localhost:8080/",
          "height": 195
        },
        "id": "95ay84U8pJir",
        "outputId": "da3af463-48d4-49d8-e3cd-1e283f7df1f7"
      },
      "outputs": [
        {
          "data": {
            "text/html": [
              "<div>\n",
              "<style scoped>\n",
              "    .dataframe tbody tr th:only-of-type {\n",
              "        vertical-align: middle;\n",
              "    }\n",
              "\n",
              "    .dataframe tbody tr th {\n",
              "        vertical-align: top;\n",
              "    }\n",
              "\n",
              "    .dataframe thead th {\n",
              "        text-align: right;\n",
              "    }\n",
              "</style>\n",
              "<table border=\"1\" class=\"dataframe\">\n",
              "  <thead>\n",
              "    <tr style=\"text-align: right;\">\n",
              "      <th></th>\n",
              "      <th>italian</th>\n",
              "      <th>english_inp</th>\n",
              "      <th>english_out</th>\n",
              "    </tr>\n",
              "  </thead>\n",
              "  <tbody>\n",
              "    <tr>\n",
              "      <th>63374</th>\n",
              "      <td>ferma il conto alla rovescia</td>\n",
              "      <td>&lt;start&gt; stop the countdown &lt;end&gt;</td>\n",
              "      <td>stop the countdown &lt;end&gt; &lt;end&gt;</td>\n",
              "    </tr>\n",
              "    <tr>\n",
              "      <th>266859</th>\n",
              "      <td>dobbiamo uscire da questa tempesta</td>\n",
              "      <td>&lt;start&gt; we have to get out of this storm</td>\n",
              "      <td>we have to get out of this storm &lt;end&gt;</td>\n",
              "    </tr>\n",
              "    <tr>\n",
              "      <th>110817</th>\n",
              "      <td>che cosa stai bevendo</td>\n",
              "      <td>&lt;start&gt; what are you drinking</td>\n",
              "      <td>what are you drinking &lt;end&gt;</td>\n",
              "    </tr>\n",
              "    <tr>\n",
              "      <th>311876</th>\n",
              "      <td>mary è sia attraente che intelligente</td>\n",
              "      <td>&lt;start&gt; mary is both attractive and intelligent</td>\n",
              "      <td>mary is both attractive and intelligent &lt;end&gt;</td>\n",
              "    </tr>\n",
              "    <tr>\n",
              "      <th>311474</th>\n",
              "      <td>io vorrei parlare da solo con tom se posso</td>\n",
              "      <td>&lt;start&gt; i would like to speak to tom alone if ...</td>\n",
              "      <td>i would like to speak to tom alone if i may &lt;end&gt;</td>\n",
              "    </tr>\n",
              "  </tbody>\n",
              "</table>\n",
              "</div>"
            ],
            "text/plain": [
              "                                           italian  ...                                        english_out\n",
              "63374                 ferma il conto alla rovescia  ...                     stop the countdown <end> <end>\n",
              "266859          dobbiamo uscire da questa tempesta  ...             we have to get out of this storm <end>\n",
              "110817                       che cosa stai bevendo  ...                        what are you drinking <end>\n",
              "311876       mary è sia attraente che intelligente  ...      mary is both attractive and intelligent <end>\n",
              "311474  io vorrei parlare da solo con tom se posso  ...  i would like to speak to tom alone if i may <end>\n",
              "\n",
              "[5 rows x 3 columns]"
            ]
          },
          "execution_count": 13,
          "metadata": {
            "tags": []
          },
          "output_type": "execute_result"
        }
      ],
      "source": [
        "train.head()"
      ]
    },
    {
      "cell_type": "code",
      "execution_count": null,
      "metadata": {
        "colab": {
          "base_uri": "https://localhost:8080/",
          "height": 195
        },
        "id": "edtny3KdpL7F",
        "outputId": "1926784b-a1df-42be-dc89-20aaf31a3a9b"
      },
      "outputs": [
        {
          "data": {
            "text/html": [
              "<div>\n",
              "<style scoped>\n",
              "    .dataframe tbody tr th:only-of-type {\n",
              "        vertical-align: middle;\n",
              "    }\n",
              "\n",
              "    .dataframe tbody tr th {\n",
              "        vertical-align: top;\n",
              "    }\n",
              "\n",
              "    .dataframe thead th {\n",
              "        text-align: right;\n",
              "    }\n",
              "</style>\n",
              "<table border=\"1\" class=\"dataframe\">\n",
              "  <thead>\n",
              "    <tr style=\"text-align: right;\">\n",
              "      <th></th>\n",
              "      <th>italian</th>\n",
              "      <th>english_inp</th>\n",
              "      <th>english_out</th>\n",
              "    </tr>\n",
              "  </thead>\n",
              "  <tbody>\n",
              "    <tr>\n",
              "      <th>108634</th>\n",
              "      <td>tom sta leggendo a letto</td>\n",
              "      <td>&lt;start&gt; tom is in bed reading</td>\n",
              "      <td>tom is in bed reading &lt;end&gt;</td>\n",
              "    </tr>\n",
              "    <tr>\n",
              "      <th>321527</th>\n",
              "      <td>può fare quel che gli pare con i soldi</td>\n",
              "      <td>&lt;start&gt; he can do whatever he likes with the m...</td>\n",
              "      <td>he can do whatever he likes with the money &lt;end&gt;</td>\n",
              "    </tr>\n",
              "    <tr>\n",
              "      <th>317347</th>\n",
              "      <td>cosa potete dirci riguardo a questo dipinto</td>\n",
              "      <td>&lt;start&gt; what can you tell us about this painting</td>\n",
              "      <td>what can you tell us about this painting &lt;end&gt;</td>\n",
              "    </tr>\n",
              "    <tr>\n",
              "      <th>121368</th>\n",
              "      <td>lei è in albergo ora</td>\n",
              "      <td>&lt;start&gt; she is at the hotel now</td>\n",
              "      <td>she is at the hotel now &lt;end&gt;</td>\n",
              "    </tr>\n",
              "    <tr>\n",
              "      <th>227735</th>\n",
              "      <td>non è il caso in giappone</td>\n",
              "      <td>&lt;start&gt; that is not the case in japan</td>\n",
              "      <td>that is not the case in japan &lt;end&gt;</td>\n",
              "    </tr>\n",
              "  </tbody>\n",
              "</table>\n",
              "</div>"
            ],
            "text/plain": [
              "                                            italian  ...                                       english_out\n",
              "108634                     tom sta leggendo a letto  ...                       tom is in bed reading <end>\n",
              "321527       può fare quel che gli pare con i soldi  ...  he can do whatever he likes with the money <end>\n",
              "317347  cosa potete dirci riguardo a questo dipinto  ...    what can you tell us about this painting <end>\n",
              "121368                         lei è in albergo ora  ...                     she is at the hotel now <end>\n",
              "227735                    non è il caso in giappone  ...               that is not the case in japan <end>\n",
              "\n",
              "[5 rows x 3 columns]"
            ]
          },
          "execution_count": 14,
          "metadata": {
            "tags": []
          },
          "output_type": "execute_result"
        }
      ],
      "source": [
        "validation.head()"
      ]
    },
    {
      "cell_type": "code",
      "execution_count": null,
      "metadata": {
        "colab": {
          "base_uri": "https://localhost:8080/",
          "height": 545
        },
        "id": "cFidvqCbpOji",
        "outputId": "c4b97001-4784-4bcf-c04c-f43adc863a71"
      },
      "outputs": [
        {
          "data": {
            "image/png": "[encoded data removed]",
            "text/plain": [
              "<Figure size 432x288 with 1 Axes>"
            ]
          },
          "metadata": {
            "needs_background": "light",
            "tags": []
          },
          "output_type": "display_data"
        },
        {
          "data": {
            "image/png": "[encoded data removed]",
            "text/plain": [
              "<Figure size 432x288 with 1 Axes>"
            ]
          },
          "metadata": {
            "needs_background": "light",
            "tags": []
          },
          "output_type": "display_data"
        }
      ],
      "source": [
        "ita_lengths = train['italian'].str.split().apply(len)\n",
        "eng_lengths = train['english_inp'].str.split().apply(len)\n",
        "import seaborn as sns\n",
        "sns.kdeplot(ita_lengths)\n",
        "plt.show()\n",
        "sns.kdeplot(eng_lengths)\n",
        "plt.show()"
      ]
    },
    {
      "cell_type": "code",
      "execution_count": null,
      "metadata": {
        "id": "pz1xm7QtpRZT"
      },
      "outputs": [],
      "source": [
        "tknizer_ita = Tokenizer()\n",
        "tknizer_ita.fit_on_texts(train['italian'].values)\n",
        "tknizer_eng = Tokenizer(filters='!\"#$%&()*+,-./:;=?@[\\\\]^_`{|}~\\t\\n')\n",
        "tknizer_eng.fit_on_texts(train['english_inp'].values)"
      ]
    },
    {
      "cell_type": "code",
      "execution_count": null,
      "metadata": {
        "colab": {
          "base_uri": "https://localhost:8080/"
        },
        "id": "IxNF7ttDpTjH",
        "outputId": "c0495b4d-c224-4d6f-c72a-b5994ef0c5ed"
      },
      "outputs": [
        {
          "name": "stdout",
          "output_type": "stream",
          "text": [
            "12798\n",
            "26094\n"
          ]
        }
      ],
      "source": [
        "vocab_size_eng=len(tknizer_eng.word_index.keys())\n",
        "print(vocab_size_eng)\n",
        "vocab_size_ita=len(tknizer_ita.word_index.keys())\n",
        "print(vocab_size_ita)"
      ]
    },
    {
      "cell_type": "code",
      "execution_count": null,
      "metadata": {
        "colab": {
          "base_uri": "https://localhost:8080/"
        },
        "id": "v7jD5uXypVjX",
        "outputId": "596dde2a-ff16-4da4-fd81-45f14b413d13"
      },
      "outputs": [
        {
          "data": {
            "text/plain": [
              "(1, 10087)"
            ]
          },
          "execution_count": 18,
          "metadata": {
            "tags": []
          },
          "output_type": "execute_result"
        }
      ],
      "source": [
        "tknizer_eng.word_index['<start>'], tknizer_eng.word_index['<end>']"
      ]
    },
    {
      "cell_type": "code",
      "execution_count": null,
      "metadata": {
        "colab": {
          "base_uri": "https://localhost:8080/"
        },
        "id": "GHVBCnzqpYGn",
        "outputId": "2554f2dc-205d-4d63-9a7f-d7347a29af2d"
      },
      "outputs": [
        {
          "data": {
            "text/plain": [
              "False"
            ]
          },
          "execution_count": 19,
          "metadata": {
            "tags": []
          },
          "output_type": "execute_result"
        }
      ],
      "source": [
        "def grader_1(data):\n",
        "    shape_value = data.shape ==(340044, 3)\n",
        "    tknizer = Tokenizer(char_level=True)\n",
        "    tknizer.fit_on_texts(data['italian'].values)\n",
        "    ita_chars = tknizer.word_index.keys()\n",
        "    diff_chars_ita = set(ita_chars)-set([' ', 't', 'a', 'o', 'r', 'e', 's', 'i', 'n', 'l', 'c', 'm', 'u', 'd', 'p', 'v', 'h', 'g', 'b', 'f', 'è', 'q', 'z', 'ò', 'à', 'y', 'é', 'ì', 'ù', 'k', 'w', '0', 'j', '1', '3', '2', 'x', '9', '5', '8', '4', '6', '7', 'á', 'ñ', 'ê', 'ü', 'ō', 'î', 'ö', 'ú', 'º'])\n",
        "    tknizer = Tokenizer(char_level=True)\n",
        "    tknizer.fit_on_texts(data['english_inp'].values)\n",
        "    eng_chars = tknizer.word_index.keys()\n",
        "    diff_chars_eng = set(eng_chars)-set(['<','>',' ', 'e', 'o', 't', 'i', 'a', 'n', 's', 'h', 'r', 'l', 'd', 'm', 'y', 'u', 'w', 'g', 'c', 'p', 'f', 'b', 'k', 'v', 'j', 'x', 'z', 'q', '0', '1', '3', '2', '9', '5', '8', '6', '4', '7'])\n",
        "    unique_char_value = (len(diff_chars_eng)==0) and (len(diff_chars_ita)==0)\n",
        "    return unique_char_value and shape_value\n",
        "\n",
        "grader_1(data)"
      ]
    },
    {
      "cell_type": "code",
      "execution_count": null,
      "metadata": {
        "id": "xaPQggnbpcWn"
      },
      "outputs": [],
      "source": [
        "embeddings_index = dict()\n",
        "f = open('glove.6B.100d.txt')\n",
        "for line in f:\n",
        "    values = line.split()\n",
        "    word = values[0]\n",
        "    coefs = np.asarray(values[1:], dtype='float32')\n",
        "    embeddings_index[word] = coefs\n",
        "f.close()\n",
        "\n",
        "embedding_matrix = np.zeros((vocab_size_eng+1, 100))\n",
        "for word, i in tknizer_eng.word_index.items():\n",
        "    embedding_vector = embeddings_index.get(word)\n",
        "    if embedding_vector is not None:\n",
        "        embedding_matrix[i] = embedding_vector"
      ]
    },
    {
      "cell_type": "markdown",
      "metadata": {
        "id": "S8RDrP4xKabR"
      },
      "source": [
        "## <font color='blue'>**Implement custom encoder decoder**</font>"
      ]
    },
    {
      "cell_type": "markdown",
      "metadata": {
        "id": "A45uc0JILMlV"
      },
      "source": [
        "<font color='blue'>**Encoder**</font>"
      ]
    },
    {
      "cell_type": "code",
      "execution_count": null,
      "metadata": {
        "id": "9cex2XfCLOew"
      },
      "outputs": [],
      "source": [
        "class Encoder(tf.keras.layers.Layer):\n",
        "    '''\n",
        "    Encoder model -- That takes a input sequence and returns encoder-outputs,encoder_final_state_h,encoder_final_state_c\n",
        "    '''\n",
        "\n",
        "    def __init__(self,inp_vocab_size,embedding_size,lstm_size,input_length):\n",
        "\n",
        "        #Initialize Embedding layer\n",
        "        #Intialize Encoder LSTM layer\n",
        "        super().__init__()\n",
        "        self.vocab_size = inp_vocab_size\n",
        "        self.embedding_dim = embedding_size\n",
        "        self.input_length = input_length\n",
        "        self.enc_units= lstm_size\n",
        "        self.lstm_output = 0\n",
        "        self.lstm_state_h=0\n",
        "        self.lstm_state_c=0\n",
        "        #self.batch_sz = batch_size\n",
        "        self.embedding = Embedding(input_dim=self.vocab_size, output_dim=self.embedding_dim, input_length=self.input_length,\n",
        "                           mask_zero=True, name=\"embedding_layer_encoder\")\n",
        "        self.lstm = LSTM(self.enc_units, return_state=True, return_sequences=True, name=\"Encoder_LSTM\")\n",
        "\n",
        "\n",
        "\n",
        "    def call(self,input_sequence,states):\n",
        "        '''\n",
        "          This function takes a sequence input and the initial states of the encoder.\n",
        "          Pass the input_sequence input to the Embedding layer, Pass the embedding layer ouput to encoder_lstm\n",
        "          returns -- encoder_output, last time step's hidden and cell state\n",
        "        '''\n",
        "        input_embedd                           = self.embedding(input_sequence)\n",
        "        self.lstm_output, self.lstm_state_h,self.lstm_state_c = self.lstm(input_embedd,initial_state = [states,states])\n",
        "        return self.lstm_output, self.lstm_state_h,self.lstm_state_c\n",
        "\n",
        "\n",
        "\n",
        "\n",
        "    def initialize_states(self,batch_size):\n",
        "      return tf.zeros((batch_size, self.enc_units))\n",
        "\n",
        "    def get_states(self):\n",
        "        return self.lstm_state_h,self.lstm_state_c\n",
        "\n"
      ]
    },
    {
      "cell_type": "code",
      "execution_count": null,
      "metadata": {
        "id": "x1ES1-sJLOe4"
      },
      "outputs": [],
      "source": [
        "class Decoder(tf.keras.layers.Layer):\n",
        "    '''\n",
        "    Encoder model -- That takes a input sequence and returns output sequence\n",
        "    '''\n",
        "\n",
        "    def __init__(self,out_vocab_size,embedding_size,lstm_size,input_length):\n",
        "\n",
        "        #Initialize Embedding layer\n",
        "        #Intialize Decoder LSTM layer\n",
        "        super().__init__()\n",
        "        self.vocab_size = out_vocab_size\n",
        "        self.embedding_dim = embedding_size\n",
        "        self.dec_units = lstm_size\n",
        "        self.input_length = input_length\n",
        "        # we are using embedding_matrix and not training the embedding layer\n",
        "        self.embedding = Embedding(input_dim=self.vocab_size, output_dim=self.embedding_dim, input_length=self.input_length,\n",
        "                           mask_zero=True, name=\"embedding_layer_decoder\",trainable=True)\n",
        "        self.lstm = LSTM(self.dec_units, return_sequences=True, return_state=True, name=\"Decoder_LSTM\")\n",
        "\n",
        "\n",
        "\n",
        "\n",
        "\n",
        "    def call(self,input_sequence,initial_states,training=True):\n",
        "        '''\n",
        "          This function takes a sequence input and the initial states of the encoder.\n",
        "          Pass the input_sequence input to the Embedding layer, Pass the embedding layer ouput to decoder_lstm\n",
        "\n",
        "          returns -- decoder_output,decoder_final_state_h,decoder_final_state_c\n",
        "        '''\n",
        "        target_embedd           = self.embedding(input_sequence)\n",
        "        lstm_output, decoder_final_state_h,decoder_final_state_c       = self.lstm(target_embedd, initial_state=initial_states)\n",
        "        return lstm_output, decoder_final_state_h,decoder_final_state_c\n",
        "\n",
        "\n"
      ]
    },
    {
      "cell_type": "code",
      "execution_count": null,
      "metadata": {
        "id": "sqBdysPFzBeB"
      },
      "outputs": [],
      "source": [
        "class Dataset:\n",
        "    def __init__(self, data, tknizer_ita, tknizer_eng, max_len):\n",
        "        self.encoder_inps = data['italian'].values\n",
        "        self.decoder_inps = data['english_inp'].values\n",
        "        self.decoder_outs = data['english_out'].values\n",
        "        self.tknizer_eng = tknizer_eng\n",
        "        self.tknizer_ita = tknizer_ita\n",
        "        self.max_len = max_len\n",
        "\n",
        "    def __getitem__(self, i):\n",
        "        self.encoder_seq = self.tknizer_ita.texts_to_sequences([self.encoder_inps[i]]) # need to pass list of values\n",
        "        self.decoder_inp_seq = self.tknizer_eng.texts_to_sequences([self.decoder_inps[i]])\n",
        "        self.decoder_out_seq = self.tknizer_eng.texts_to_sequences([self.decoder_outs[i]])\n",
        "\n",
        "        self.encoder_seq = pad_sequences(self.encoder_seq, maxlen=self.max_len, dtype='int32', padding='post')\n",
        "        self.decoder_inp_seq = pad_sequences(self.decoder_inp_seq, maxlen=self.max_len, dtype='int32', padding='post')\n",
        "        self.decoder_out_seq = pad_sequences(self.decoder_out_seq, maxlen=self.max_len, dtype='int32', padding='post')\n",
        "        return self.encoder_seq, self.decoder_inp_seq, self.decoder_out_seq\n",
        "\n",
        "    def __len__(self): # your model.fit_gen requires this function\n",
        "        return len(self.encoder_inps)\n",
        "\n",
        "\n",
        "class Dataloder(tf.keras.utils.Sequence):\n",
        "    def __init__(self, dataset, batch_size=1):\n",
        "        self.dataset = dataset\n",
        "        self.batch_size = batch_size\n",
        "        self.indexes = np.arange(len(self.dataset.encoder_inps))\n",
        "\n",
        "\n",
        "    def __getitem__(self, i):\n",
        "        start = i * self.batch_size\n",
        "        stop = (i + 1) * self.batch_size\n",
        "        data = []\n",
        "        for j in range(start, stop):\n",
        "            data.append(self.dataset[j])\n",
        "\n",
        "        batch = [np.squeeze(np.stack(samples, axis=1), axis=0) for samples in zip(*data)]\n",
        "        # we are creating data like ([italian, english_inp], english_out) these are already converted into seq\n",
        "        return tuple([[batch[0],batch[1]],batch[2]])\n",
        "\n",
        "    def __len__(self):  # your model.fit_gen requires this function\n",
        "        return len(self.indexes) // self.batch_size\n",
        "\n",
        "    def on_epoch_end(self):\n",
        "        self.indexes = np.random.permutation(self.indexes)"
      ]
    },
    {
      "cell_type": "code",
      "execution_count": null,
      "metadata": {
        "colab": {
          "base_uri": "https://localhost:8080/"
        },
        "id": "l2DntjapzFLB",
        "outputId": "046bfbad-822a-429f-a0e5-768a6be77b81"
      },
      "outputs": [
        {
          "name": "stdout",
          "output_type": "stream",
          "text": [
            "(1024, 20) (1024, 20) (1024, 20)\n"
          ]
        }
      ],
      "source": [
        "train_dataset = Dataset(train, tknizer_ita, tknizer_eng, 20)\n",
        "test_dataset  = Dataset(validation, tknizer_ita, tknizer_eng, 20)\n",
        "\n",
        "train_dataloader = Dataloder(train_dataset, batch_size=1024)\n",
        "test_dataloader = Dataloder(test_dataset, batch_size=1024)\n",
        "\n",
        "\n",
        "print(train_dataloader[0][0][0].shape, train_dataloader[0][0][1].shape, train_dataloader[0][1].shape)"
      ]
    },
    {
      "cell_type": "code",
      "execution_count": null,
      "metadata": {
        "colab": {
          "base_uri": "https://localhost:8080/"
        },
        "id": "sztMHZwGkaAz",
        "outputId": "488099ad-036a-4a38-c76e-a32742fc7241"
      },
      "outputs": [
        {
          "data": {
            "text/plain": [
              "(1024, 20)"
            ]
          },
          "execution_count": 27,
          "metadata": {
            "tags": []
          },
          "output_type": "execute_result"
        }
      ],
      "source": [
        "train_dataloader[0][1].shape\n",
        "\n"
      ]
    },
    {
      "cell_type": "code",
      "execution_count": null,
      "metadata": {
        "id": "BXrIj4scLOe_"
      },
      "outputs": [],
      "source": [
        "class Encoder_decoder(tf.keras.Model):\n",
        "\n",
        "    def __init__(self,embedding_size,units,out_vocab_size,batch_size):\n",
        "\n",
        "        #Create encoder object\n",
        "        #Create decoder object\n",
        "        #Intialize Dense layer(out_vocab_size) with activation='softmax'\n",
        "        super().__init__() # https://stackoverflow.com/a/27134600/4084039\n",
        "        self.encoder = Encoder(inp_vocab_size=(vocab_size_ita+1), embedding_size=embedding_size, input_length=20, lstm_size=units)\n",
        "        self.decoder = Decoder(out_vocab_size=(vocab_size_eng+1), embedding_size=embedding_size, input_length=20, lstm_size=units)\n",
        "        self.dense   =tf.keras.layers.TimeDistributed( Dense(vocab_size_eng+1, activation='softmax'))\n",
        "        #self.batch_size=batch_size\n",
        "        self.batch_size=batch_size\n",
        "        self.initial_state=self.encoder.initialize_states(self.batch_size)\n",
        "        self.enc_units=units\n",
        "        self.encoder_output=0\n",
        "        self.decoder_output=0\n",
        "        self.encoder_h=0\n",
        "        self.encoder_c=0\n",
        "\n",
        "\n",
        "\n",
        "    def call(self,data):\n",
        "        '''\n",
        "        A. Pass the input sequence to Encoder layer -- Return encoder_output,encoder_final_state_h,encoder_final_state_c\n",
        "        B. Pass the target sequence to Decoder layer with intial states as encoder_final_state_h,encoder_final_state_C\n",
        "        C. Pass the decoder_outputs into Dense layer\n",
        "\n",
        "        Return decoder_outputs\n",
        "        '''\n",
        "        inputs,output = data[0], data[1]\n",
        "        encoder_output, encoder_h, encoder_c = self.encoder(inputs,self.initial_state)\n",
        "\n",
        "\n",
        "        decoder_output,decoder_hidden,_= self.decoder(output,[encoder_h, encoder_c])\n",
        "\n",
        "        dense_output = self.dense(decoder_output)\n",
        "        #print(dense_output.shape)\n",
        "        return dense_output\n",
        "\n",
        ""
      ]
    },
    {
      "cell_type": "code",
      "execution_count": null,
      "metadata": {
        "colab": {
          "base_uri": "https://localhost:8080/"
        },
        "id": "QR1WamctmGnH",
        "outputId": "e8f168aa-b79a-4c11-e0e4-2427fd62417a"
      },
      "outputs": [
        {
          "data": {
            "text/plain": [
              "12837"
            ]
          },
          "execution_count": 29,
          "metadata": {
            "tags": []
          },
          "output_type": "execute_result"
        }
      ],
      "source": [
        "vocab_size_eng"
      ]
    },
    {
      "cell_type": "code",
      "execution_count": null,
      "metadata": {
        "colab": {
          "base_uri": "https://localhost:8080/"
        },
        "id": "EMt2pbKwyng_",
        "outputId": "227a542b-2407-4149-d8a0-39c5e0c1b1ff"
      },
      "outputs": [
        {
          "name": "stdout",
          "output_type": "stream",
          "text": [
            "WARNING:tensorflow:`write_grads` will be ignored in TensorFlow 2.0 for the `TensorBoard` Callback.\n",
            "Epoch 1/20\n",
            "268/268 [==============================] - 133s 478ms/step - loss: 2.1726 - val_loss: 1.6139\n",
            "Epoch 2/20\n",
            "268/268 [==============================] - 129s 479ms/step - loss: 1.5571 - val_loss: 1.3576\n",
            "Epoch 3/20\n",
            "268/268 [==============================] - 129s 481ms/step - loss: 1.3091 - val_loss: 1.1729\n",
            "Epoch 4/20\n",
            "268/268 [==============================] - 129s 481ms/step - loss: 1.1371 - val_loss: 1.0354\n",
            "Epoch 5/20\n",
            "268/268 [==============================] - 129s 480ms/step - loss: 1.0007 - val_loss: 0.9197\n",
            "Epoch 6/20\n",
            "268/268 [==============================] - 129s 481ms/step - loss: 0.8829 - val_loss: 0.8233\n",
            "Epoch 7/20\n",
            "268/268 [==============================] - 129s 480ms/step - loss: 0.7835 - val_loss: 0.7418\n",
            "Epoch 8/20\n",
            "268/268 [==============================] - 129s 480ms/step - loss: 0.6969 - val_loss: 0.6731\n",
            "Epoch 9/20\n",
            "268/268 [==============================] - 129s 480ms/step - loss: 0.6240 - val_loss: 0.6120\n",
            "Epoch 10/20\n",
            "268/268 [==============================] - 129s 480ms/step - loss: 0.5593 - val_loss: 0.5605\n",
            "Epoch 11/20\n",
            "268/268 [==============================] - 129s 479ms/step - loss: 0.5010 - val_loss: 0.5136\n",
            "Epoch 12/20\n",
            "268/268 [==============================] - 129s 480ms/step - loss: 0.4486 - val_loss: 0.4733\n",
            "Epoch 13/20\n",
            "268/268 [==============================] - 129s 480ms/step - loss: 0.4031 - val_loss: 0.4372\n",
            "Epoch 14/20\n",
            "268/268 [==============================] - 129s 481ms/step - loss: 0.3629 - val_loss: 0.4082\n",
            "Epoch 15/20\n",
            "268/268 [==============================] - 129s 481ms/step - loss: 0.3274 - val_loss: 0.3813\n",
            "Epoch 16/20\n",
            "268/268 [==============================] - 129s 480ms/step - loss: 0.2982 - val_loss: 0.3592\n",
            "Epoch 17/20\n",
            "268/268 [==============================] - 129s 480ms/step - loss: 0.2709 - val_loss: 0.3414\n",
            "Epoch 18/20\n",
            "268/268 [==============================] - 129s 480ms/step - loss: 0.2480 - val_loss: 0.3231\n",
            "Epoch 19/20\n",
            "268/268 [==============================] - 129s 481ms/step - loss: 0.2273 - val_loss: 0.3115\n",
            "Epoch 20/20\n",
            "268/268 [==============================] - 128s 479ms/step - loss: 0.2091 - val_loss: 0.2981\n",
            "Model: \"encoder_decoder\"\n",
            "_________________________________________________________________\n",
            "Layer (type)                 Output Shape              Param #   \n",
            "=================================================================\n",
            "encoder (Encoder)            multiple                  2984668   \n",
            "_________________________________________________________________\n",
            "decoder (Decoder)            multiple                  1649368   \n",
            "_________________________________________________________________\n",
            "time_distributed (TimeDistri multiple                  3299366   \n",
            "=================================================================\n",
            "Total params: 7,933,402\n",
            "Trainable params: 7,933,402\n",
            "Non-trainable params: 0\n",
            "_________________________________________________________________\n"
          ]
        }
      ],
      "source": [
        "import datetime\n",
        "from keras import backend as K\n",
        "K.clear_session()\n",
        "import os\n",
        "log_dir = os.path.join(\"logs\", datetime.datetime.now().strftime(\"%Y%m%d-%H%M%S\"))\n",
        "tensorboard_callback = tf.keras.callbacks.TensorBoard(log_dir=log_dir,histogram_freq=1, write_graph=True,write_grads=True)\n",
        "\n",
        "BATCH_SIZE=1024\n",
        "model  = Encoder_decoder(units=256,out_vocab_size=vocab_size_eng,embedding_size=100,batch_size=BATCH_SIZE)\n",
        "optimizer = tf.keras.optimizers.Adam()\n",
        "model.compile(optimizer=optimizer,loss='sparse_categorical_crossentropy')\n",
        "train_steps=train.shape[0]//BATCH_SIZE\n",
        "valid_steps=validation.shape[0]//BATCH_SIZE\n",
        "history1=model.fit(train_dataloader, steps_per_epoch=train_steps, epochs=20, validation_data=test_dataloader, validation_steps=valid_steps,callbacks=[tensorboard_callback])\n",
        "model.summary()"
      ]
    },
    {
      "cell_type": "code",
      "execution_count": null,
      "metadata": {
        "id": "SkARSlZgLOfE"
      },
      "outputs": [],
      "source": [
        "def predict(input_sentence):\n",
        "\n",
        "  '''\n",
        "  A. Given input sentence, convert the sentence into integers using tokenizer used earlier\n",
        "  B. Pass the input_sequence to encoder. we get encoder_outputs, last time step hidden and cell state\n",
        "  C. Initialize index of <start> as input to decoder. and encoder final states as input_states to decoder\n",
        "  D. till we reach max_length of decoder or till the model predicted word <end>:\n",
        "         predicted_out,state_h,state_c=model.layers[1](dec_input,states)\n",
        "         pass the predicted_out to the dense layer\n",
        "         update the states=[state_h,state_c]\n",
        "         And get the index of the word with maximum probability of the dense layer output, using the tokenizer(word index) get the word and then store it in a string.\n",
        "         Update the input_to_decoder with current predictions\n",
        "  F. Return the predicted sentence\n",
        "  '''\n",
        "  sentence = preprocess_ita(input_sentence).strip()\n",
        "  inputs=tknizer_ita.texts_to_sequences(sentence)\n",
        "\n",
        "  inputs = [tknizer_ita.word_index[i] for i in sentence.split(' ') if i in tknizer_ita.word_docs ]\n",
        "  inputs = tf.keras.preprocessing.sequence.pad_sequences([inputs],\n",
        "                                                        maxlen=20,\n",
        "                                                        padding='post')\n",
        "  inputs = tf.convert_to_tensor(inputs)\n",
        "  result = ''\n",
        "  hidden = tf.zeros((1, 256))\n",
        "  enc_out, enc_hidden,enc_cell_state = model.layers[0](inputs, hidden)\n",
        "  dec_hidden = [enc_hidden,enc_cell_state]\n",
        "  dec_input = tf.expand_dims([tknizer_eng.word_index['<start>']], 0)\n",
        "  for t in range(20):\n",
        "    predictions, dec_hidden, dec_cell_state = model.layers[1](dec_input,\n",
        "                                                          dec_hidden)\n",
        "    dec_hidden=[dec_hidden, dec_cell_state]\n",
        "    predictions=model.layers[2](predictions)\n",
        "    predicted_id = tf.argmax(predictions[0][0]).numpy()\n",
        "    result += tknizer_eng.index_word[predicted_id] + ' '\n",
        "    if tknizer_eng.index_word[predicted_id] == '<end>':\n",
        "        return sentence,result\n",
        "    dec_input = tf.expand_dims([predicted_id], 0)\n",
        ""
      ]
    },
    {
      "cell_type": "code",
      "execution_count": null,
      "metadata": {
        "colab": {
          "base_uri": "https://localhost:8080/",
          "height": 35
        },
        "id": "kfl8uxq23DwH",
        "outputId": "cc563a87-91eb-42fa-8093-edfdf9e373e2"
      },
      "outputs": [
        {
          "data": {
            "application/vnd.google.colaboratory.intrinsic+json": {
              "type": "string"
            },
            "text/plain": [
              "'tom promised to go back before 230 <end> '"
            ]
          },
          "execution_count": 72,
          "metadata": {
            "tags": []
          },
          "output_type": "execute_result"
        }
      ],
      "source": [
        "predict('tom promise di ritornare prima delle due e mezza')"
      ]
    },
    {
      "cell_type": "code",
      "execution_count": null,
      "metadata": {
        "id": "cp0c6wF_AAqb"
      },
      "outputs": [],
      "source": [
        "target=validation['italian'][10000:20000].apply(predict)"
      ]
    },
    {
      "cell_type": "code",
      "execution_count": null,
      "metadata": {
        "id": "8xkHgZiSBCsL"
      },
      "outputs": [],
      "source": [
        "translation=[]\n",
        "for i,j in target:\n",
        "  translation.append(j)\n",
        ""
      ]
    },
    {
      "cell_type": "code",
      "execution_count": null,
      "metadata": {
        "id": "tcp3i5xWAAf-"
      },
      "outputs": [],
      "source": [
        "import nltk.translate.bleu_score as bleu\n",
        "reference = validation['english_out'][10000:20000] # the original\n",
        "#translation = validation['italian'][10000:20000].apply(predict)[1]\n",
        "#target=validation['italian'][10000:20000].apply(predict)[1] # trasilated using model\n",
        "#print('BLEU score: {}'.format(bleu.sentence_bleu(reference, translation)))"
      ]
    },
    {
      "cell_type": "code",
      "execution_count": null,
      "metadata": {
        "colab": {
          "base_uri": "https://localhost:8080/"
        },
        "id": "CJTxvDWrDCd2",
        "outputId": "747f4854-a709-4889-a118-945866b46000"
      },
      "outputs": [
        {
          "name": "stderr",
          "output_type": "stream",
          "text": [
            "0it [00:00, ?it/s]/usr/local/lib/python3.6/dist-packages/nltk/translate/bleu_score.py:490: UserWarning: \n",
            "Corpus/Sentence contains 0 counts of 4-gram overlaps.\n",
            "BLEU scores might be undesirable; use SmoothingFunction().\n",
            "  warnings.warn(_msg)\n",
            "/usr/local/lib/python3.6/dist-packages/nltk/translate/bleu_score.py:490: UserWarning: \n",
            "Corpus/Sentence contains 0 counts of 3-gram overlaps.\n",
            "BLEU scores might be undesirable; use SmoothingFunction().\n",
            "  warnings.warn(_msg)\n",
            "/usr/local/lib/python3.6/dist-packages/nltk/translate/bleu_score.py:490: UserWarning: \n",
            "Corpus/Sentence contains 0 counts of 2-gram overlaps.\n",
            "BLEU scores might be undesirable; use SmoothingFunction().\n",
            "  warnings.warn(_msg)\n",
            "10000it [00:01, 9921.63it/s]\n"
          ]
        }
      ],
      "source": [
        "from tqdm import tqdm\n",
        "score=0\n",
        "for i,j in tqdm(zip(reference,translation)):\n",
        "  #print(i,j)\n",
        "  score+=bleu.sentence_bleu([i.split()], j.split())"
      ]
    },
    {
      "cell_type": "code",
      "execution_count": null,
      "metadata": {
        "colab": {
          "base_uri": "https://localhost:8080/"
        },
        "id": "fNWc8r5fCilq",
        "outputId": "a6741703-6272-4479-973e-5ec05d48e136"
      },
      "outputs": [
        {
          "name": "stdout",
          "output_type": "stream",
          "text": [
            "BLEU score: 0.7292169297599584\n"
          ]
        }
      ],
      "source": [
        "print('BLEU score: {}'.format(score/10000))\n"
      ]
    },
    {
      "cell_type": "markdown",
      "metadata": {
        "id": "yZhX3K9GLOfJ"
      },
      "source": [
        "## Task -2: Including Attention mechanisum"
      ]
    },
    {
      "cell_type": "markdown",
      "metadata": {
        "id": "Q3d7GeBMGbsJ"
      },
      "source": [
        "\n",
        "1. In Global attention, we have 3 types of scoring functions(as discussed in the reference notebook).\n",
        " **We will create 3 models for each scoring function**\n",
        "<img src='https://i.imgur.com/iD2jZo3.png'>\n",
        "\n",
        "    * In model 1 We will implemnt \"dot\" score function\n",
        "    * In model 2 We will implemnt \"general\" score function\n",
        "    * In model 3 We will implemnt \"concat\" score function.<br>\n",
        "    \n"
      ]
    },
    {
      "cell_type": "markdown",
      "metadata": {
        "id": "PU4KIsGxLOfK"
      },
      "source": [
        "### <font color='blue'>**Implement custom encoder decoder and attention layers**</font>"
      ]
    },
    {
      "cell_type": "markdown",
      "metadata": {
        "id": "TMm3ADQDLOfK"
      },
      "source": [
        "<font color='blue'>**Encoder**</font>"
      ]
    },
    {
      "cell_type": "code",
      "execution_count": null,
      "metadata": {
        "id": "LWmOIOqisGOj"
      },
      "outputs": [],
      "source": [
        "class Encoder(tf.keras.layers.Layer):\n",
        "    '''\n",
        "    Encoder model -- That takes a input sequence and returns encoder-outputs,encoder_final_state_h,encoder_final_state_c\n",
        "    '''\n",
        "\n",
        "    def __init__(self,inp_vocab_size,embedding_size,lstm_size,input_length):\n",
        "\n",
        "        #Initialize Embedding layer\n",
        "        #Intialize Encoder LSTM layer\n",
        "        super().__init__()\n",
        "        self.vocab_size = inp_vocab_size\n",
        "        self.embedding_dim = embedding_size\n",
        "        self.input_length = input_length\n",
        "        self.enc_units= lstm_size\n",
        "        self.lstm_output = 0\n",
        "        self.lstm_state_h=0\n",
        "        self.lstm_state_c=0\n",
        "        #self.batch_sz = batch_size\n",
        "        self.embedding = Embedding(input_dim=self.vocab_size, output_dim=self.embedding_dim, input_length=self.input_length,\n",
        "                           mask_zero=True, name=\"embedding_layer_encoder\")\n",
        "        self.lstm = LSTM(self.enc_units, return_state=True, return_sequences=True, name=\"Encoder_LSTM\")\n",
        "\n",
        "\n",
        "\n",
        "    def call(self,input_sequence,states):\n",
        "        '''\n",
        "          This function takes a sequence input and the initial states of the encoder.\n",
        "          Pass the input_sequence input to the Embedding layer, Pass the embedding layer ouput to encoder_lstm\n",
        "          returns -- encoder_output, last time step's hidden and cell state\n",
        "        '''\n",
        "        input_embedd                           = self.embedding(input_sequence)\n",
        "        self.lstm_output, self.lstm_state_h,self.lstm_state_c = self.lstm(input_embedd,initial_state = [states,states])\n",
        "        return self.lstm_output, self.lstm_state_h,self.lstm_state_c\n",
        "\n",
        "\n",
        "\n",
        "\n",
        "    def initialize_states(self,batch_size):\n",
        "      return tf.zeros((batch_size, self.enc_units))\n",
        "\n",
        "    def get_states(self):\n",
        "        return self.lstm_state_h,self.lstm_state_c\n",
        "\n"
      ]
    },
    {
      "cell_type": "markdown",
      "metadata": {
        "id": "lXn278lhLYRM"
      },
      "source": [
        "<font color='blue'>**Attention**</font>"
      ]
    },
    {
      "cell_type": "code",
      "execution_count": null,
      "metadata": {
        "id": "ab5SNdPZLlur"
      },
      "outputs": [],
      "source": [
        "from numpy.linalg import multi_dot\n",
        "class Attention(tf.keras.layers.Layer):\n",
        "  '''\n",
        "    Class the calculates score based on the scoring_function using Bahdanu attention mechanism.\n",
        "  '''\n",
        "  def __init__(self,scoring_function, att_units):\n",
        "\n",
        "\n",
        "    # Please go through the reference notebook and research paper to complete the scoring functions\n",
        "    super().__init__()\n",
        "\n",
        "    self.scoring_function=scoring_function.strip()\n",
        "    self.enc_units=att_units\n",
        "    self.weig=[]\n",
        "    self.context_vector=[]\n",
        "\n",
        "\n",
        "    if self.scoring_function=='dot':\n",
        "      # Intialize variables needed for Dot score function here\n",
        "      pass\n",
        "    if scoring_function == 'general':\n",
        "      #self.W = self.add_weight('kernal',shape=[self.enc_units,self.enc_units])\n",
        "      self.W1 = tf.keras.layers.Dense(self.enc_units)\n",
        "      #self.W2 = tf.keras.layers.Dense(self.enc_units)\n",
        "      #self.V = tf.keras.layers.Dense(1)\n",
        "      # Intialize variables needed for General score function here\n",
        "\n",
        "      pass\n",
        "    elif scoring_function == 'concat':\n",
        "\n",
        "      # Intialize variables needed for Concat score function here\n",
        "      self.W1 = tf.keras.layers.Dense(self.enc_units)\n",
        "      self.W2 = tf.keras.layers.Dense(self.enc_units)\n",
        "      self.V = tf.keras.layers.Dense(1)\n",
        "\n",
        "      pass\n",
        "\n",
        "\n",
        "\n",
        "  def call(self,decoder_hidden_state,encoder_output):\n",
        "    '''\n",
        "      Attention mechanism takes two inputs current step -- decoder_hidden_state and all the encoder_outputs.\n",
        "      * Based on the scoring function we will find the score or similarity between decoder_hidden_state and encoder_output.\n",
        "        Multiply the score function with your encoder_outputs to get the context vector.\n",
        "        Function returns context vector and attention weights(softmax - scores)\n",
        "    '''\n",
        "\n",
        "    if self.scoring_function == 'dot':\n",
        "        # Implement Dot score function here\n",
        "        decoder_hidden_state = tf.keras.layers.Reshape((self.enc_units, 1))(decoder_hidden_state)\n",
        "\n",
        "\n",
        "\n",
        "        score = tf.keras.layers.dot([encoder_output,decoder_hidden_state],[2, 1])\n",
        "        #self.weig=tf.expand_dims(tf.convert_to_tensor(temp_2, dtype=tf.float32),axis=2)\n",
        "        self.weig = tf.nn.softmax(score, axis=1)\n",
        "        self.context_vector=self.weig*encoder_output\n",
        "        self.context_vector = tf.reduce_sum(self.context_vector, axis=1)\n",
        "\n",
        "    elif self.scoring_function == 'general':\n",
        "        # Implement General score function here\n",
        "        decoder_hidden_state = tf.keras.layers.Reshape((self.enc_units, 1))(decoder_hidden_state)\n",
        "        #score=tf.matmul(decoder_hidden_state,self.W1(encoder_output),transpose_b=True)\n",
        "\n",
        "        score = tf.keras.layers.dot([self.W1(encoder_output),decoder_hidden_state],[2, 1])\n",
        "        self.weig = tf.nn.softmax(score, axis=1)\n",
        "        self.context_vector=self.weig*encoder_output\n",
        "        self.context_vector = tf.reduce_sum(self.context_vector, axis=1)\n",
        "\n",
        "\n",
        "\n",
        "    elif self.scoring_function == 'concat':\n",
        "        # Implement General score function here\n",
        "        # query hidden state shape == (batch_size, hidden size)\n",
        "        # query_with_time_axis shape == (batch_size, 1, hidden size)\n",
        "        # values shape == (batch_size, max_len, hidden size)\n",
        "        # we are doing this to broadcast addition along the time axis to calculate the score\n",
        "        query_with_time_axis = tf.expand_dims(decoder_hidden_state, 1)\n",
        "\n",
        "        # score shape == (batch_size, max_length, 1)\n",
        "        # we get 1 at the last axis because we are applying score to self.V\n",
        "        # the shape of the tensor before applying self.V is (batch_size, max_length, units)\n",
        "        score = self.V(tf.nn.tanh(\n",
        "            self.W1(query_with_time_axis) + self.W2(encoder_output)))\n",
        "\n",
        "        # attention_weights shape == (batch_size, max_length, 1)\n",
        "        self.weig = tf.nn.softmax(score, axis=1)\n",
        "\n",
        "        # context_vector shape after sum == (batch_size, hidden_size)\n",
        "        self.context_vector = self.weig * encoder_output\n",
        "        self.context_vector = tf.reduce_sum(self.context_vector, axis=1)\n",
        "\n",
        "        #return self.context_vector, attention_weights\n",
        "    return self.context_vector,self.weig\n",
        "\n",
        "\n",
        ""
      ]
    },
    {
      "cell_type": "code",
      "execution_count": null,
      "metadata": {
        "id": "5BYQUTeiRU-r"
      },
      "outputs": [],
      "source": [
        "input_length=10\n",
        "batch_size=16\n",
        "att_units=32\n",
        "scoring_fun='general'\n",
        "state_h=tf.random.uniform(shape=[batch_size,att_units])\n",
        "encoder_output=tf.random.uniform(shape=[batch_size,input_length,att_units])\n",
        "attention=Attention(scoring_fun,att_units)\n",
        "context_vector,attention_weights=attention(state_h,encoder_output)"
      ]
    },
    {
      "cell_type": "markdown",
      "metadata": {
        "id": "ic-FNEbfL2DN"
      },
      "source": [
        "<font color='blue'>**OneStepDecoder**</font>"
      ]
    },
    {
      "cell_type": "code",
      "execution_count": null,
      "metadata": {
        "id": "Kc8m7lmOL097"
      },
      "outputs": [],
      "source": [
        "class OneStepDecoder(tf.keras.Model):\n",
        "  def __init__(self,tar_vocab_size, embedding_dim, input_length, dec_units ,score_fun ,att_units):\n",
        "\n",
        "      # Initialize decoder embedding layer, LSTM and any other objects needed\n",
        "\n",
        "      super().__init__()\n",
        "      self.vocab_size = tar_vocab_size\n",
        "      self.embedding_dim = embedding_dim\n",
        "      self.input_length = input_length\n",
        "      self.enc_units= dec_units\n",
        "      self.lstm_output = 0\n",
        "      self.lstm_state_h=0\n",
        "      self.lstm_state_c=0\n",
        "      self.context_vector=0\n",
        "      self.attention_weights=0\n",
        "      self.x=0\n",
        "      self.attention=Attention(score_fun,att_units)\n",
        "      #context_vector,attention_weights=attention(state_h,encoder_output)\n",
        "      #self.batch_sz = batch_size\n",
        "      self.embedding = Embedding(input_dim=self.vocab_size, output_dim=self.embedding_dim, input_length=self.input_length,\n",
        "                          mask_zero=True, name=\"embedding_layer_decoder\")\n",
        "      self.lstm = LSTM(self.enc_units, return_state=True, return_sequences=True, name=\"decoder_LSTM\")\n",
        "      self.dense   =tf.keras.layers.TimeDistributed( Dense(self.vocab_size))\n",
        "\n",
        "\n",
        "\n",
        "  def call(self,input_to_decoder, encoder_output, state_h,state_c):\n",
        "    '''\n",
        "        One step decoder mechanisim step by step:\n",
        "      A. Pass the input_to_decoder to the embedding layer and then get the output(batch_size,1,embedding_dim)\n",
        "      B. Using the encoder_output and decoder hidden state, compute the context vector.\n",
        "      C. Concat the context vector with the step A output\n",
        "      D. Pass the Step-C output to LSTM/GRU and get the decoder output and states(hidden and cell state)\n",
        "      E. Pass the decoder output to dense layer(vocab size) and store the result into output.\n",
        "      F. Return the states from step D, output from Step E, attention weights from Step -B\n",
        "\n",
        "    '''\n",
        "    target_embedd           = self.embedding(input_to_decoder)\n",
        "    self.context_vector,self.attention_weights=self.attention(state_h,encoder_output)\n",
        "    self.x = tf.concat([tf.expand_dims(self.context_vector, 1), target_embedd], axis=-1)\n",
        "\n",
        "\n",
        "    #initial_states=[state_h,state_c]\n",
        "    lstm_output, decoder_final_state_h,decoder_final_state_c  = self.lstm(self.x, initial_state=[state_h,state_c])\n",
        "    dense_output = self.dense(lstm_output)\n",
        "    dense_output = tf.reshape(dense_output, (-1, dense_output.shape[2]))\n",
        "    return dense_output,decoder_final_state_h,decoder_final_state_c, self.attention_weights,self.context_vector\n",
        "\n"
      ]
    },
    {
      "cell_type": "markdown",
      "metadata": {
        "id": "6FHrurjUMGAi"
      },
      "source": [
        "<font color='blue'>**Decoder**</font>"
      ]
    },
    {
      "cell_type": "code",
      "execution_count": null,
      "metadata": {
        "id": "NV-x31rj6Hc4"
      },
      "outputs": [],
      "source": [
        "class Decoder(tf.keras.Model):\n",
        "    def __init__(self,out_vocab_size, embedding_dim, input_length, dec_units ,score_fun ,att_units):\n",
        "      #Intialize necessary variables and create an object from the class onestepdecoder\n",
        "      super().__init__()\n",
        "      self.vocab_size = out_vocab_size\n",
        "      self.embedding_dim = embedding_dim\n",
        "      self.input_length = input_length\n",
        "      self.enc_units= dec_units\n",
        "      self.score_fun=score_fun\n",
        "      self.onestepdecoder=OneStepDecoder(self.vocab_size , self.embedding_dim, self.input_length, self.enc_units ,self.score_fun ,self.enc_units)\n",
        "\n",
        "    #@tf.function\n",
        "    def call(self, input_to_decoder,encoder_output,decoder_hidden_state,decoder_cell_state ):\n",
        "\n",
        "        #Initialize an empty Tensor array, that will store the outputs at each and every time step\n",
        "        #Create a tensor array as shown in the reference notebook\n",
        "\n",
        "        #Iterate till the length of the decoder input\n",
        "            # Call onestepdecoder for each token in decoder_input\n",
        "            # Store the output in tensorarray\n",
        "        # Return the tensor array\n",
        "        #print(input_to_decoder.shape,encoder_output.shape)\n",
        "        all_outputs=tf.TensorArray(tf.float32,size=0,name='output_array',dynamic_size=True)\n",
        "        #print(self.onestepdecoder)\n",
        "        i=20\n",
        "        #all_outputs=[]\n",
        "        for t in range(20):\n",
        "          #print(input_to_decoder[:,t:t+1].shape)\n",
        "          output,state_h,state_c,attention_weights,context_vector=self.onestepdecoder(input_to_decoder[:,t:t+1],encoder_output,decoder_hidden_state,decoder_cell_state)\n",
        "\n",
        "          decoder_hidden_state=state_h\n",
        "          decoder_cell_state=state_c\n",
        "          all_outputs=all_outputs.write(t,output)\n",
        "        all_outputs=tf.transpose(all_outputs.stack(),[1,0,2])\n",
        "        return all_outputs\n",
        "\n",
        "\n",
        "\n",
        "\n",
        "\n",
        "\n",
        "\n",
        ""
      ]
    },
    {
      "cell_type": "markdown",
      "metadata": {
        "id": "fC1T1EOoMTqC"
      },
      "source": [
        "<font color='blue'>**Encoder Decoder model**</font>"
      ]
    },
    {
      "cell_type": "code",
      "execution_count": null,
      "metadata": {
        "id": "FfqBIe20MT3D"
      },
      "outputs": [],
      "source": [
        "class encoder_decoder(tf.keras.Model):\n",
        "  def __init__(self,embedding_size,units,score_fun,batch_size):\n",
        "    #Intialize objects from encoder decoder\n",
        "    super().__init__() # https://stackoverflow.com/a/27134600/4084039\n",
        "    self.encoder = Encoder(inp_vocab_size=(vocab_size_ita+1), embedding_size=embedding_size, input_length=20, lstm_size=units)\n",
        "    self.decoder = Decoder(out_vocab_size=(vocab_size_eng+1), embedding_dim=embedding_size, input_length=20,dec_units=units,score_fun=score_fun,att_units=units)\n",
        "    self.batch_size=batch_size\n",
        "    self.initial_state=self.encoder.initialize_states(self.batch_size)\n",
        "    self.enc_units=units\n",
        "    self.encoder_output=0\n",
        "    self.decoder_output=0\n",
        "    self.encoder_h=0\n",
        "    self.encoder_c=0\n",
        "\n",
        "\n",
        "  def call(self,data,training=True):\n",
        "    #Intialize encoder states, Pass the encoder_sequence to the embedding layer\n",
        "    # Decoder initial states are encoder final states, Initialize it accordingly\n",
        "    # Pass the decoder sequence,encoder_output,decoder states to Decoder\n",
        "    # return the decoder output\n",
        "    inputs,output = data[0], data[1]\n",
        "    encoder_output, encoder_h, encoder_c = self.encoder(inputs,self.initial_state)\n",
        "\n",
        "\n",
        "    decoder_output= self.decoder(output,encoder_output,encoder_h, encoder_c)\n",
        "    #print('first')\n",
        "    #print(type(decoder_output))\n",
        "\n",
        "    #dense_output = self.dense(decoder_output)\n",
        "    return decoder_output\n",
        "\n",
        "\n"
      ]
    },
    {
      "cell_type": "markdown",
      "metadata": {
        "id": "WVRxB-FDMJWL"
      },
      "source": [
        "<font color='blue'>**Custom loss function**</font>"
      ]
    },
    {
      "cell_type": "code",
      "execution_count": null,
      "metadata": {
        "id": "N3vhJ_4SiJaP"
      },
      "outputs": [],
      "source": [
        "#Reference: https://www.tensorflow.org/tutorials/text/nmt_with_attention\n",
        "loss_object = tf.keras.losses.SparseCategoricalCrossentropy(from_logits=True, reduction='none')\n",
        "def loss_function(real, pred):\n",
        "  mask = tf.math.logical_not(tf.math.equal(real, 0))\n",
        "  loss_ = loss_object(real, pred)\n",
        "\n",
        "  mask = tf.cast(mask, dtype=loss_.dtype)\n",
        "  loss_ *= mask\n",
        "\n",
        "  return tf.reduce_mean(loss_)"
      ]
    },
    {
      "cell_type": "markdown",
      "metadata": {
        "id": "2QlbWAqNNlqe"
      },
      "source": [
        "<font color='blue'>**Training**</font>"
      ]
    },
    {
      "cell_type": "code",
      "execution_count": null,
      "metadata": {
        "colab": {
          "base_uri": "https://localhost:8080/"
        },
        "id": "e0LhVge1WQcn",
        "outputId": "8f9dd53b-ca86-40ef-9716-8b6514a27821"
      },
      "outputs": [
        {
          "name": "stdout",
          "output_type": "stream",
          "text": [
            "WARNING:tensorflow:`write_grads` will be ignored in TensorFlow 2.0 for the `TensorBoard` Callback.\n",
            "Epoch 1/20\n",
            "268/268 [==============================] - 180s 573ms/step - loss: 2.1230 - val_loss: 1.6162\n",
            "Epoch 2/20\n",
            "268/268 [==============================] - 144s 536ms/step - loss: 1.5776 - val_loss: 1.4261\n",
            "Epoch 3/20\n",
            "268/268 [==============================] - 144s 539ms/step - loss: 1.3547 - val_loss: 1.1527\n",
            "Epoch 4/20\n",
            "268/268 [==============================] - 144s 539ms/step - loss: 1.0879 - val_loss: 0.9391\n",
            "Epoch 5/20\n",
            "268/268 [==============================] - 144s 537ms/step - loss: 0.8748 - val_loss: 0.7691\n",
            "Epoch 6/20\n",
            "268/268 [==============================] - 145s 540ms/step - loss: 0.7087 - val_loss: 0.6398\n",
            "Epoch 7/20\n",
            "268/268 [==============================] - 145s 539ms/step - loss: 0.5761 - val_loss: 0.5388\n",
            "Epoch 8/20\n",
            "268/268 [==============================] - 144s 539ms/step - loss: 0.4727 - val_loss: 0.4636\n",
            "Epoch 9/20\n",
            "268/268 [==============================] - 144s 537ms/step - loss: 0.3903 - val_loss: 0.4061\n",
            "Epoch 10/20\n",
            "268/268 [==============================] - 144s 539ms/step - loss: 0.3273 - val_loss: 0.3617\n",
            "Epoch 11/20\n",
            "268/268 [==============================] - 145s 539ms/step - loss: 0.2774 - val_loss: 0.3284\n",
            "Epoch 12/20\n",
            "268/268 [==============================] - 145s 540ms/step - loss: 0.2382 - val_loss: 0.3027\n",
            "Epoch 13/20\n",
            "268/268 [==============================] - 145s 540ms/step - loss: 0.2075 - val_loss: 0.2813\n",
            "Epoch 14/20\n",
            "268/268 [==============================] - 145s 542ms/step - loss: 0.1812 - val_loss: 0.2652\n",
            "Epoch 15/20\n",
            "268/268 [==============================] - 145s 541ms/step - loss: 0.1587 - val_loss: 0.2520\n",
            "Epoch 16/20\n",
            "268/268 [==============================] - 145s 540ms/step - loss: 0.1415 - val_loss: 0.2417\n",
            "Epoch 17/20\n",
            "268/268 [==============================] - 145s 541ms/step - loss: 0.1271 - val_loss: 0.2321\n",
            "Epoch 18/20\n",
            "268/268 [==============================] - 145s 540ms/step - loss: 0.1134 - val_loss: 0.2255\n",
            "Epoch 19/20\n",
            "268/268 [==============================] - 144s 539ms/step - loss: 0.1030 - val_loss: 0.2197\n",
            "Epoch 20/20\n",
            "268/268 [==============================] - 144s 536ms/step - loss: 0.0929 - val_loss: 0.2140\n",
            "Model: \"encoder_decoder_4\"\n",
            "_________________________________________________________________\n",
            "Layer (type)                 Output Shape              Param #   \n",
            "=================================================================\n",
            "encoder_5 (Encoder)          multiple                  9754818   \n",
            "_________________________________________________________________\n",
            "decoder_5 (Decoder)          multiple                  8652705   \n",
            "=================================================================\n",
            "Total params: 18,407,523\n",
            "Trainable params: 18,407,523\n",
            "Non-trainable params: 0\n",
            "_________________________________________________________________\n"
          ]
        }
      ],
      "source": [
        "BATCH_SIZE=1024\n",
        "model_dot  = encoder_decoder(units=256,embedding_size=350,batch_size=BATCH_SIZE,score_fun='dot')\n",
        "optimizer = tf.keras.optimizers.Adam()\n",
        "log_dir = os.path.join(\"logs\", datetime.datetime.now().strftime(\"%Y%m%d-%H%M%S\"))\n",
        "tensorboard_callback = tf.keras.callbacks.TensorBoard(log_dir=log_dir,histogram_freq=1, write_graph=True,write_grads=True)\n",
        "\n",
        "model_dot.compile(optimizer=optimizer,loss=loss_function)\n",
        "train_steps=train.shape[0]//BATCH_SIZE\n",
        "valid_steps=validation.shape[0]//BATCH_SIZE\n",
        "model_dot.fit(train_dataloader, steps_per_epoch=train_steps, epochs=20, validation_data=test_dataloader, validation_steps=valid_steps,callbacks=[tensorboard_callback])\n",
        "model_dot.summary()"
      ]
    },
    {
      "cell_type": "code",
      "execution_count": null,
      "metadata": {
        "colab": {
          "base_uri": "https://localhost:8080/"
        },
        "id": "nnT31icE2NQK",
        "outputId": "e034af0d-ef12-47b8-bea7-891687135b1d"
      },
      "outputs": [
        {
          "name": "stdout",
          "output_type": "stream",
          "text": [
            "WARNING:tensorflow:`write_grads` will be ignored in TensorFlow 2.0 for the `TensorBoard` Callback.\n",
            "Epoch 1/20\n",
            "268/268 [==============================] - 195s 625ms/step - loss: 2.1243 - val_loss: 1.6409\n",
            "Epoch 2/20\n",
            "268/268 [==============================] - 157s 586ms/step - loss: 1.6094 - val_loss: 1.4635\n",
            "Epoch 3/20\n",
            "268/268 [==============================] - 158s 588ms/step - loss: 1.4110 - val_loss: 1.2327\n",
            "Epoch 4/20\n",
            "268/268 [==============================] - 157s 587ms/step - loss: 1.1616 - val_loss: 0.9887\n",
            "Epoch 5/20\n",
            "268/268 [==============================] - 158s 589ms/step - loss: 0.9220 - val_loss: 0.7930\n",
            "Epoch 6/20\n",
            "268/268 [==============================] - 158s 591ms/step - loss: 0.7239 - val_loss: 0.6354\n",
            "Epoch 7/20\n",
            "268/268 [==============================] - 159s 592ms/step - loss: 0.5656 - val_loss: 0.5178\n",
            "Epoch 8/20\n",
            "268/268 [==============================] - 159s 592ms/step - loss: 0.4461 - val_loss: 0.4310\n",
            "Epoch 9/20\n",
            "268/268 [==============================] - 159s 592ms/step - loss: 0.3594 - val_loss: 0.3744\n",
            "Epoch 10/20\n",
            "268/268 [==============================] - 158s 591ms/step - loss: 0.2944 - val_loss: 0.3313\n",
            "Epoch 11/20\n",
            "268/268 [==============================] - 159s 592ms/step - loss: 0.2471 - val_loss: 0.2984\n",
            "Epoch 12/20\n",
            "268/268 [==============================] - 159s 592ms/step - loss: 0.2106 - val_loss: 0.2792\n",
            "Epoch 13/20\n",
            "268/268 [==============================] - 159s 594ms/step - loss: 0.1824 - val_loss: 0.2580\n",
            "Epoch 14/20\n",
            "268/268 [==============================] - 159s 594ms/step - loss: 0.1597 - val_loss: 0.2440\n",
            "Epoch 15/20\n",
            "268/268 [==============================] - 159s 592ms/step - loss: 0.1413 - val_loss: 0.2319\n",
            "Epoch 16/20\n",
            "268/268 [==============================] - 159s 593ms/step - loss: 0.1274 - val_loss: 0.2245\n",
            "Epoch 17/20\n",
            "268/268 [==============================] - 159s 594ms/step - loss: 0.1137 - val_loss: 0.2177\n",
            "Epoch 18/20\n",
            "268/268 [==============================] - 159s 594ms/step - loss: 0.1050 - val_loss: 0.2105\n",
            "Epoch 19/20\n",
            "268/268 [==============================] - 159s 593ms/step - loss: 0.0944 - val_loss: 0.2057\n",
            "Epoch 20/20\n",
            "268/268 [==============================] - 158s 590ms/step - loss: 0.0871 - val_loss: 0.2036\n",
            "Model: \"encoder_decoder_3\"\n",
            "_________________________________________________________________\n",
            "Layer (type)                 Output Shape              Param #   \n",
            "=================================================================\n",
            "encoder_4 (Encoder)          multiple                  9754818   \n",
            "_________________________________________________________________\n",
            "decoder_4 (Decoder)          multiple                  8718497   \n",
            "=================================================================\n",
            "Total params: 18,473,315\n",
            "Trainable params: 18,473,315\n",
            "Non-trainable params: 0\n",
            "_________________________________________________________________\n"
          ]
        }
      ],
      "source": [
        "BATCH_SIZE=1024\n",
        "model_gen  = encoder_decoder(units=256,embedding_size=350,batch_size=BATCH_SIZE,score_fun='general')\n",
        "optimizer = tf.keras.optimizers.Adam()\n",
        "log_dir = os.path.join(\"logs\", datetime.datetime.now().strftime(\"%Y%m%d-%H%M%S\"))\n",
        "tensorboard_callback = tf.keras.callbacks.TensorBoard(log_dir=log_dir,histogram_freq=1, write_graph=True,write_grads=True)\n",
        "\n",
        "model_gen.compile(optimizer=optimizer,loss=loss_function)\n",
        "train_steps=train.shape[0]//BATCH_SIZE\n",
        "valid_steps=validation.shape[0]//BATCH_SIZE\n",
        "model_gen.fit(train_dataloader, steps_per_epoch=train_steps, epochs=20, validation_data=test_dataloader, validation_steps=valid_steps,callbacks=[tensorboard_callback])\n",
        "model_gen.summary()"
      ]
    },
    {
      "cell_type": "code",
      "execution_count": null,
      "metadata": {
        "colab": {
          "base_uri": "https://localhost:8080/"
        },
        "id": "WVfpZbtz2Pmx",
        "outputId": "6dc381fd-f622-44b5-a332-5bece6efbb84"
      },
      "outputs": [
        {
          "name": "stdout",
          "output_type": "stream",
          "text": [
            "WARNING:tensorflow:`write_grads` will be ignored in TensorFlow 2.0 for the `TensorBoard` Callback.\n",
            "Epoch 1/20\n",
            "268/268 [==============================] - 202s 643ms/step - loss: 2.1169 - val_loss: 1.6062\n",
            "Epoch 2/20\n",
            "268/268 [==============================] - 164s 610ms/step - loss: 1.5560 - val_loss: 1.3794\n",
            "Epoch 3/20\n",
            "268/268 [==============================] - 164s 610ms/step - loss: 1.2964 - val_loss: 1.0828\n",
            "Epoch 4/20\n",
            "268/268 [==============================] - 163s 609ms/step - loss: 0.9979 - val_loss: 0.8443\n",
            "Epoch 5/20\n",
            "268/268 [==============================] - 163s 609ms/step - loss: 0.7590 - val_loss: 0.6772\n",
            "Epoch 6/20\n",
            "268/268 [==============================] - 164s 611ms/step - loss: 0.5847 - val_loss: 0.5553\n",
            "Epoch 7/20\n",
            "268/268 [==============================] - 164s 612ms/step - loss: 0.4588 - val_loss: 0.4741\n",
            "Epoch 8/20\n",
            "268/268 [==============================] - 164s 611ms/step - loss: 0.3697 - val_loss: 0.4242\n",
            "Epoch 9/20\n",
            "268/268 [==============================] - 164s 612ms/step - loss: 0.3043 - val_loss: 0.3750\n",
            "Epoch 10/20\n",
            "268/268 [==============================] - 164s 613ms/step - loss: 0.2570 - val_loss: 0.3463\n",
            "Epoch 11/20\n",
            "268/268 [==============================] - 164s 612ms/step - loss: 0.2211 - val_loss: 0.3252\n",
            "Epoch 12/20\n",
            "268/268 [==============================] - 164s 613ms/step - loss: 0.1921 - val_loss: 0.3152\n",
            "Epoch 13/20\n",
            "268/268 [==============================] - 163s 609ms/step - loss: 0.1685 - val_loss: 0.2930\n",
            "Epoch 14/20\n",
            "268/268 [==============================] - 164s 612ms/step - loss: 0.1519 - val_loss: 0.2904\n",
            "Epoch 15/20\n",
            "268/268 [==============================] - 164s 612ms/step - loss: 0.1352 - val_loss: 0.2806\n",
            "Epoch 16/20\n",
            "268/268 [==============================] - 164s 611ms/step - loss: 0.1217 - val_loss: 0.2742\n",
            "Epoch 17/20\n",
            "268/268 [==============================] - 164s 613ms/step - loss: 0.1112 - val_loss: 0.2749\n",
            "Epoch 18/20\n",
            "268/268 [==============================] - 164s 612ms/step - loss: 0.1019 - val_loss: 0.2639\n",
            "Epoch 19/20\n",
            "268/268 [==============================] - 164s 611ms/step - loss: 0.0940 - val_loss: 0.2544\n",
            "Epoch 20/20\n",
            "268/268 [==============================] - 164s 610ms/step - loss: 0.0866 - val_loss: 0.2452\n",
            "Model: \"encoder_decoder_2\"\n",
            "_________________________________________________________________\n",
            "Layer (type)                 Output Shape              Param #   \n",
            "=================================================================\n",
            "encoder_3 (Encoder)          multiple                  9754818   \n",
            "_________________________________________________________________\n",
            "decoder_3 (Decoder)          multiple                  8784546   \n",
            "=================================================================\n",
            "Total params: 18,539,364\n",
            "Trainable params: 18,539,364\n",
            "Non-trainable params: 0\n",
            "_________________________________________________________________\n"
          ]
        }
      ],
      "source": [
        "BATCH_SIZE=1024\n",
        "import os\n",
        "import datetime\n",
        "model_con  = encoder_decoder(units=256,embedding_size=350,batch_size=BATCH_SIZE,score_fun='concat')\n",
        "optimizer = tf.keras.optimizers.Adam()\n",
        "log_dir = os.path.join(\"logs\", datetime.datetime.now().strftime(\"%Y%m%d-%H%M%S\"))\n",
        "tensorboard_callback = tf.keras.callbacks.TensorBoard(log_dir=log_dir,histogram_freq=1, write_graph=True,write_grads=True)\n",
        "\n",
        "model_con.compile(optimizer=optimizer,loss=loss_function)\n",
        "train_steps=train.shape[0]//BATCH_SIZE\n",
        "valid_steps=validation.shape[0]//BATCH_SIZE\n",
        "model_con.fit(train_dataloader, steps_per_epoch=train_steps, epochs=20, validation_data=test_dataloader,callbacks=[tensorboard_callback], validation_steps=valid_steps)\n",
        "model_con.summary()"
      ]
    },
    {
      "cell_type": "markdown",
      "metadata": {
        "id": "wqtZUQF2NuZE"
      },
      "source": [
        "Implement dot function here."
      ]
    },
    {
      "cell_type": "markdown",
      "metadata": {
        "id": "6DpC9zlzMcXp"
      },
      "source": [
        "## <font color='blue'>**Inference**</font>"
      ]
    },
    {
      "cell_type": "markdown",
      "metadata": {
        "id": "e1IhdBrgQYJr"
      },
      "source": [
        "<font color='blue'>**Predict the sentence translation**</font>"
      ]
    },
    {
      "cell_type": "markdown",
      "metadata": {
        "id": "83p349SwC34Q"
      },
      "source": [
        "##Translation for concat model"
      ]
    },
    {
      "cell_type": "code",
      "execution_count": null,
      "metadata": {
        "id": "HoT3IoAkj9zd"
      },
      "outputs": [],
      "source": [
        "import matplotlib.pyplot as plt\n",
        "import matplotlib.ticker as ticker\n",
        "#regference: https://www.tensorflow.org/tutorials/text/nmt_with_attention\n",
        "\n",
        "def plot_attention(attention, sentence, predicted_sentence):\n",
        "  fig = plt.figure(figsize=(10,10))\n",
        "  ax = fig.add_subplot(1, 1, 1)\n",
        "  cax=ax.matshow(attention, cmap='viridis')\n",
        "  fig.colorbar(cax)\n",
        "\n",
        "  fontdict = {'fontsize': 14}\n",
        "\n",
        "  ax.set_xticklabels([''] + sentence, fontdict=fontdict, rotation=90)\n",
        "  ax.set_yticklabels([''] + predicted_sentence, fontdict=fontdict)\n",
        "\n",
        "  ax.xaxis.set_major_locator(ticker.MultipleLocator(1))\n",
        "  ax.yaxis.set_major_locator(ticker.MultipleLocator(1))\n",
        "\n",
        "  plt.show()"
      ]
    },
    {
      "cell_type": "code",
      "execution_count": null,
      "metadata": {
        "id": "MP3kLZoPMvSu"
      },
      "outputs": [],
      "source": [
        "def predict(input_sentence):\n",
        "\n",
        "  '''\n",
        "  A. Given input sentence, convert the sentence into integers using tokenizer used earlier\n",
        "  B. Pass the input_sequence to encoder. we get encoder_outputs, last time step hidden and cell state\n",
        "  C. Initialize index of <start> as input to decoder. and encoder final states as input_states to onestepdecoder.\n",
        "  D. till we reach max_length of decoder or till the model predicted word <end>:\n",
        "         predictions, input_states, attention_weights = model.layers[1].onestepdecoder(input_to_decoder, encoder_output, input_states)\n",
        "         Save the attention weights\n",
        "         And get the word using the tokenizer(word index) and then store it in a string.\n",
        "  E. Call plot_attention(#params)\n",
        "  F. Return the predicted sentence\n",
        "  '''\n",
        "  sentence = preprocess_ita(input_sentence).strip()\n",
        "  inputs=tknizer_ita.texts_to_sequences(sentence)\n",
        "\n",
        "  inputs = [tknizer_ita.word_index[i] for i in sentence.split(' ') if i in tknizer_ita.word_docs ]\n",
        "  inputs = tf.keras.preprocessing.sequence.pad_sequences([inputs],\n",
        "                                                        maxlen=20,\n",
        "                                                        padding='post')\n",
        "  attention_plot = np.zeros((20, 20))\n",
        "  inputs = tf.convert_to_tensor(inputs)\n",
        "  result = ''\n",
        "  hidden = tf.zeros((1, 256))\n",
        "  enc_out, enc_hidden,enc_cell_state = model_con.layers[0](inputs, hidden)\n",
        "  dec_hidden = [enc_hidden,enc_cell_state]\n",
        "  dec_input = tf.expand_dims([tknizer_eng.word_index['<start>']], 0)\n",
        "  for t in range(20):\n",
        "    predictions, dec_hidden, dec_cell_state,attention_weights,context_vector = model_con.layers[1].onestepdecoder(dec_input,enc_out,dec_hidden[0],dec_hidden[1])\n",
        "    dec_hidden=[dec_hidden, dec_cell_state]\n",
        "    attention_weights = tf.reshape(attention_weights, (-1, ))\n",
        "    attention_plot[t] = attention_weights.numpy()\n",
        "    predicted_id = tf.argmax(predictions[0]).numpy()\n",
        "\n",
        "    result += tknizer_eng.index_word[predicted_id] + ' '\n",
        "\n",
        "    if tknizer_eng.index_word[predicted_id] == '<end>':\n",
        "      return result, '<start> '+sentence+' <end>',attention_plot\n",
        "\n",
        "    # the predicted ID is fed back into the model\n",
        "    dec_input = tf.expand_dims([predicted_id], 0)\n",
        "\n",
        "\n",
        "\n"
      ]
    },
    {
      "cell_type": "code",
      "execution_count": null,
      "metadata": {
        "id": "ChpMbUBHkZOl"
      },
      "outputs": [],
      "source": [
        "def translate(sentence):\n",
        "  result, sentence, attention_plot = predict(sentence)\n",
        "\n",
        "  print('Input: %s' % (sentence))\n",
        "  print('Predicted translation: {}'.format(result))\n",
        "\n",
        "  attention_plot = attention_plot[:len(result.split(' ')), :len(sentence.split(' '))]\n",
        "  plot_attention(attention_plot, sentence.split(' '), result.split(' '))"
      ]
    },
    {
      "cell_type": "markdown",
      "metadata": {
        "id": "Z5NhESYyMW_t"
      },
      "source": [
        "<font color='blue'>**Plot attention weights**</font>"
      ]
    },
    {
      "cell_type": "code",
      "execution_count": null,
      "metadata": {
        "colab": {
          "base_uri": "https://localhost:8080/",
          "height": 614
        },
        "id": "1YGaZFKgktOH",
        "outputId": "eb993ef1-dfce-4580-82ad-2b344a79a84f"
      },
      "outputs": [
        {
          "name": "stdout",
          "output_type": "stream",
          "text": [
            "Input: <start> tom promise di ritornare prima delle due e mezza <end>\n",
            "Predicted translation: tom promised to return before 230 <end> \n"
          ]
        },
        {
          "data": {
            "image/png": "[encoded data removed]",
            "text/plain": [
              "<Figure size 720x720 with 2 Axes>"
            ]
          },
          "metadata": {
            "needs_background": "light",
            "tags": []
          },
          "output_type": "display_data"
        }
      ],
      "source": [
        "translate('tom promise di ritornare prima delle due e mezza')"
      ]
    },
    {
      "cell_type": "markdown",
      "metadata": {
        "id": "DxHvqWziDNbj"
      },
      "source": [
        "##For general model"
      ]
    },
    {
      "cell_type": "code",
      "execution_count": null,
      "metadata": {
        "id": "GF9Mu384C-a9"
      },
      "outputs": [],
      "source": [
        "def predict(input_sentence):\n",
        "\n",
        "  '''\n",
        "  A. Given input sentence, convert the sentence into integers using tokenizer used earlier\n",
        "  B. Pass the input_sequence to encoder. we get encoder_outputs, last time step hidden and cell state\n",
        "  C. Initialize index of <start> as input to decoder. and encoder final states as input_states to onestepdecoder.\n",
        "  D. till we reach max_length of decoder or till the model predicted word <end>:\n",
        "         predictions, input_states, attention_weights = model.layers[1].onestepdecoder(input_to_decoder, encoder_output, input_states)\n",
        "         Save the attention weights\n",
        "         And get the word using the tokenizer(word index) and then store it in a string.\n",
        "  E. Call plot_attention(#params)\n",
        "  F. Return the predicted sentence\n",
        "  '''\n",
        "  sentence = preprocess_ita(input_sentence).strip()\n",
        "  inputs=tknizer_ita.texts_to_sequences(sentence)\n",
        "\n",
        "  inputs = [tknizer_ita.word_index[i] for i in sentence.split(' ') if i in tknizer_ita.word_docs ]\n",
        "  inputs = tf.keras.preprocessing.sequence.pad_sequences([inputs],\n",
        "                                                        maxlen=20,\n",
        "                                                        padding='post')\n",
        "  attention_plot = np.zeros((20, 20))\n",
        "  inputs = tf.convert_to_tensor(inputs)\n",
        "  result = ''\n",
        "  hidden = tf.zeros((1, 256))\n",
        "  enc_out, enc_hidden,enc_cell_state = model_gen.layers[0](inputs, hidden)\n",
        "  dec_hidden = [enc_hidden,enc_cell_state]\n",
        "  dec_input = tf.expand_dims([tknizer_eng.word_index['<start>']], 0)\n",
        "  for t in range(20):\n",
        "    predictions, dec_hidden, dec_cell_state,attention_weights,context_vector = model_gen.layers[1].onestepdecoder(dec_input,enc_out,dec_hidden[0],dec_hidden[1])\n",
        "    dec_hidden=[dec_hidden, dec_cell_state]\n",
        "    attention_weights = tf.reshape(attention_weights, (-1, ))\n",
        "    attention_plot[t] = attention_weights.numpy()\n",
        "    predicted_id = tf.argmax(predictions[0]).numpy()\n",
        "\n",
        "    result += tknizer_eng.index_word[predicted_id] + ' '\n",
        "\n",
        "    if tknizer_eng.index_word[predicted_id] == '<end>':\n",
        "      return result, '<start> '+sentence+' <end>',attention_plot\n",
        "\n",
        "    # the predicted ID is fed back into the model\n",
        "    dec_input = tf.expand_dims([predicted_id], 0)\n",
        "\n",
        "\n",
        "\n"
      ]
    },
    {
      "cell_type": "code",
      "execution_count": null,
      "metadata": {
        "id": "E8Gg6yjoEL3k"
      },
      "outputs": [],
      "source": [
        "def translate(sentence):\n",
        "  result, sentence, attention_plot = predict(sentence)\n",
        "\n",
        "  print('Input: %s' % (sentence))\n",
        "  print('Predicted translation: {}'.format(result))\n",
        "\n",
        "  attention_plot = attention_plot[:len(result.split(' ')), :len(sentence.split(' '))]\n",
        "  plot_attention(attention_plot, sentence.split(' '), result.split(' '))"
      ]
    },
    {
      "cell_type": "code",
      "execution_count": null,
      "metadata": {
        "colab": {
          "base_uri": "https://localhost:8080/",
          "height": 614
        },
        "id": "CVewuWMmEOWM",
        "outputId": "078a6e04-7842-44c1-a0cb-c0f806f715f7"
      },
      "outputs": [
        {
          "name": "stdout",
          "output_type": "stream",
          "text": [
            "Input: <start> tom promise di ritornare prima delle due e mezza <end>\n",
            "Predicted translation: tom promised to return before 230 <end> \n"
          ]
        },
        {
          "data": {
            "image/png": "[encoded data removed]",
            "text/plain": [
              "<Figure size 720x720 with 2 Axes>"
            ]
          },
          "metadata": {
            "needs_background": "light",
            "tags": []
          },
          "output_type": "display_data"
        }
      ],
      "source": [
        "translate('tom promise di ritornare prima delle due e mezza')"
      ]
    },
    {
      "cell_type": "markdown",
      "metadata": {
        "id": "6ptGKteFDQ80"
      },
      "source": [
        "##For dot model"
      ]
    },
    {
      "cell_type": "code",
      "execution_count": null,
      "metadata": {
        "id": "MaJTIi2pDTG1"
      },
      "outputs": [],
      "source": [
        "def predict(input_sentence):\n",
        "\n",
        "  '''\n",
        "  A. Given input sentence, convert the sentence into integers using tokenizer used earlier\n",
        "  B. Pass the input_sequence to encoder. we get encoder_outputs, last time step hidden and cell state\n",
        "  C. Initialize index of <start> as input to decoder. and encoder final states as input_states to onestepdecoder.\n",
        "  D. till we reach max_length of decoder or till the model predicted word <end>:\n",
        "         predictions, input_states, attention_weights = model.layers[1].onestepdecoder(input_to_decoder, encoder_output, input_states)\n",
        "         Save the attention weights\n",
        "         And get the word using the tokenizer(word index) and then store it in a string.\n",
        "  E. Call plot_attention(#params)\n",
        "  F. Return the predicted sentence\n",
        "  '''\n",
        "  sentence = preprocess_ita(input_sentence).strip()\n",
        "  inputs=tknizer_ita.texts_to_sequences(sentence)\n",
        "\n",
        "  inputs = [tknizer_ita.word_index[i] for i in sentence.split(' ') if i in tknizer_ita.word_docs ]\n",
        "  inputs = tf.keras.preprocessing.sequence.pad_sequences([inputs],\n",
        "                                                        maxlen=20,\n",
        "                                                        padding='post')\n",
        "  attention_plot = np.zeros((20, 20))\n",
        "  inputs = tf.convert_to_tensor(inputs)\n",
        "  result = ''\n",
        "  hidden = tf.zeros((1, 256))\n",
        "  enc_out, enc_hidden,enc_cell_state = model_dot.layers[0](inputs, hidden)\n",
        "  dec_hidden = [enc_hidden,enc_cell_state]\n",
        "  dec_input = tf.expand_dims([tknizer_eng.word_index['<start>']], 0)\n",
        "  for t in range(20):\n",
        "    predictions, dec_hidden, dec_cell_state,attention_weights,context_vector = model_dot.layers[1].onestepdecoder(dec_input,enc_out,dec_hidden[0],dec_hidden[1])\n",
        "    dec_hidden=[dec_hidden, dec_cell_state]\n",
        "    attention_weights = tf.reshape(attention_weights, (-1, ))\n",
        "    attention_plot[t] = attention_weights.numpy()\n",
        "    predicted_id = tf.argmax(predictions[0]).numpy()\n",
        "\n",
        "    result += tknizer_eng.index_word[predicted_id] + ' '\n",
        "\n",
        "    if tknizer_eng.index_word[predicted_id] == '<end>':\n",
        "      return result, '<start> '+sentence+' <end>',attention_plot\n",
        "\n",
        "    # the predicted ID is fed back into the model\n",
        "    dec_input = tf.expand_dims([predicted_id], 0)\n",
        "\n",
        "\n",
        "\n"
      ]
    },
    {
      "cell_type": "code",
      "execution_count": null,
      "metadata": {
        "id": "-4Y-f4SxEcG-"
      },
      "outputs": [],
      "source": [
        "def translate(sentence):\n",
        "  result, sentence, attention_plot = predict(sentence)\n",
        "\n",
        "  print('Input: %s' % (sentence))\n",
        "  print('Predicted translation: {}'.format(result))\n",
        "\n",
        "  attention_plot = attention_plot[:len(result.split(' ')), :len(sentence.split(' '))]\n",
        "  plot_attention(attention_plot, sentence.split(' '), result.split(' '))"
      ]
    },
    {
      "cell_type": "code",
      "execution_count": null,
      "metadata": {
        "colab": {
          "base_uri": "https://localhost:8080/",
          "height": 614
        },
        "id": "yaGz5LEuEfy3",
        "outputId": "707d3547-58b3-4ae7-e266-465f8ee1dfb8"
      },
      "outputs": [
        {
          "name": "stdout",
          "output_type": "stream",
          "text": [
            "Input: <start> tom promise di ritornare prima delle due e mezza <end>\n",
            "Predicted translation: tom promised to return before 230 <end> \n"
          ]
        },
        {
          "data": {
            "image/png": "[encoded data removed]",
            "text/plain": [
              "<Figure size 720x720 with 2 Axes>"
            ]
          },
          "metadata": {
            "needs_background": "light",
            "tags": []
          },
          "output_type": "display_data"
        }
      ],
      "source": [
        "translate('tom promise di ritornare prima delle due e mezza')"
      ]
    },
    {
      "cell_type": "markdown",
      "metadata": {
        "id": "jmxIVOOQPWMu"
      },
      "source": [
        "<font color='blue'>**Calculate BLEU score**</font>"
      ]
    },
    {
      "cell_type": "markdown",
      "metadata": {
        "id": "jzCtYAiBuDuv"
      },
      "source": [
        "##For concat"
      ]
    },
    {
      "cell_type": "code",
      "execution_count": null,
      "metadata": {
        "id": "57qrztEq5pPq"
      },
      "outputs": [],
      "source": [
        "def predict_bleu(input_sentence):\n",
        "\n",
        "  '''\n",
        "  A. Given input sentence, convert the sentence into integers using tokenizer used earlier\n",
        "  B. Pass the input_sequence to encoder. we get encoder_outputs, last time step hidden and cell state\n",
        "  C. Initialize index of <start> as input to decoder. and encoder final states as input_states to onestepdecoder.\n",
        "  D. till we reach max_length of decoder or till the model predicted word <end>:\n",
        "         predictions, input_states, attention_weights = model.layers[1].onestepdecoder(input_to_decoder, encoder_output, input_states)\n",
        "         Save the attention weights\n",
        "         And get the word using the tokenizer(word index) and then store it in a string.\n",
        "  E. Call plot_attention(#params)\n",
        "  F. Return the predicted sentence\n",
        "  '''\n",
        "  sentence = preprocess_ita(input_sentence).strip()\n",
        "  inputs=tknizer_ita.texts_to_sequences(sentence)\n",
        "\n",
        "  inputs = [tknizer_ita.word_index[i] for i in sentence.split(' ') if i in tknizer_ita.word_docs ]\n",
        "  inputs = tf.keras.preprocessing.sequence.pad_sequences([inputs],\n",
        "                                                        maxlen=20,\n",
        "                                                        padding='post')\n",
        "  attention_plot = np.zeros((20, 20))\n",
        "  inputs = tf.convert_to_tensor(inputs)\n",
        "  result = ''\n",
        "  hidden = tf.zeros((1, 256))\n",
        "  enc_out, enc_hidden,enc_cell_state = model_con.layers[0](inputs, hidden)\n",
        "  dec_hidden = [enc_hidden,enc_cell_state]\n",
        "  dec_input = tf.expand_dims([tknizer_eng.word_index['<start>']], 0)\n",
        "  for t in range(20):\n",
        "    predictions, dec_hidden, dec_cell_state,attention_weights,context_vector = model_con.layers[1].onestepdecoder(dec_input,enc_out,dec_hidden[0],dec_hidden[1])\n",
        "    dec_hidden=[dec_hidden, dec_cell_state]\n",
        "    attention_weights = tf.reshape(attention_weights, (-1, ))\n",
        "    attention_plot[t] = attention_weights.numpy()\n",
        "    predicted_id = tf.argmax(predictions[0]).numpy()\n",
        "\n",
        "    result += tknizer_eng.index_word[predicted_id] + ' '\n",
        "\n",
        "    if tknizer_eng.index_word[predicted_id] == '<end>':\n",
        "      return result\n",
        "\n",
        "    # the predicted ID is fed back into the model\n",
        "    dec_input = tf.expand_dims([predicted_id], 0)\n",
        "\n",
        "\n",
        "\n"
      ]
    },
    {
      "cell_type": "code",
      "execution_count": null,
      "metadata": {
        "id": "abo-5ybxqFOz"
      },
      "outputs": [],
      "source": [
        "target=validation['italian'][1000:2000].apply(predict_bleu)"
      ]
    },
    {
      "cell_type": "code",
      "execution_count": null,
      "metadata": {
        "id": "XsXPfLNEtLl7"
      },
      "outputs": [],
      "source": [
        "import nltk.translate.bleu_score as bleu\n",
        "reference = validation['english_out'][1000:2000] # the original\n",
        "#translation = validation['italian'][10000:20000].apply(predict)[1]\n",
        "#target=validation['italian'][10000:20000].apply(predict)[1] # trasilated using model\n",
        "#print('BLEU score: {}'.format(bleu.sentence_bleu(reference, translation)))"
      ]
    },
    {
      "cell_type": "code",
      "execution_count": null,
      "metadata": {
        "colab": {
          "base_uri": "https://localhost:8080/"
        },
        "id": "0QRxRA2qtRXH",
        "outputId": "5da08e2b-83a0-416b-84b9-b3491e4a666a"
      },
      "outputs": [
        {
          "name": "stderr",
          "output_type": "stream",
          "text": [
            "0it [00:00, ?it/s]/usr/local/lib/python3.6/dist-packages/nltk/translate/bleu_score.py:490: UserWarning: \n",
            "Corpus/Sentence contains 0 counts of 3-gram overlaps.\n",
            "BLEU scores might be undesirable; use SmoothingFunction().\n",
            "  warnings.warn(_msg)\n",
            "/usr/local/lib/python3.6/dist-packages/nltk/translate/bleu_score.py:490: UserWarning: \n",
            "Corpus/Sentence contains 0 counts of 4-gram overlaps.\n",
            "BLEU scores might be undesirable; use SmoothingFunction().\n",
            "  warnings.warn(_msg)\n",
            "/usr/local/lib/python3.6/dist-packages/nltk/translate/bleu_score.py:490: UserWarning: \n",
            "Corpus/Sentence contains 0 counts of 2-gram overlaps.\n",
            "BLEU scores might be undesirable; use SmoothingFunction().\n",
            "  warnings.warn(_msg)\n",
            "1000it [00:00, 9829.13it/s]\n"
          ]
        }
      ],
      "source": [
        "from tqdm import tqdm\n",
        "score=0\n",
        "for i,j in tqdm(zip(reference,target)):\n",
        "  #print(i,j)\n",
        "  score+=bleu.sentence_bleu([i.split()], j.split())"
      ]
    },
    {
      "cell_type": "code",
      "execution_count": null,
      "metadata": {
        "colab": {
          "base_uri": "https://localhost:8080/"
        },
        "id": "vrGy2DHgtcCd",
        "outputId": "4bfbdbaa-f9de-4f14-a355-969aed8388db"
      },
      "outputs": [
        {
          "name": "stdout",
          "output_type": "stream",
          "text": [
            "BLEU score: 0.8167548702668879\n"
          ]
        }
      ],
      "source": [
        "print('BLEU score: {}'.format(score/1000))\n"
      ]
    },
    {
      "cell_type": "markdown",
      "metadata": {
        "id": "nLQbMWZSuPNT"
      },
      "source": [
        "##For general"
      ]
    },
    {
      "cell_type": "code",
      "execution_count": null,
      "metadata": {
        "id": "ciCXpZ-ObfDd"
      },
      "outputs": [],
      "source": [
        "def predict_bleu(input_sentence):\n",
        "\n",
        "  '''\n",
        "  A. Given input sentence, convert the sentence into integers using tokenizer used earlier\n",
        "  B. Pass the input_sequence to encoder. we get encoder_outputs, last time step hidden and cell state\n",
        "  C. Initialize index of <start> as input to decoder. and encoder final states as input_states to onestepdecoder.\n",
        "  D. till we reach max_length of decoder or till the model predicted word <end>:\n",
        "         predictions, input_states, attention_weights = model.layers[1].onestepdecoder(input_to_decoder, encoder_output, input_states)\n",
        "         Save the attention weights\n",
        "         And get the word using the tokenizer(word index) and then store it in a string.\n",
        "  E. Call plot_attention(#params)\n",
        "  F. Return the predicted sentence\n",
        "  '''\n",
        "  sentence = preprocess_ita(input_sentence).strip()\n",
        "  inputs=tknizer_ita.texts_to_sequences(sentence)\n",
        "\n",
        "  inputs = [tknizer_ita.word_index[i] for i in sentence.split(' ') if i in tknizer_ita.word_docs ]\n",
        "  inputs = tf.keras.preprocessing.sequence.pad_sequences([inputs],\n",
        "                                                        maxlen=20,\n",
        "                                                        padding='post')\n",
        "  attention_plot = np.zeros((20, 20))\n",
        "  inputs = tf.convert_to_tensor(inputs)\n",
        "  result = ''\n",
        "  hidden = tf.zeros((1, 256))\n",
        "  enc_out, enc_hidden,enc_cell_state = model_gen.layers[0](inputs, hidden)\n",
        "  dec_hidden = [enc_hidden,enc_cell_state]\n",
        "  dec_input = tf.expand_dims([tknizer_eng.word_index['<start>']], 0)\n",
        "  for t in range(20):\n",
        "    predictions, dec_hidden, dec_cell_state,attention_weights,context_vector = model_gen.layers[1].onestepdecoder(dec_input,enc_out,dec_hidden[0],dec_hidden[1])\n",
        "    dec_hidden=[dec_hidden, dec_cell_state]\n",
        "    attention_weights = tf.reshape(attention_weights, (-1, ))\n",
        "    attention_plot[t] = attention_weights.numpy()\n",
        "    predicted_id = tf.argmax(predictions[0]).numpy()\n",
        "\n",
        "    result += tknizer_eng.index_word[predicted_id] + ' '\n",
        "\n",
        "    if tknizer_eng.index_word[predicted_id] == '<end>':\n",
        "      return result\n",
        "\n",
        "    # the predicted ID is fed back into the model\n",
        "    dec_input = tf.expand_dims([predicted_id], 0)\n",
        "\n",
        "\n",
        "\n"
      ]
    },
    {
      "cell_type": "code",
      "execution_count": null,
      "metadata": {
        "id": "TbeIdsw5uIMp"
      },
      "outputs": [],
      "source": [
        "target=validation['italian'][1000:2000].apply(predict_bleu)"
      ]
    },
    {
      "cell_type": "code",
      "execution_count": null,
      "metadata": {
        "id": "L3nizCxWya1g"
      },
      "outputs": [],
      "source": [
        "translation=[]\n",
        "for j in target:\n",
        "  translation.append(j)\n",
        ""
      ]
    },
    {
      "cell_type": "code",
      "execution_count": null,
      "metadata": {
        "id": "UUOXwbWquJ9L"
      },
      "outputs": [],
      "source": [
        "import nltk.translate.bleu_score as bleu\n",
        "reference = validation['english_out'][1000:2000] # the original\n",
        "#translation = validation['italian'][10000:20000].apply(predict)[1]\n",
        "#target=validation['italian'][10000:20000].apply(predict)[1] # trasilated using model\n",
        "#print('BLEU score: {}'.format(bleu.sentence_bleu(reference, translation)))"
      ]
    },
    {
      "cell_type": "code",
      "execution_count": null,
      "metadata": {
        "colab": {
          "base_uri": "https://localhost:8080/"
        },
        "id": "8uJqKSJQuMHo",
        "outputId": "89d9c558-6a97-4c41-b7ec-ad014cb73225"
      },
      "outputs": [
        {
          "name": "stderr",
          "output_type": "stream",
          "text": [
            "0it [00:00, ?it/s]/usr/local/lib/python3.6/dist-packages/nltk/translate/bleu_score.py:490: UserWarning: \n",
            "Corpus/Sentence contains 0 counts of 3-gram overlaps.\n",
            "BLEU scores might be undesirable; use SmoothingFunction().\n",
            "  warnings.warn(_msg)\n",
            "/usr/local/lib/python3.6/dist-packages/nltk/translate/bleu_score.py:490: UserWarning: \n",
            "Corpus/Sentence contains 0 counts of 4-gram overlaps.\n",
            "BLEU scores might be undesirable; use SmoothingFunction().\n",
            "  warnings.warn(_msg)\n",
            "/usr/local/lib/python3.6/dist-packages/nltk/translate/bleu_score.py:490: UserWarning: \n",
            "Corpus/Sentence contains 0 counts of 2-gram overlaps.\n",
            "BLEU scores might be undesirable; use SmoothingFunction().\n",
            "  warnings.warn(_msg)\n",
            "1000it [00:00, 10088.72it/s]\n"
          ]
        }
      ],
      "source": [
        "from tqdm import tqdm\n",
        "score=0\n",
        "z=0\n",
        "for i,j in tqdm(zip(reference,translation)):\n",
        "  if type(j)==str:\n",
        "  #print(i,j)\n",
        "    score+=bleu.sentence_bleu([i.split()], j.split())\n",
        "  else:\n",
        "    z=z+1"
      ]
    },
    {
      "cell_type": "code",
      "execution_count": null,
      "metadata": {
        "colab": {
          "base_uri": "https://localhost:8080/"
        },
        "id": "V4H29x3Mzs2K",
        "outputId": "fa98327f-0f79-4f50-e892-283927e35eb4"
      },
      "outputs": [
        {
          "data": {
            "text/plain": [
              "0"
            ]
          },
          "execution_count": 66,
          "metadata": {
            "tags": []
          },
          "output_type": "execute_result"
        }
      ],
      "source": [
        "z"
      ]
    },
    {
      "cell_type": "code",
      "execution_count": null,
      "metadata": {
        "colab": {
          "base_uri": "https://localhost:8080/"
        },
        "id": "s962Gk9xuOFg",
        "outputId": "4268bf3f-c38f-4698-ea79-b37580b15a63"
      },
      "outputs": [
        {
          "name": "stdout",
          "output_type": "stream",
          "text": [
            "BLEU score: 0.7962420761881754\n"
          ]
        }
      ],
      "source": [
        "print('BLEU score: {}'.format(score/1000))\n"
      ]
    },
    {
      "cell_type": "markdown",
      "metadata": {
        "id": "A9Suy8t1uWsT"
      },
      "source": [
        "##For dot model"
      ]
    },
    {
      "cell_type": "code",
      "execution_count": null,
      "metadata": {
        "id": "VwHW9LUUbqFv"
      },
      "outputs": [],
      "source": [
        "def predict_bleu(input_sentence):\n",
        "\n",
        "  '''\n",
        "  A. Given input sentence, convert the sentence into integers using tokenizer used earlier\n",
        "  B. Pass the input_sequence to encoder. we get encoder_outputs, last time step hidden and cell state\n",
        "  C. Initialize index of <start> as input to decoder. and encoder final states as input_states to onestepdecoder.\n",
        "  D. till we reach max_length of decoder or till the model predicted word <end>:\n",
        "         predictions, input_states, attention_weights = model.layers[1].onestepdecoder(input_to_decoder, encoder_output, input_states)\n",
        "         Save the attention weights\n",
        "         And get the word using the tokenizer(word index) and then store it in a string.\n",
        "  E. Call plot_attention(#params)\n",
        "  F. Return the predicted sentence\n",
        "  '''\n",
        "  sentence = preprocess_ita(input_sentence).strip()\n",
        "  inputs=tknizer_ita.texts_to_sequences(sentence)\n",
        "\n",
        "  inputs = [tknizer_ita.word_index[i] for i in sentence.split(' ') if i in tknizer_ita.word_docs ]\n",
        "  inputs = tf.keras.preprocessing.sequence.pad_sequences([inputs],\n",
        "                                                        maxlen=20,\n",
        "                                                        padding='post')\n",
        "  attention_plot = np.zeros((20, 20))\n",
        "  inputs = tf.convert_to_tensor(inputs)\n",
        "  result = ''\n",
        "  hidden = tf.zeros((1, 256))\n",
        "  enc_out, enc_hidden,enc_cell_state = model_dot.layers[0](inputs, hidden)\n",
        "  dec_hidden = [enc_hidden,enc_cell_state]\n",
        "  dec_input = tf.expand_dims([tknizer_eng.word_index['<start>']], 0)\n",
        "  for t in range(20):\n",
        "    predictions, dec_hidden, dec_cell_state,attention_weights,context_vector = model_dot.layers[1].onestepdecoder(dec_input,enc_out,dec_hidden[0],dec_hidden[1])\n",
        "    dec_hidden=[dec_hidden, dec_cell_state]\n",
        "    attention_weights = tf.reshape(attention_weights, (-1, ))\n",
        "    attention_plot[t] = attention_weights.numpy()\n",
        "    predicted_id = tf.argmax(predictions[0]).numpy()\n",
        "\n",
        "    result += tknizer_eng.index_word[predicted_id] + ' '\n",
        "\n",
        "    if tknizer_eng.index_word[predicted_id] == '<end>':\n",
        "      return result\n",
        "\n",
        "    # the predicted ID is fed back into the model\n",
        "    dec_input = tf.expand_dims([predicted_id], 0)\n",
        "\n",
        "\n",
        "\n"
      ]
    },
    {
      "cell_type": "code",
      "execution_count": null,
      "metadata": {
        "id": "O-H5lCGNuSqF"
      },
      "outputs": [],
      "source": [
        "target=validation['italian'][1000:2000].apply(predict_bleu)"
      ]
    },
    {
      "cell_type": "code",
      "execution_count": null,
      "metadata": {
        "id": "DhkMatKFujqN"
      },
      "outputs": [],
      "source": [
        "import nltk.translate.bleu_score as bleu\n",
        "reference = validation['english_out'][1000:2000] # the original\n",
        "#translation = validation['italian'][10000:20000].apply(predict)[1]\n",
        "#target=validation['italian'][10000:20000].apply(predict)[1] # trasilated using model\n",
        "#print('BLEU score: {}'.format(bleu.sentence_bleu(reference, translation)))"
      ]
    },
    {
      "cell_type": "code",
      "execution_count": null,
      "metadata": {
        "colab": {
          "base_uri": "https://localhost:8080/"
        },
        "id": "jRqeXzAGula0",
        "outputId": "d574da12-0573-463d-d25e-fe666ceac88d"
      },
      "outputs": [
        {
          "name": "stderr",
          "output_type": "stream",
          "text": [
            "0it [00:00, ?it/s]/usr/local/lib/python3.6/dist-packages/nltk/translate/bleu_score.py:490: UserWarning: \n",
            "Corpus/Sentence contains 0 counts of 3-gram overlaps.\n",
            "BLEU scores might be undesirable; use SmoothingFunction().\n",
            "  warnings.warn(_msg)\n",
            "/usr/local/lib/python3.6/dist-packages/nltk/translate/bleu_score.py:490: UserWarning: \n",
            "Corpus/Sentence contains 0 counts of 2-gram overlaps.\n",
            "BLEU scores might be undesirable; use SmoothingFunction().\n",
            "  warnings.warn(_msg)\n",
            "/usr/local/lib/python3.6/dist-packages/nltk/translate/bleu_score.py:490: UserWarning: \n",
            "Corpus/Sentence contains 0 counts of 4-gram overlaps.\n",
            "BLEU scores might be undesirable; use SmoothingFunction().\n",
            "  warnings.warn(_msg)\n",
            "1000it [00:00, 9430.66it/s]\n"
          ]
        }
      ],
      "source": [
        "from tqdm import tqdm\n",
        "score=0\n",
        "z=0\n",
        "for i,j in tqdm(zip(reference,target)):\n",
        "  if type(j)==str:\n",
        "  #print(i,j)\n",
        "    score+=bleu.sentence_bleu([i.split()], j.split())\n",
        "  else:\n",
        "    z=z+1"
      ]
    },
    {
      "cell_type": "code",
      "execution_count": null,
      "metadata": {
        "colab": {
          "base_uri": "https://localhost:8080/"
        },
        "id": "OR-AQMo65e4Q",
        "outputId": "2750ef8b-1d46-4cb1-d4da-b10dc22e2aca"
      },
      "outputs": [
        {
          "data": {
            "text/plain": [
              "0"
            ]
          },
          "execution_count": 72,
          "metadata": {
            "tags": []
          },
          "output_type": "execute_result"
        }
      ],
      "source": [
        "z"
      ]
    },
    {
      "cell_type": "code",
      "execution_count": null,
      "metadata": {
        "colab": {
          "base_uri": "https://localhost:8080/"
        },
        "id": "auwAJaWZunDh",
        "outputId": "75634023-fbdb-4add-e413-f1af181041af"
      },
      "outputs": [
        {
          "name": "stdout",
          "output_type": "stream",
          "text": [
            "BLEU score: 0.799617013286298\n"
          ]
        }
      ],
      "source": [
        "print('BLEU score: {}'.format(score/1000))\n"
      ]
    },
    {
      "cell_type": "markdown",
      "metadata": {
        "id": "qXReNijXgQGV"
      },
      "source": [
        "## Observations"
      ]
    },
    {
      "cell_type": "markdown",
      "metadata": {
        "id": "rBPlsjVxgQGW"
      },
      "source": [
        "# 1.Here,we can see, by using concat attetion scoring function, the bleu score that we are getting is really good\n",
        "# 2.The Bleu score for dot and general model is almost same.'\n",
        "# 3. But here, we can see, attention models are performing really good as compare to vanilla encoder-decoder model.\n",
        "# 4. Here, we can models are tends to overfit.So here, we need large amount of data to train"
      ]
    },
    {
      "cell_type": "code",
      "execution_count": null,
      "metadata": {
        "id": "ybjtv-RtgQGX"
      },
      "outputs": [],
      "source": []
    }
  ],
  "metadata": {
    "accelerator": "GPU",
    "colab": {
      "provenance": []
    },
    "kernelspec": {
      "display_name": "Python 3",
      "language": "python",
      "name": "python3"
    },
    "language_info": {
      "codemirror_mode": {
        "name": "ipython",
        "version": 3
      },
      "file_extension": ".py",
      "mimetype": "text/x-python",
      "name": "python",
      "nbconvert_exporter": "python",
      "pygments_lexer": "ipython3",
      "version": "3.8.3"
    }
  },
  "nbformat": 4,
  "nbformat_minor": 0
}