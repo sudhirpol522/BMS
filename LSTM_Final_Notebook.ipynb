{
 "cells": [
  {
   "cell_type": "code",
   "execution_count": 1,
   "metadata": {
    "execution": {
     "iopub.execute_input": "2021-07-04T06:07:54.503731Z",
     "iopub.status.busy": "2021-07-04T06:07:54.503074Z",
     "iopub.status.idle": "2021-07-04T06:08:04.200679Z",
     "shell.execute_reply": "2021-07-04T06:08:04.199495Z",
     "shell.execute_reply.started": "2021-07-04T06:07:54.503628Z"
    }
   },
   "outputs": [
    {
     "name": "stdout",
     "output_type": "stream",
     "text": [
      "\u001b[33mWARNING: Running pip as root will break packages and permissions. You should install packages reliably by using venv: https://pip.pypa.io/warnings/venv\u001b[0m\n"
     ]
    }
   ],
   "source": [
    "# install tensorflow implementations of EfficientNet with noisy-student weights\n",
    "\n",
    "!pip install -q efficientnet"
   ]
  },
  {
   "cell_type": "code",
   "execution_count": 2,
   "metadata": {
    "execution": {
     "iopub.execute_input": "2021-07-04T06:08:09.920578Z",
     "iopub.status.busy": "2021-07-04T06:08:09.920078Z",
     "iopub.status.idle": "2021-07-04T06:08:17.793106Z",
     "shell.execute_reply": "2021-07-04T06:08:17.791632Z",
     "shell.execute_reply.started": "2021-07-04T06:08:09.920531Z"
    }
   },
   "outputs": [],
   "source": [
    "import pandas as pd\n",
    "import tensorflow as tf\n",
    "import matplotlib.pyplot as plt\n",
    "import efficientnet.tfkeras as efn\n",
    "\n",
    "from tensorflow.keras.mixed_precision import experimental as mixed_precision\n",
    "from kaggle_datasets import KaggleDatasets\n",
    "from tqdm.notebook import tqdm\n",
    "\n",
    "import unicodedata\n",
    "import re\n",
    "import numpy as np\n",
    "import os\n",
    "import io\n",
    "import time\n",
    "import pickle\n",
    "import math\n",
    "import random"
   ]
  },
  {
   "cell_type": "code",
   "execution_count": 3,
   "metadata": {
    "execution": {
     "iopub.execute_input": "2021-07-04T06:08:30.855142Z",
     "iopub.status.busy": "2021-07-04T06:08:30.854790Z",
     "iopub.status.idle": "2021-07-04T06:08:30.861069Z",
     "shell.execute_reply": "2021-07-04T06:08:30.859227Z",
     "shell.execute_reply.started": "2021-07-04T06:08:30.855113Z"
    }
   },
   "outputs": [],
   "source": [
    "# seed everything\n",
    "SEED = 42\n",
    "os.environ['PYTHONHASHSEED'] = str(SEED)\n",
    "random.seed(SEED)\n",
    "np.random.seed(SEED)\n",
    "tf.random.set_seed(SEED)"
   ]
  },
  {
   "cell_type": "code",
   "execution_count": 4,
   "metadata": {
    "execution": {
     "iopub.execute_input": "2021-07-04T06:08:31.201547Z",
     "iopub.status.busy": "2021-07-04T06:08:31.201099Z",
     "iopub.status.idle": "2021-07-04T06:08:36.810556Z",
     "shell.execute_reply": "2021-07-04T06:08:36.809121Z",
     "shell.execute_reply.started": "2021-07-04T06:08:31.201514Z"
    }
   },
   "outputs": [
    {
     "name": "stdout",
     "output_type": "stream",
     "text": [
      "Running on TPU  grpc://10.0.0.2:8470\n",
      "REPLICAS: 8\n"
     ]
    }
   ],
   "source": [
    "\n",
    "# Detect hardware, set appropriate distribution strategy (GPU/TPU)\n",
    "try:\n",
    "    TPU = tf.distribute.cluster_resolver.TPUClusterResolver()  # TPU detection. No parameters necessary if TPU_NAME environment variable is set. On Kaggle this is always the case.\n",
    "    print('Running on TPU ', TPU.master())\n",
    "except ValueError:\n",
    "    print('Running on GPU')\n",
    "    TPU = None\n",
    "\n",
    "if TPU:\n",
    "    tf.config.experimental_connect_to_cluster(TPU)\n",
    "    tf.tpu.experimental.initialize_tpu_system(TPU)\n",
    "    strategy = tf.distribute.experimental.TPUStrategy(TPU)\n",
    "else:\n",
    "    strategy = tf.distribute.get_strategy() # default distribution strategy in Tensorflow. Works on CPU and single GPU.\n",
    "\n",
    "REPLICAS = strategy.num_replicas_in_sync\n",
    "print(f'REPLICAS: {REPLICAS}')"
   ]
  },
  {
   "cell_type": "code",
   "execution_count": 5,
   "metadata": {
    "execution": {
     "iopub.execute_input": "2021-07-04T06:08:36.812763Z",
     "iopub.status.busy": "2021-07-04T06:08:36.812450Z",
     "iopub.status.idle": "2021-07-04T06:08:36.822535Z",
     "shell.execute_reply": "2021-07-04T06:08:36.821041Z",
     "shell.execute_reply.started": "2021-07-04T06:08:36.812733Z"
    }
   },
   "outputs": [],
   "source": [
    "DEBUG = False\n",
    "\n",
    "# image resolution\n",
    "IMG_HEIGHT = 256\n",
    "IMG_WIDTH = 448\n",
    "N_CHANNELS = 3\n",
    "# maximum InChI length is 200 to prevent too much padding\n",
    "MAX_INCHI_LEN = 200\n",
    "\n",
    "# batch sizes\n",
    "BATCH_SIZE_BASE = 6 if DEBUG else (64 if TPU else 12)\n",
    "BATCH_SIZE = BATCH_SIZE_BASE * REPLICAS\n",
    "BATCH_SIZE_DEBUG = 2\n",
    "\n",
    "# target data type, bfloat16 when using TPU to improve throughput\n",
    "TARGET_DTYPE = tf.float32\n",
    " # minimal memory usage of labels\n",
    "LABEL_DTYPE= tf.uint8\n",
    "\n",
    "# 100K validation images are used\n",
    "VAL_SIZE = int(1e3) if DEBUG else int(100e3)\n",
    "VAL_STEPS = VAL_SIZE // BATCH_SIZE\n",
    "\n",
    "# ImageNet mean and std to normalize training images accordingly\n",
    "IMAGENET_MEAN = tf.constant([0.485, 0.456, 0.406], dtype=tf.float32)\n",
    "IMAGENET_STD = tf.constant([0.229, 0.224, 0.225], dtype=tf.float32)\n",
    "\n",
    "# Tensorflow AUTO flag, used in datasets\n",
    "AUTO = tf.data.experimental.AUTOTUNE"
   ]
  },
  {
   "cell_type": "code",
   "execution_count": 6,
   "metadata": {
    "execution": {
     "iopub.execute_input": "2021-07-04T06:08:36.825154Z",
     "iopub.status.busy": "2021-07-04T06:08:36.824705Z",
     "iopub.status.idle": "2021-07-04T06:08:46.577646Z",
     "shell.execute_reply": "2021-07-04T06:08:46.576134Z",
     "shell.execute_reply.started": "2021-07-04T06:08:36.825120Z"
    }
   },
   "outputs": [],
   "source": [
    "# Google Cloud Dataset path to training and validation images\n",
    "GCS_DS_PATH = KaggleDatasets().get_gcs_path('bmsdata')"
   ]
  },
  {
   "cell_type": "code",
   "execution_count": 7,
   "metadata": {
    "execution": {
     "iopub.execute_input": "2021-07-04T06:08:46.580345Z",
     "iopub.status.busy": "2021-07-04T06:08:46.579883Z",
     "iopub.status.idle": "2021-07-04T06:08:46.604506Z",
     "shell.execute_reply": "2021-07-04T06:08:46.603334Z",
     "shell.execute_reply.started": "2021-07-04T06:08:46.580308Z"
    }
   },
   "outputs": [],
   "source": [
    "# dictionary to translate a character to the integer encoding\n",
    "with open('/kaggle/input/bmsdata/vocabulary_to_int.pkl', 'rb') as handle:\n",
    "    vocabulary_to_int = pickle.load( handle)\n",
    "\n",
    "# dictionary to decode an integer encoded character back to the character\n",
    "with open('/kaggle/input/bmsdata/int_to_vocabulary.pkl', 'rb') as handle:\n",
    "    int_to_vocabulary = pickle.load( handle)"
   ]
  },
  {
   "cell_type": "code",
   "execution_count": 8,
   "metadata": {
    "execution": {
     "iopub.execute_input": "2021-07-04T06:08:46.606240Z",
     "iopub.status.busy": "2021-07-04T06:08:46.605921Z",
     "iopub.status.idle": "2021-07-04T06:08:46.612136Z",
     "shell.execute_reply": "2021-07-04T06:08:46.611317Z",
     "shell.execute_reply.started": "2021-07-04T06:08:46.606208Z"
    }
   },
   "outputs": [
    {
     "name": "stdout",
     "output_type": "stream",
     "text": [
      "VOCAB_SIZE: 41\n"
     ]
    }
   ],
   "source": [
    "# configure model\n",
    "VOCAB_SIZE = len(vocabulary_to_int.values())\n",
    "SEQ_LEN_OUT = MAX_INCHI_LEN\n",
    "DECODER_DIM = 512\n",
    "CHAR_EMBEDDING_DIM = 456\n",
    "ATTENTION_UNITS = 456\n",
    "\n",
    "print(f'VOCAB_SIZE: {VOCAB_SIZE}')"
   ]
  },
  {
   "cell_type": "code",
   "execution_count": 9,
   "metadata": {
    "execution": {
     "iopub.execute_input": "2021-07-04T06:08:46.613503Z",
     "iopub.status.busy": "2021-07-04T06:08:46.613198Z",
     "iopub.status.idle": "2021-07-04T06:08:46.633142Z",
     "shell.execute_reply": "2021-07-04T06:08:46.631287Z",
     "shell.execute_reply.started": "2021-07-04T06:08:46.613454Z"
    }
   },
   "outputs": [],
   "source": [
    "# decodes TFRecord\n",
    "def decode_tfrecord(record_bytes):\n",
    "    '''\n",
    "    Input - record_bytes\n",
    "    output - return images and InChi String\n",
    "    This function takes record_bytes\n",
    "    return images and InChi String\n",
    "    '''\n",
    "    \n",
    "    features = tf.io.parse_single_example(record_bytes, \n",
    "    {\n",
    "        'image': tf.io.FixedLenFeature([], tf.string),\n",
    "        'InChI': tf.io.FixedLenFeature([MAX_INCHI_LEN], tf.int64),\n",
    "    })\n",
    "\n",
    "    # decode the PNG and explicitly reshape to image size (required on TPU)\n",
    "    image = tf.io.decode_png(features['image'])    \n",
    "    image = tf.reshape(image, [IMG_HEIGHT, IMG_WIDTH, 1])\n",
    "    # normalize according to ImageNet mean and std\n",
    "    image = tf.cast(image, tf.float32)  / 255.0\n",
    "    image = (image - IMAGENET_MEAN) / IMAGENET_STD\n",
    "\n",
    "    if TPU: # if running on TPU image needs to be cast to bfloat16\n",
    "        image = tf.cast(image, TARGET_DTYPE)\n",
    "\n",
    "    InChI = tf.reshape(features['InChI'], [MAX_INCHI_LEN])\n",
    "    InChI = tf.cast(InChI, LABEL_DTYPE)\n",
    "\n",
    "    return image, InChI"
   ]
  },
  {
   "cell_type": "code",
   "execution_count": 10,
   "metadata": {
    "execution": {
     "iopub.execute_input": "2021-07-04T06:08:46.636949Z",
     "iopub.status.busy": "2021-07-04T06:08:46.636363Z",
     "iopub.status.idle": "2021-07-04T06:08:46.658917Z",
     "shell.execute_reply": "2021-07-04T06:08:46.657087Z",
     "shell.execute_reply.started": "2021-07-04T06:08:46.636910Z"
    }
   },
   "outputs": [],
   "source": [
    "# plots the first images of the dataset\n",
    "def show_batch(dataset, rows=3, cols=2):\n",
    "    '''\n",
    "    Input - TFRecords Dataset\n",
    "    output - Shows the Sample images present in the Dataset\n",
    "    This function takes Dataset\n",
    "    return shows the sample images\n",
    "    '''\n",
    "    imgs, lbls = next(iter(dataset))\n",
    "    fig, axes = plt.subplots(nrows=rows, ncols=cols, figsize=(cols*7, rows*4))\n",
    "    for r in range(rows):\n",
    "        for c in range(cols):\n",
    "            img = imgs[r*cols+c].numpy().astype(np.float32)\n",
    "            axes[r, c].imshow(img)"
   ]
  },
  {
   "cell_type": "code",
   "execution_count": 11,
   "metadata": {
    "execution": {
     "iopub.execute_input": "2021-07-04T06:08:46.661474Z",
     "iopub.status.busy": "2021-07-04T06:08:46.661041Z",
     "iopub.status.idle": "2021-07-04T06:08:47.106205Z",
     "shell.execute_reply": "2021-07-04T06:08:47.105148Z",
     "shell.execute_reply.started": "2021-07-04T06:08:46.661437Z"
    }
   },
   "outputs": [],
   "source": [
    "def get_train_dataset(bs=BATCH_SIZE):\n",
    "    '''\n",
    "    Input - Batch Size\n",
    "    output - returns the Training Dataset\n",
    "    '''\n",
    "    ignore_order = tf.data.Options()\n",
    "    ignore_order.experimental_deterministic = False\n",
    "    \n",
    "    FNAMES_TRAIN_TFRECORDS = tf.io.gfile.glob(f'{GCS_DS_PATH}/train/*.tfrecords')# .glob is used to find the path for all the TFrecords\n",
    "    train_dataset = tf.data.TFRecordDataset(FNAMES_TRAIN_TFRECORDS, num_parallel_reads=AUTO)\n",
    "    train_dataset = train_dataset.with_options(ignore_order)\n",
    "    train_dataset = train_dataset.prefetch(AUTO) # optimize automatically\n",
    "    train_dataset = train_dataset.repeat()\n",
    "    train_dataset = train_dataset.map(decode_tfrecord, num_parallel_calls=AUTO)  # optimize automatically\n",
    "    train_dataset = train_dataset.batch(BATCH_SIZE, drop_remainder=True)# to have same batch size\n",
    "    train_dataset = train_dataset.prefetch(1) # just 1 prefetched batch is needed\n",
    "    \n",
    "    return train_dataset\n",
    "\n",
    "train_dataset = get_train_dataset()"
   ]
  },
  {
   "cell_type": "code",
   "execution_count": 12,
   "metadata": {
    "execution": {
     "iopub.execute_input": "2021-07-04T06:08:52.255997Z",
     "iopub.status.busy": "2021-07-04T06:08:52.255263Z",
     "iopub.status.idle": "2021-07-04T06:09:00.504289Z",
     "shell.execute_reply": "2021-07-04T06:09:00.503216Z",
     "shell.execute_reply.started": "2021-07-04T06:08:52.255956Z"
    }
   },
   "outputs": [
    {
     "data": {
      "image/png": "[encoded data removed]",
      "text/plain": [
       "<Figure size 1008x864 with 6 Axes>"
      ]
     },
     "metadata": {
      "needs_background": "light"
     },
     "output_type": "display_data"
    }
   ],
   "source": [
    "# show first few train images\n",
    "show_batch(train_dataset)"
   ]
  },
  {
   "cell_type": "code",
   "execution_count": null,
   "metadata": {},
   "outputs": [],
   "source": [
    "def get_val_dataset(bs=BATCH_SIZE):\n",
    "     '''\n",
    "    Input - Batch Size\n",
    "    output - returns the Training Dataset\n",
    "    '''\n",
    "    FNAMES_TRAIN_TFRECORDS = tf.io.gfile.glob(f'{GCS_DS_PATH}/val/*.tfrecords')# .glob is used to find the path for all the TFrecords\n",
    "\n",
    "    val_dataset = tf.data.TFRecordDataset(FNAMES_TRAIN_TFRECORDS, num_parallel_reads=AUTO)\n",
    "    val_dataset = val_dataset.prefetch(AUTO)# optimize automatically\n",
    "    val_dataset = val_dataset.repeat()\n",
    "    val_dataset = val_dataset.map(decode_tfrecord, num_parallel_calls=AUTO)\n",
    "    val_dataset = val_dataset.batch(BATCH_SIZE, drop_remainder=True)\n",
    "    val_dataset = val_dataset.prefetch(1)\n",
    "    \n",
    "    return val_dataset\n",
    "\n",
    "val_dataset = get_val_dataset()"
   ]
  },
  {
   "cell_type": "code",
   "execution_count": 15,
   "metadata": {
    "execution": {
     "iopub.execute_input": "2021-07-04T06:09:33.772569Z",
     "iopub.status.busy": "2021-07-04T06:09:33.772143Z",
     "iopub.status.idle": "2021-07-04T06:09:33.882963Z",
     "shell.execute_reply": "2021-07-04T06:09:33.881767Z",
     "shell.execute_reply.started": "2021-07-04T06:09:33.772536Z"
    }
   },
   "outputs": [],
   "source": [
    "def get_val_dataset(bs=BATCH_SIZE):\n",
    "    FNAMES_TRAIN_TFRECORDS = tf.io.gfile.glob(f'{GCS_DS_PATH}/val/*.tfrecords')# .glob is used to find the path for all the TFrecords\n",
    "\n",
    "    val_dataset = tf.data.TFRecordDataset(FNAMES_TRAIN_TFRECORDS, num_parallel_reads=AUTO)\n",
    "    val_dataset = val_dataset.prefetch(AUTO)# optimize automatically\n",
    "    val_dataset = val_dataset.repeat()\n",
    "    val_dataset = val_dataset.map(decode_tfrecord, num_parallel_calls=AUTO)\n",
    "    val_dataset = val_dataset.batch(BATCH_SIZE, drop_remainder=True)\n",
    "    val_dataset = val_dataset.prefetch(1)\n",
    "    \n",
    "    return val_dataset\n",
    "\n",
    "val_dataset = get_val_dataset()"
   ]
  },
  {
   "cell_type": "code",
   "execution_count": 16,
   "metadata": {
    "execution": {
     "iopub.execute_input": "2021-07-04T06:09:39.665781Z",
     "iopub.status.busy": "2021-07-04T06:09:39.665401Z",
     "iopub.status.idle": "2021-07-04T06:09:43.798460Z",
     "shell.execute_reply": "2021-07-04T06:09:43.797398Z",
     "shell.execute_reply.started": "2021-07-04T06:09:39.665752Z"
    }
   },
   "outputs": [
    {
     "data": {
      "image/png": "[encoded data removed]",
      "text/plain": [
       "<Figure size 1008x864 with 6 Axes>"
      ]
     },
     "metadata": {
      "needs_background": "light"
     },
     "output_type": "display_data"
    }
   ],
   "source": [
    "show_batch(val_dataset)"
   ]
  },
  {
   "cell_type": "code",
   "execution_count": 17,
   "metadata": {
    "execution": {
     "iopub.execute_input": "2021-07-04T06:09:45.899856Z",
     "iopub.status.busy": "2021-07-04T06:09:45.899401Z",
     "iopub.status.idle": "2021-07-04T06:09:45.909378Z",
     "shell.execute_reply": "2021-07-04T06:09:45.908120Z",
     "shell.execute_reply.started": "2021-07-04T06:09:45.899821Z"
    }
   },
   "outputs": [],
   "source": [
    "class Encoder(tf.keras.Model):\n",
    "    def __init__(self):\n",
    "        super(Encoder, self).__init__()\n",
    "        \n",
    "        # output: (bs, 1280, 14, 8)\n",
    "        self.feature_maps = efn.EfficientNetB0(include_top=False)\n",
    "        \n",
    "        \n",
    "        # set global encoder dimension variable\n",
    "        global ENCODER_DIM\n",
    "        ENCODER_DIM = self.feature_maps.layers[-1].output_shape[-1]\n",
    "        \n",
    "        # output: (bs, 1280, 112)\n",
    "        self.reshape = tf.keras.layers.Reshape([-1, ENCODER_DIM], name='reshape_featuere_maps')\n",
    "\n",
    "    def call(self, x, training, debug=False):\n",
    "        x = self.feature_maps(x, training=training)\n",
    "        if debug:\n",
    "            print(f'feature maps shape: {x.shape}')\n",
    "            \n",
    "        x = self.reshape(x, training=training)\n",
    "        if debug:\n",
    "            print(f'feature maps reshaped shape: {x.shape}')\n",
    "        \n",
    "        return x"
   ]
  },
  {
   "cell_type": "code",
   "execution_count": 18,
   "metadata": {
    "execution": {
     "iopub.execute_input": "2021-07-04T06:09:52.442691Z",
     "iopub.status.busy": "2021-07-04T06:09:52.442291Z",
     "iopub.status.idle": "2021-07-04T06:09:52.628942Z",
     "shell.execute_reply": "2021-07-04T06:09:52.627451Z",
     "shell.execute_reply.started": "2021-07-04T06:09:52.442658Z"
    }
   },
   "outputs": [],
   "source": [
    "imgs, lbls = next(iter(train_dataset))"
   ]
  },
  {
   "cell_type": "code",
   "execution_count": 19,
   "metadata": {
    "execution": {
     "iopub.execute_input": "2021-07-04T06:09:56.573780Z",
     "iopub.status.busy": "2021-07-04T06:09:56.573379Z",
     "iopub.status.idle": "2021-07-04T06:10:00.333363Z",
     "shell.execute_reply": "2021-07-04T06:10:00.331831Z",
     "shell.execute_reply.started": "2021-07-04T06:09:56.573749Z"
    }
   },
   "outputs": [
    {
     "name": "stdout",
     "output_type": "stream",
     "text": [
      "Downloading data from https://github.com/Callidior/keras-applications/releases/download/efficientnet/efficientnet-b0_weights_tf_dim_ordering_tf_kernels_autoaugment_notop.h5\n",
      "16809984/16804768 [==============================] - 0s 0us/step\n",
      "feature maps shape: (2, 8, 14, 1280)\n",
      "feature maps reshaped shape: (2, 112, 1280)\n",
      "Encoder output shape: (batch size, sequence length, units) (2, 112, 1280)\n"
     ]
    }
   ],
   "source": [
    "# Example enoder output\n",
    "with tf.device('/CPU:0'):\n",
    "    encoder = Encoder()\n",
    "    encoder_res = encoder(imgs[:BATCH_SIZE_DEBUG], debug=True)\n",
    "\n",
    "print ('Encoder output shape: (batch size, sequence length, units) {}'.format(encoder_res.shape))"
   ]
  },
  {
   "cell_type": "code",
   "execution_count": 20,
   "metadata": {
    "execution": {
     "iopub.execute_input": "2021-07-04T06:10:06.745983Z",
     "iopub.status.busy": "2021-07-04T06:10:06.745549Z",
     "iopub.status.idle": "2021-07-04T06:10:06.756979Z",
     "shell.execute_reply": "2021-07-04T06:10:06.755752Z",
     "shell.execute_reply.started": "2021-07-04T06:10:06.745948Z"
    }
   },
   "outputs": [],
   "source": [
    "class BahdanauAttention(tf.keras.layers.Layer):\n",
    "    def __init__(self, units):\n",
    "        super(BahdanauAttention, self).__init__()\n",
    "        self.H = tf.keras.layers.Dense(units, name='hidden_to_attention_units')\n",
    "        self.E = tf.keras.layers.Dense(units, name='encoder_res_to_attention_units')\n",
    "        self.V = tf.keras.layers.Dense(1, name='score_to_alpha')\n",
    "\n",
    "    def call(self, h, encoder_res, training, debug=False):\n",
    "        # dense hidden state to attention units size and expand dimension\n",
    "        h_expand = tf.expand_dims(h, axis=1) # expand dimension\n",
    "        if debug:\n",
    "            print(f'h shape: {h.shape}, encoder_res shape: {encoder_res.shape}')\n",
    "            print(f'h_expand shape: {h_expand.shape}')\n",
    "            \n",
    "        h_dense = self.H(h_expand, training=training)\n",
    "        \n",
    "        # dense features to units size\n",
    "        encoder_res_dense = self.E(encoder_res, training=training) # dense to attention\n",
    "\n",
    "        # add vectors\n",
    "        score = tf.nn.relu(h_dense + encoder_res_dense)\n",
    "        if debug:\n",
    "            print(f'h_dense shape: {h_dense.shape}')\n",
    "            print(f'encoder_res_dense shape: {encoder_res_dense.shape}')\n",
    "            print(f'score tanh shape: {score.shape}')\n",
    "        score = self.V(score, training=training)\n",
    "        \n",
    "        # create alpha vector size (bs, layers)        \n",
    "        attention_weights = tf.nn.softmax(score, axis=1)\n",
    "        \n",
    "        # create attention weights (bs, layers)\n",
    "        context_vector = encoder_res * attention_weights\n",
    "    \n",
    "        # reduce to ENCODER_DIM features\n",
    "        context_vector = tf.reduce_sum(context_vector, axis=1)\n",
    "        \n",
    "        return context_vector"
   ]
  },
  {
   "cell_type": "code",
   "execution_count": 21,
   "metadata": {
    "execution": {
     "iopub.execute_input": "2021-07-04T06:10:09.445505Z",
     "iopub.status.busy": "2021-07-04T06:10:09.444795Z",
     "iopub.status.idle": "2021-07-04T06:10:09.499466Z",
     "shell.execute_reply": "2021-07-04T06:10:09.498129Z",
     "shell.execute_reply.started": "2021-07-04T06:10:09.445430Z"
    }
   },
   "outputs": [
    {
     "name": "stdout",
     "output_type": "stream",
     "text": [
      "h shape: (2, 512), encoder_res shape: (2, 112, 1280)\n",
      "h_expand shape: (2, 1, 512)\n",
      "h_dense shape: (2, 1, 456)\n",
      "encoder_res_dense shape: (2, 112, 456)\n",
      "score tanh shape: (2, 112, 456)\n",
      "context_vector shape: (batch size, units) (1280,)\n",
      "attention_weights shape: (batch_size, sequence_length, 1) (1280,)\n"
     ]
    }
   ],
   "source": [
    "with tf.device('/CPU:0'):\n",
    "    attention_layer = BahdanauAttention(ATTENTION_UNITS)\n",
    "    context_vector, attention_weights = attention_layer(tf.zeros([BATCH_SIZE_DEBUG, DECODER_DIM]), encoder_res, debug=True)\n",
    "\n",
    "print('context_vector shape: (batch size, units) {}'.format(context_vector.shape))\n",
    "print('attention_weights shape: (batch_size, sequence_length, 1) {}'.format(attention_weights.shape))"
   ]
  },
  {
   "cell_type": "code",
   "execution_count": 22,
   "metadata": {
    "execution": {
     "iopub.execute_input": "2021-07-04T06:10:12.356213Z",
     "iopub.status.busy": "2021-07-04T06:10:12.355398Z",
     "iopub.status.idle": "2021-07-04T06:10:12.374875Z",
     "shell.execute_reply": "2021-07-04T06:10:12.373547Z",
     "shell.execute_reply.started": "2021-07-04T06:10:12.356152Z"
    }
   },
   "outputs": [],
   "source": [
    "class Decoder(tf.keras.Model):\n",
    "    def __init__(self, vocab_size, attention_units, encoder_dim, decoder_dim, char_embedding_dim):\n",
    "        super(Decoder, self).__init__()\n",
    "        \n",
    "        # LSTM hidden and carry state initialization\n",
    "        self.init_h = tf.keras.layers.Dense(units=decoder_dim, input_shape=[encoder_dim], name='encoder_res_to_hidden_init')\n",
    "        self.init_c = tf.keras.layers.Dense(units=decoder_dim, input_shape=[encoder_dim], name='encoder_res_to_inp_act_init')\n",
    "        # The LSTM cell\n",
    "        self.lstm_cell = tf.keras.layers.LSTMCell(decoder_dim, name='lstm_char_predictor')\n",
    "        # dropout before prediction\n",
    "        self.do = tf.keras.layers.Dropout(0.30, name='prediction_dropout')\n",
    "        # fully connected prediction layer\n",
    "        self.fcn = tf.keras.layers.Dense(units=vocab_size, input_shape=[decoder_dim], dtype=tf.float32, name='lstm_output_to_char_probs')\n",
    "        # character embedding layer\n",
    "        self.embedding = tf.keras.layers.Embedding(vocab_size, char_embedding_dim, name='character_embedding')\n",
    "\n",
    "        # used for attention\n",
    "        self.attention = BahdanauAttention(attention_units)\n",
    "\n",
    "    def call(self, char, h, c, enc_output, training, debug=False):\n",
    "        if debug:\n",
    "            print(f'char shape: {char.shape}, h shape: {h.shape}, c shape: {c.shape}, enc_output shape: {enc_output.shape}')\n",
    "        # embed previous character\n",
    "        char = self.embedding(char, training=training)\n",
    "        char = tf.squeeze(char, axis=1)\n",
    "        if debug:\n",
    "            print(f'char embedded and squeezed shape: {char.shape}')\n",
    "        # get attention alpha and context vector\n",
    "        context = self.attention(h, enc_output, training=training)\n",
    "\n",
    "        # concat context and char to create lstm input\n",
    "        lstm_input = tf.concat((context, char), axis=-1)\n",
    "        if debug:\n",
    "            print(f'lstm_input shape: {lstm_input.shape}')\n",
    "        \n",
    "        # LSTM call, get new h, c\n",
    "        _, (h_new, c_new) = self.lstm_cell(lstm_input, (h, c), training=training)\n",
    "        \n",
    "        # compute predictions with dropout\n",
    "        output = self.do(h_new, training=training)\n",
    "        output = self.fcn(output, training=training)\n",
    "\n",
    "        return output, h_new, c_new\n",
    "    \n",
    "    def init_hidden_state(self, encoder_out, training):\n",
    "        mean_encoder_out = tf.math.reduce_mean(encoder_out, axis=1)\n",
    "        h = self.init_h(mean_encoder_out, training=training)  # (batch_size, decoder_dim)\n",
    "        c = self.init_c(mean_encoder_out, training=training)\n",
    "        return h, c"
   ]
  },
  {
   "cell_type": "code",
   "execution_count": 23,
   "metadata": {
    "execution": {
     "iopub.execute_input": "2021-07-04T06:10:15.817318Z",
     "iopub.status.busy": "2021-07-04T06:10:15.816922Z",
     "iopub.status.idle": "2021-07-04T06:10:16.082592Z",
     "shell.execute_reply": "2021-07-04T06:10:16.081320Z",
     "shell.execute_reply.started": "2021-07-04T06:10:15.817283Z"
    }
   },
   "outputs": [
    {
     "name": "stdout",
     "output_type": "stream",
     "text": [
      "char shape: (2, 1), h shape: (2, 512), c shape: (2, 512), enc_output shape: (2, 112, 1280)\n",
      "char embedded and squeezed shape: (2, 456)\n",
      "lstm_input shape: (2, 1736)\n",
      "Decoder output shape: (batch_size, vocab size) (2, 41)\n"
     ]
    }
   ],
   "source": [
    "with tf.device('/CPU:0'):\n",
    "    decoder = Decoder(VOCAB_SIZE, ATTENTION_UNITS, ENCODER_DIM, DECODER_DIM, CHAR_EMBEDDING_DIM)\n",
    "    h, c = decoder.init_hidden_state(encoder_res[:BATCH_SIZE_DEBUG], training=False)\n",
    "    preds, h, c = decoder(lbls[:BATCH_SIZE_DEBUG, :1], h, c, encoder_res, debug=True)\n",
    "\n",
    "print ('Decoder output shape: (batch_size, vocab size) {}'.format(preds.shape))"
   ]
  },
  {
   "cell_type": "code",
   "execution_count": 24,
   "metadata": {
    "execution": {
     "iopub.execute_input": "2021-07-04T06:10:16.174602Z",
     "iopub.status.busy": "2021-07-04T06:10:16.174212Z",
     "iopub.status.idle": "2021-07-04T06:10:16.181463Z",
     "shell.execute_reply": "2021-07-04T06:10:16.179974Z",
     "shell.execute_reply.started": "2021-07-04T06:10:16.174571Z"
    }
   },
   "outputs": [],
   "source": [
    "# The start/end/pad tokens will be removed from the string when computing the Levenshtein distance\n",
    "START_TOKEN = tf.constant(vocabulary_to_int.get('<start>'), dtype=tf.int64)\n",
    "END_TOKEN = tf.constant(vocabulary_to_int.get('<end>'), dtype=tf.int64)\n",
    "PAD_TOKEN = tf.constant(vocabulary_to_int.get('<pad>'), dtype=tf.int64)"
   ]
  },
  {
   "cell_type": "code",
   "execution_count": 25,
   "metadata": {
    "execution": {
     "iopub.execute_input": "2021-07-04T06:10:22.748069Z",
     "iopub.status.busy": "2021-07-04T06:10:22.747671Z",
     "iopub.status.idle": "2021-07-04T06:10:45.053697Z",
     "shell.execute_reply": "2021-07-04T06:10:45.052527Z",
     "shell.execute_reply.started": "2021-07-04T06:10:22.748037Z"
    }
   },
   "outputs": [
    {
     "name": "stdout",
     "output_type": "stream",
     "text": [
      "Compute dtype: float32\n",
      "Variable dtype: float32\n"
     ]
    }
   ],
   "source": [
    "\n",
    "tf.keras.backend.clear_session()\n",
    "\n",
    "# initialize the model, a dummy call to the encoder and deocder is made to allow the summaries to be printed\n",
    "with strategy.scope():\n",
    "    # # set half precision policy\n",
    "    mixed_precision.set_policy('float32')\n",
    "\n",
    "    # enable XLA optmizations\n",
    "    tf.config.optimizer.set_jit(True)\n",
    "\n",
    "    print(f'Compute dtype: {mixed_precision.global_policy().compute_dtype}')\n",
    "    print(f'Variable dtype: {mixed_precision.global_policy().variable_dtype}')\n",
    "    \n",
    "    # Sparse categorical cross entropy loss is used\n",
    "    loss_object = tf.keras.losses.SparseCategoricalCrossentropy(from_logits=True, reduction=tf.keras.losses.Reduction.NONE)\n",
    "\n",
    "    def loss_function(real, pred):\n",
    "        per_example_loss = loss_object(real, pred)\n",
    "\n",
    "        return tf.nn.compute_average_loss(per_example_loss, global_batch_size=BATCH_SIZE)\n",
    "    \n",
    "    # Metrics\n",
    "    train_accuracy = tf.keras.metrics.SparseCategoricalAccuracy()\n",
    "    train_loss = tf.keras.metrics.Sum()\n",
    "    val_loss = tf.keras.metrics.Sum()\n",
    "\n",
    "\n",
    "    # Encoder\n",
    "    encoder = Encoder()\n",
    "    encoder.build(input_shape=[BATCH_SIZE, IMG_HEIGHT, IMG_WIDTH, N_CHANNELS])\n",
    "    encoder_res = encoder(imgs[:2], training=False)\n",
    "    \n",
    "    # Decoder\n",
    "    decoder = Decoder(VOCAB_SIZE, ATTENTION_UNITS, ENCODER_DIM, DECODER_DIM, CHAR_EMBEDDING_DIM)\n",
    "    h, c = decoder.init_hidden_state(encoder_res, training=False)\n",
    "    preds, h, c = decoder(lbls[:2, :1], h, c, encoder_res, training=False)\n",
    "    \n",
    "    # Adam Optimizer\n",
    "    optimizer = tf.keras.optimizers.Adam()"
   ]
  },
  {
   "cell_type": "code",
   "execution_count": 26,
   "metadata": {
    "execution": {
     "iopub.execute_input": "2021-07-04T06:10:45.055831Z",
     "iopub.status.busy": "2021-07-04T06:10:45.055403Z",
     "iopub.status.idle": "2021-07-04T06:10:45.087572Z",
     "shell.execute_reply": "2021-07-04T06:10:45.086390Z",
     "shell.execute_reply.started": "2021-07-04T06:10:45.055786Z"
    }
   },
   "outputs": [
    {
     "name": "stdout",
     "output_type": "stream",
     "text": [
      "Model: \"encoder\"\n",
      "_________________________________________________________________\n",
      "Layer (type)                 Output Shape              Param #   \n",
      "=================================================================\n",
      "efficientnet-b0 (Functional) (None, None, None, 1280)  4049564   \n",
      "_________________________________________________________________\n",
      "reshape_featuere_maps (Resha multiple                  0         \n",
      "=================================================================\n",
      "Total params: 4,049,564\n",
      "Trainable params: 4,007,548\n",
      "Non-trainable params: 42,016\n",
      "_________________________________________________________________\n"
     ]
    }
   ],
   "source": [
    "encoder.summary()"
   ]
  },
  {
   "cell_type": "code",
   "execution_count": 27,
   "metadata": {
    "execution": {
     "iopub.execute_input": "2021-07-04T06:10:45.090071Z",
     "iopub.status.busy": "2021-07-04T06:10:45.089769Z",
     "iopub.status.idle": "2021-07-04T06:10:45.098626Z",
     "shell.execute_reply": "2021-07-04T06:10:45.097364Z",
     "shell.execute_reply.started": "2021-07-04T06:10:45.090043Z"
    }
   },
   "outputs": [
    {
     "name": "stdout",
     "output_type": "stream",
     "text": [
      "Model: \"decoder\"\n",
      "_________________________________________________________________\n",
      "Layer (type)                 Output Shape              Param #   \n",
      "=================================================================\n",
      "encoder_res_to_hidden_init ( multiple                  655872    \n",
      "_________________________________________________________________\n",
      "encoder_res_to_inp_act_init  multiple                  655872    \n",
      "_________________________________________________________________\n",
      "lstm_char_predictor (LSTMCel multiple                  4605952   \n",
      "_________________________________________________________________\n",
      "prediction_dropout (Dropout) multiple                  0         \n",
      "_________________________________________________________________\n",
      "lstm_output_to_char_probs (D multiple                  21033     \n",
      "_________________________________________________________________\n",
      "character_embedding (Embeddi multiple                  18696     \n",
      "_________________________________________________________________\n",
      "bahdanau_attention (Bahdanau multiple                  818521    \n",
      "=================================================================\n",
      "Total params: 6,775,946\n",
      "Trainable params: 6,775,946\n",
      "Non-trainable params: 0\n",
      "_________________________________________________________________\n"
     ]
    }
   ],
   "source": [
    "decoder.summary()"
   ]
  },
  {
   "cell_type": "code",
   "execution_count": 28,
   "metadata": {
    "execution": {
     "iopub.execute_input": "2021-07-04T06:10:45.100586Z",
     "iopub.status.busy": "2021-07-04T06:10:45.100146Z",
     "iopub.status.idle": "2021-07-04T06:10:45.110872Z",
     "shell.execute_reply": "2021-07-04T06:10:45.109661Z",
     "shell.execute_reply.started": "2021-07-04T06:10:45.100555Z"
    }
   },
   "outputs": [],
   "source": [
    "# Training configuration\n",
    "EPOCHS = 10\n",
    "WARMUP_STEPS = 500\n",
    "TRAIN_STEPS = 1000\n",
    "VERBOSE_FREQ = 100\n",
    "STEPS_PER_EPOCH = TRAIN_STEPS // VERBOSE_FREQ\n",
    "TOTAL_STEPS = EPOCHS * TRAIN_STEPS"
   ]
  },
  {
   "cell_type": "code",
   "execution_count": 29,
   "metadata": {
    "execution": {
     "iopub.execute_input": "2021-07-04T06:10:45.112985Z",
     "iopub.status.busy": "2021-07-04T06:10:45.112540Z",
     "iopub.status.idle": "2021-07-04T06:10:45.125758Z",
     "shell.execute_reply": "2021-07-04T06:10:45.124130Z",
     "shell.execute_reply.started": "2021-07-04T06:10:45.112954Z"
    }
   },
   "outputs": [],
   "source": [
    "def lrfn(step, WARMUP_LR_START, LR_START, LR_FINAL, DECAYS):\n",
    "    # exponential warmup\n",
    "    if step < WARMUP_STEPS:\n",
    "        warmup_factor = (step / WARMUP_STEPS) ** 2\n",
    "        lr = WARMUP_LR_START + (LR_START - WARMUP_LR_START) * warmup_factor\n",
    "    # staircase decay\n",
    "    else:\n",
    "        power = (step - WARMUP_STEPS) // ((TOTAL_STEPS - WARMUP_STEPS) / (DECAYS + 1))\n",
    "        decay_factor =  ((LR_START / LR_FINAL) ** (1 / DECAYS)) ** power\n",
    "        lr = LR_START / decay_factor\n",
    "\n",
    "    return round(lr, 8)"
   ]
  },
  {
   "cell_type": "code",
   "execution_count": 30,
   "metadata": {
    "execution": {
     "iopub.execute_input": "2021-07-04T06:10:46.638630Z",
     "iopub.status.busy": "2021-07-04T06:10:46.638248Z",
     "iopub.status.idle": "2021-07-04T06:10:46.878946Z",
     "shell.execute_reply": "2021-07-04T06:10:46.877669Z",
     "shell.execute_reply.started": "2021-07-04T06:10:46.638597Z"
    }
   },
   "outputs": [
    {
     "data": {
      "image/png": "[encoded data removed]",
      "text/plain": [
       "<Figure size 1080x576 with 1 Axes>"
      ]
     },
     "metadata": {
      "needs_background": "light"
     },
     "output_type": "display_data"
    }
   ],
   "source": [
    "# plot the learning rate schedule\n",
    "def plot_lr_schedule(lr_schedule, name):\n",
    "    plt.figure(figsize=(15,8))\n",
    "    plt.plot(lr_schedule)\n",
    "    schedule_info = f'start: {lr_schedule[0]}, max: {max(lr_schedule)}, final: {lr_schedule[-1]}'\n",
    "    plt.title(f'Step Learning Rate Schedule {name}, {schedule_info}', size=16)\n",
    "    plt.grid()\n",
    "    plt.show()\n",
    "\n",
    "# Learning rate for encoder\n",
    "LR_SCHEDULE = [lrfn(step, 1e-8, 2e-3, 1e-4 ,EPOCHS) for step in range(TOTAL_STEPS)]\n",
    "plot_lr_schedule(LR_SCHEDULE, 'Ecnoder')"
   ]
  },
  {
   "cell_type": "code",
   "execution_count": 31,
   "metadata": {
    "execution": {
     "iopub.execute_input": "2021-07-04T06:10:47.182964Z",
     "iopub.status.busy": "2021-07-04T06:10:47.182580Z",
     "iopub.status.idle": "2021-07-04T06:10:47.193785Z",
     "shell.execute_reply": "2021-07-04T06:10:47.192338Z",
     "shell.execute_reply.started": "2021-07-04T06:10:47.182931Z"
    }
   },
   "outputs": [],
   "source": [
    "# converts a dense to a sparse tensor\n",
    "# sparse tensors are required to compute the Levenshtein distance\n",
    "def dense_to_sparse(dense):\n",
    "    ones = tf.ones(dense.shape)\n",
    "    indices = tf.where(ones)\n",
    "    values = tf.gather_nd(dense, indices)\n",
    "    sparse = tf.SparseTensor(indices, values, dense.shape)\n",
    "    \n",
    "    return sparse\n",
    "\n",
    "# computes the levenshtein distance between the predictions and labels\n",
    "def get_levenshtein_distance(preds, lbls):\n",
    "    preds = tf.cast(preds, tf.int64)\n",
    "\n",
    "    preds = tf.where(tf.not_equal(preds, START_TOKEN) & tf.not_equal(preds, END_TOKEN) & tf.not_equal(preds, PAD_TOKEN), preds, y=0)\n",
    "    \n",
    "    lbls = strategy.gather(lbls, axis=0)\n",
    "    lbls = tf.cast(lbls, tf.int64)\n",
    "    lbls = tf.where(tf.not_equal(lbls, START_TOKEN) & tf.not_equal(lbls, END_TOKEN) & tf.not_equal(lbls, PAD_TOKEN), lbls, y=0)\n",
    "    \n",
    "    preds_sparse = dense_to_sparse(preds)\n",
    "    lbls_sparse = dense_to_sparse(lbls)\n",
    "\n",
    "    batch_distance = tf.edit_distance(preds_sparse, lbls_sparse, normalize=False)\n",
    "    mean_distance = tf.math.reduce_mean(batch_distance)\n",
    "    \n",
    "    return mean_distance"
   ]
  },
  {
   "cell_type": "code",
   "execution_count": 32,
   "metadata": {
    "execution": {
     "iopub.execute_input": "2021-07-04T06:10:48.557107Z",
     "iopub.status.busy": "2021-07-04T06:10:48.556732Z",
     "iopub.status.idle": "2021-07-04T06:10:48.569117Z",
     "shell.execute_reply": "2021-07-04T06:10:48.567743Z",
     "shell.execute_reply.started": "2021-07-04T06:10:48.557077Z"
    }
   },
   "outputs": [],
   "source": [
    "@tf.function()\n",
    "def distributed_train_step(dataset):\n",
    "    # Step function\n",
    "    def train_step(inp, targ):\n",
    "        total_loss = 0.0\n",
    "\n",
    "        with tf.GradientTape() as tape:\n",
    "            enc_output = encoder(inp, training=True)\n",
    "            h, c = decoder.init_hidden_state(enc_output, training=True)\n",
    "            dec_input = tf.expand_dims(targ[:, 0], 1)\n",
    "\n",
    "            # Teacher forcing - feeding the target as the next input\n",
    "            for idx in range(1, SEQ_LEN_OUT):\n",
    "                t = targ[:, idx]\n",
    "                t = tf.reshape(t, [BATCH_SIZE_BASE])\n",
    "                # passing enc_output to the decoder\n",
    "                predictions, h, c = decoder(dec_input, h, c, enc_output, training=True)\n",
    "\n",
    "                # update loss and train metrics\n",
    "                total_loss += loss_function(t, predictions)\n",
    "                train_accuracy.update_state(t, predictions)\n",
    "                # using teacher forcing\n",
    "                dec_input = tf.expand_dims(t, 1)\n",
    "\n",
    "        variables = encoder.trainable_variables + decoder.trainable_variables\n",
    "        gradients = tape.gradient(total_loss, variables)\n",
    "        gradients, _ = tf.clip_by_global_norm(gradients, 10.0)\n",
    "        optimizer.apply_gradients(zip(gradients, variables))\n",
    "\n",
    "        batch_loss = total_loss / (SEQ_LEN_OUT - 1)\n",
    "        train_loss.update_state(batch_loss)\n",
    "    \n",
    "    # reset metrics\n",
    "    train_loss.reset_states()\n",
    "    train_accuracy.reset_states()\n",
    "    # perform VERBOSE_FREQ train steps\n",
    "    for _ in tf.range(tf.convert_to_tensor(VERBOSE_FREQ)):\n",
    "        strategy.run(train_step, args=next(dataset))"
   ]
  },
  {
   "cell_type": "code",
   "execution_count": 40,
   "metadata": {
    "execution": {
     "iopub.execute_input": "2021-07-04T06:39:52.846863Z",
     "iopub.status.busy": "2021-07-04T06:39:52.846433Z",
     "iopub.status.idle": "2021-07-04T06:39:52.856318Z",
     "shell.execute_reply": "2021-07-04T06:39:52.854984Z",
     "shell.execute_reply.started": "2021-07-04T06:39:52.846829Z"
    }
   },
   "outputs": [],
   "source": [
    "def validation_step(inp, targ):\n",
    "    total_loss = 0.0\n",
    "    enc_output = encoder(inp, training=False)\n",
    "    h, c = decoder.init_hidden_state(enc_output, training=False)\n",
    "    dec_input = tf.expand_dims(targ[:, 0], 1)\n",
    "\n",
    "    predictions_seq = tf.expand_dims(targ[:, 0], 1)\n",
    "\n",
    "    # Teacher forcing - feeding the target as the next input\n",
    "    for t in range(1, SEQ_LEN_OUT):\n",
    "        # passing enc_output to the decoder\n",
    "        predictions, h, c = decoder(dec_input, h, c, enc_output, training=False)\n",
    "\n",
    "        # add loss \n",
    "        # update loss and train metrics\n",
    "        total_loss += loss_function(targ[:, t], predictions)\n",
    "        \n",
    "        # add predictions to pred_seq\n",
    "        dec_input = tf.math.argmax(predictions, axis=1, output_type=tf.int32)\n",
    "        dec_input = tf.expand_dims(dec_input, axis=1)\n",
    "        dec_input = tf.cast(dec_input, LABEL_DTYPE)\n",
    "        predictions_seq = tf.concat([predictions_seq, dec_input], axis=1)\n",
    "        \n",
    "    batch_loss = total_loss / (SEQ_LEN_OUT - 1)\n",
    "    val_loss.update_state(batch_loss)\n",
    "    \n",
    "    return predictions_seq"
   ]
  },
  {
   "cell_type": "code",
   "execution_count": 41,
   "metadata": {
    "execution": {
     "iopub.execute_input": "2021-07-04T06:39:53.917864Z",
     "iopub.status.busy": "2021-07-04T06:39:53.917274Z",
     "iopub.status.idle": "2021-07-04T06:39:53.924042Z",
     "shell.execute_reply": "2021-07-04T06:39:53.923087Z",
     "shell.execute_reply.started": "2021-07-04T06:39:53.917827Z"
    }
   },
   "outputs": [],
   "source": [
    "@tf.function\n",
    "def distributed_val_step(dataset):\n",
    "    inp_val, targ_val = next(dataset)\n",
    "    per_replica_predictions_seq = strategy.run(validation_step, args=(inp_val, targ_val))\n",
    "    predictions_seq = strategy.gather(per_replica_predictions_seq, axis=0)\n",
    "    \n",
    "    return predictions_seq, targ_val"
   ]
  },
  {
   "cell_type": "code",
   "execution_count": 42,
   "metadata": {
    "execution": {
     "iopub.execute_input": "2021-07-04T06:39:54.377000Z",
     "iopub.status.busy": "2021-07-04T06:39:54.376474Z",
     "iopub.status.idle": "2021-07-04T06:39:55.323316Z",
     "shell.execute_reply": "2021-07-04T06:39:55.321830Z",
     "shell.execute_reply.started": "2021-07-04T06:39:54.376969Z"
    }
   },
   "outputs": [],
   "source": [
    "def get_val_metrics(val_dist_dataset):\n",
    "    \n",
    "    # reset metrics\n",
    "    val_loss.reset_states()\n",
    "    total_ls_distance = 0.0\n",
    "    \n",
    "    for step in range(VAL_STEPS):\n",
    "        predictions_seq, targ = distributed_val_step(val_dist_dataset)\n",
    "        levenshtein_distance = get_levenshtein_distance(predictions_seq, targ)\n",
    "        total_ls_distance += levenshtein_distance\n",
    "    \n",
    "    return total_ls_distance / VAL_STEPS\n"
   ]
  },
  {
   "cell_type": "code",
   "execution_count": 43,
   "metadata": {
    "execution": {
     "iopub.execute_input": "2021-07-04T06:39:55.325434Z",
     "iopub.status.busy": "2021-07-04T06:39:55.325120Z",
     "iopub.status.idle": "2021-07-04T06:39:55.333213Z",
     "shell.execute_reply": "2021-07-04T06:39:55.331744Z",
     "shell.execute_reply.started": "2021-07-04T06:39:55.325405Z"
    }
   },
   "outputs": [],
   "source": [
    "def log(batch, t_start_batch, val_ls_distance=False):\n",
    "    print(\n",
    "        f'Step %s|' % f'{batch * VERBOSE_FREQ}/{TRAIN_STEPS}'.ljust(10, ' '),\n",
    "        f'loss: %.3f,' % (train_loss.result() / VERBOSE_FREQ),\n",
    "        f'acc: %.3f, ' % train_accuracy.result(),\n",
    "    end='')\n",
    "    \n",
    "    if val_ls_distance:\n",
    "        print(\n",
    "            f'val_loss: %.3f, ' % (val_loss.result() / VERBOSE_FREQ),\n",
    "            f'val lsd: %s,' % ('%.1f' % val_ls_distance).ljust(5, ' '),\n",
    "        end='')\n",
    "    # always end with batch duration and line break\n",
    "    print(\n",
    "        f'lr: %s,' % ('%.1E' % LRREDUCE.get_lr()).ljust(7),\n",
    "        f't: %s sec' % int(time.time() - t_start_batch),\n",
    "    )"
   ]
  },
  {
   "cell_type": "code",
   "execution_count": 44,
   "metadata": {
    "execution": {
     "iopub.execute_input": "2021-07-04T06:39:55.729424Z",
     "iopub.status.busy": "2021-07-04T06:39:55.729052Z",
     "iopub.status.idle": "2021-07-04T06:39:55.739303Z",
     "shell.execute_reply": "2021-07-04T06:39:55.737943Z",
     "shell.execute_reply.started": "2021-07-04T06:39:55.729394Z"
    }
   },
   "outputs": [],
   "source": [
    "class Stats():\n",
    "    def __init__(self):\n",
    "        self.stats = {\n",
    "            'train_loss': [],\n",
    "            'train_acc': [],\n",
    "        }\n",
    "        \n",
    "    def update_stats(self):\n",
    "        self.stats['train_loss'].append(train_loss.result() / VERBOSE_FREQ)\n",
    "        self.stats['train_acc'].append(train_accuracy.result())\n",
    "        \n",
    "    def get_stats(self, metric):\n",
    "        return self.stats[metric]\n",
    "        \n",
    "    def plot_stat(self, metric):\n",
    "        plt.figure(figsize=(15,8))\n",
    "        plt.xticks(fontsize=16)\n",
    "        plt.yticks(fontsize=16)\n",
    "        plt.plot(self.stats[metric])\n",
    "        plt.grid()\n",
    "        plt.title(f'{metric} stats', size=24)\n",
    "        plt.show()\n",
    "        \n",
    "STATS = Stats()"
   ]
  },
  {
   "cell_type": "code",
   "execution_count": 45,
   "metadata": {
    "execution": {
     "iopub.execute_input": "2021-07-04T06:39:55.956148Z",
     "iopub.status.busy": "2021-07-04T06:39:55.955780Z",
     "iopub.status.idle": "2021-07-04T06:39:55.972800Z",
     "shell.execute_reply": "2021-07-04T06:39:55.971325Z",
     "shell.execute_reply.started": "2021-07-04T06:39:55.956118Z"
    }
   },
   "outputs": [],
   "source": [
    "# custom learning rate scheduler\n",
    "class LRReduce():\n",
    "    def __init__(self, optimizer, lr_schedule):\n",
    "        self.opt = optimizer\n",
    "        self.lr_schedule = lr_schedule\n",
    "        # assign initial learning rate\n",
    "        self.lr = lr_schedule[0]\n",
    "        self.opt.learning_rate.assign(self.lr)\n",
    "        \n",
    "    def step(self, step):\n",
    "        self.lr = self.lr_schedule[step]\n",
    "        # assign learning rate to optimizer\n",
    "        self.opt.learning_rate.assign(self.lr)\n",
    "        \n",
    "    def get_counter(self):\n",
    "        return self.c\n",
    "    \n",
    "    def get_lr(self):\n",
    "        return self.lr\n",
    "        \n",
    "LRREDUCE = LRReduce(optimizer, LR_SCHEDULE)"
   ]
  },
  {
   "cell_type": "code",
   "execution_count": 47,
   "metadata": {
    "execution": {
     "iopub.execute_input": "2021-07-04T06:40:06.616690Z",
     "iopub.status.busy": "2021-07-04T06:40:06.616313Z",
     "iopub.status.idle": "2021-07-04T07:51:47.506121Z",
     "shell.execute_reply": "2021-07-04T07:51:47.504771Z",
     "shell.execute_reply.started": "2021-07-04T06:40:06.616659Z"
    }
   },
   "outputs": [
    {
     "name": "stdout",
     "output_type": "stream",
     "text": [
      "***** EPOCH 1 *****\n",
      "Step 100/1000  | loss: 0.274, acc: 0.895, lr: 1.0E-08, t: 40 sec\n",
      "Step 200/1000  | loss: 0.245, acc: 0.906, lr: 7.8E-05, t: 39 sec\n",
      "Step 300/1000  | loss: 0.230, acc: 0.912, lr: 3.2E-04, t: 39 sec\n",
      "Step 400/1000  | loss: 0.223, acc: 0.914, lr: 7.2E-04, t: 39 sec\n",
      "Step 500/1000  | loss: 0.227, acc: 0.913, lr: 1.3E-03, t: 39 sec\n",
      "Step 600/1000  | loss: 0.220, acc: 0.915, lr: 2.0E-03, t: 39 sec\n",
      "Step 700/1000  | loss: 0.202, acc: 0.922, lr: 2.0E-03, t: 39 sec\n",
      "Step 800/1000  | loss: 0.189, acc: 0.927, lr: 2.0E-03, t: 39 sec\n",
      "Step 900/1000  | loss: 0.173, acc: 0.934, lr: 2.0E-03, t: 39 sec\n",
      "Step 1000/1000 | loss: 0.161, acc: 0.939, val_loss: 7.932,  val lsd: 35.6 ,lr: 2.0E-03, t: 127 sec\n",
      "Epoch 0 Loss 0.214, time: 484 sec\n",
      "\n",
      "***** EPOCH 2 *****\n",
      "Step 100/1000  | loss: 0.154, acc: 0.942, lr: 2.0E-03, t: 41 sec\n",
      "Step 200/1000  | loss: 0.144, acc: 0.946, lr: 2.0E-03, t: 39 sec\n",
      "Step 300/1000  | loss: 0.137, acc: 0.949, lr: 2.0E-03, t: 39 sec\n",
      "Step 400/1000  | loss: 0.130, acc: 0.951, lr: 2.0E-03, t: 39 sec\n",
      "Step 500/1000  | loss: 0.116, acc: 0.957, lr: 1.5E-03, t: 39 sec\n",
      "Step 600/1000  | loss: 0.110, acc: 0.959, lr: 1.5E-03, t: 39 sec\n",
      "Step 700/1000  | loss: 0.106, acc: 0.961, lr: 1.5E-03, t: 39 sec\n",
      "Step 800/1000  | loss: 0.102, acc: 0.962, lr: 1.5E-03, t: 39 sec\n",
      "Step 900/1000  | loss: 0.097, acc: 0.964, lr: 1.5E-03, t: 39 sec\n",
      "Step 1000/1000 | loss: 0.095, acc: 0.965, val_loss: 9.019,  val lsd: 47.0 ,lr: 1.5E-03, t: 68 sec\n",
      "Epoch 1 Loss 0.119, time: 426 sec\n",
      "\n",
      "***** EPOCH 3 *****\n",
      "Step 100/1000  | loss: 0.094, acc: 0.965, lr: 1.5E-03, t: 41 sec\n",
      "Step 200/1000  | loss: 0.091, acc: 0.967, lr: 1.5E-03, t: 39 sec\n",
      "Step 300/1000  | loss: 0.088, acc: 0.968, lr: 1.5E-03, t: 39 sec\n",
      "Step 400/1000  | loss: 0.081, acc: 0.970, lr: 1.1E-03, t: 39 sec\n",
      "Step 500/1000  | loss: 0.078, acc: 0.971, lr: 1.1E-03, t: 39 sec\n",
      "Step 600/1000  | loss: 0.074, acc: 0.973, lr: 1.1E-03, t: 39 sec\n",
      "Step 700/1000  | loss: 0.075, acc: 0.972, lr: 1.1E-03, t: 39 sec\n",
      "Step 800/1000  | loss: 0.073, acc: 0.973, lr: 1.1E-03, t: 39 sec\n",
      "Step 900/1000  | loss: 0.070, acc: 0.974, lr: 1.1E-03, t: 39 sec\n",
      "Step 1000/1000 | loss: 0.070, acc: 0.974, val_loss: 9.409,  val lsd: 40.3 ,lr: 1.1E-03, t: 68 sec\n",
      "Epoch 2 Loss 0.079, time: 426 sec\n",
      "\n",
      "***** EPOCH 4 *****\n",
      "Step 100/1000  | loss: 0.070, acc: 0.975, lr: 1.1E-03, t: 40 sec\n",
      "Step 200/1000  | loss: 0.064, acc: 0.977, lr: 8.1E-04, t: 39 sec\n",
      "Step 300/1000  | loss: 0.062, acc: 0.978, lr: 8.1E-04, t: 39 sec\n",
      "Step 400/1000  | loss: 0.061, acc: 0.978, lr: 8.1E-04, t: 39 sec\n",
      "Step 500/1000  | loss: 0.061, acc: 0.978, lr: 8.1E-04, t: 39 sec\n",
      "Step 600/1000  | loss: 0.059, acc: 0.979, lr: 8.1E-04, t: 39 sec\n",
      "Step 700/1000  | loss: 0.058, acc: 0.979, lr: 8.1E-04, t: 39 sec\n",
      "Step 800/1000  | loss: 0.058, acc: 0.979, lr: 8.1E-04, t: 39 sec\n",
      "Step 900/1000  | loss: 0.056, acc: 0.979, lr: 8.1E-04, t: 39 sec\n",
      "Step 1000/1000 | loss: 0.055, acc: 0.980, val_loss: 6.395,  val lsd: 25.1 ,lr: 8.1E-04, t: 67 sec\n",
      "Epoch 3 Loss 0.06, time: 424 sec\n",
      "\n",
      "***** EPOCH 5 *****\n",
      "Step 100/1000  | loss: 0.053, acc: 0.981, lr: 6.0E-04, t: 40 sec\n",
      "Step 200/1000  | loss: 0.051, acc: 0.981, lr: 6.0E-04, t: 39 sec\n",
      "Step 300/1000  | loss: 0.051, acc: 0.982, lr: 6.0E-04, t: 39 sec\n",
      "Step 400/1000  | loss: 0.050, acc: 0.982, lr: 6.0E-04, t: 39 sec\n",
      "Step 500/1000  | loss: 0.050, acc: 0.982, lr: 6.0E-04, t: 39 sec\n",
      "Step 600/1000  | loss: 0.049, acc: 0.982, lr: 6.0E-04, t: 39 sec\n",
      "Step 700/1000  | loss: 0.049, acc: 0.982, lr: 6.0E-04, t: 39 sec\n",
      "Step 800/1000  | loss: 0.048, acc: 0.983, lr: 6.0E-04, t: 39 sec\n",
      "Step 900/1000  | loss: 0.047, acc: 0.983, lr: 6.0E-04, t: 39 sec\n",
      "Step 1000/1000 | loss: 0.045, acc: 0.984, val_loss: 3.490,  val lsd: 12.6 ,lr: 4.5E-04, t: 65 sec\n",
      "Epoch 4 Loss 0.049, time: 423 sec\n",
      "\n",
      "***** EPOCH 6 *****\n",
      "Step 100/1000  | loss: 0.045, acc: 0.984, lr: 4.5E-04, t: 41 sec\n",
      "Step 200/1000  | loss: 0.043, acc: 0.984, lr: 4.5E-04, t: 39 sec\n",
      "Step 300/1000  | loss: 0.043, acc: 0.984, lr: 4.5E-04, t: 39 sec\n",
      "Step 400/1000  | loss: 0.043, acc: 0.984, lr: 4.5E-04, t: 39 sec\n",
      "Step 500/1000  | loss: 0.043, acc: 0.985, lr: 4.5E-04, t: 39 sec\n",
      "Step 600/1000  | loss: 0.042, acc: 0.985, lr: 4.5E-04, t: 39 sec\n",
      "Step 700/1000  | loss: 0.042, acc: 0.985, lr: 4.5E-04, t: 39 sec\n",
      "Step 800/1000  | loss: 0.040, acc: 0.985, lr: 3.3E-04, t: 39 sec\n",
      "Step 900/1000  | loss: 0.039, acc: 0.986, lr: 3.3E-04, t: 39 sec\n",
      "Step 1000/1000 | loss: 0.039, acc: 0.986, val_loss: 4.163,  val lsd: 15.6 ,lr: 3.3E-04, t: 66 sec\n",
      "Epoch 5 Loss 0.042, time: 423 sec\n",
      "\n",
      "***** EPOCH 7 *****\n",
      "Step 100/1000  | loss: 0.040, acc: 0.986, lr: 3.3E-04, t: 40 sec\n",
      "Step 200/1000  | loss: 0.038, acc: 0.986, lr: 3.3E-04, t: 39 sec\n",
      "Step 300/1000  | loss: 0.038, acc: 0.986, lr: 3.3E-04, t: 39 sec\n",
      "Step 400/1000  | loss: 0.038, acc: 0.986, lr: 3.3E-04, t: 39 sec\n",
      "Step 500/1000  | loss: 0.038, acc: 0.986, lr: 3.3E-04, t: 39 sec\n",
      "Step 600/1000  | loss: 0.037, acc: 0.987, lr: 3.3E-04, t: 39 sec\n",
      "Step 700/1000  | loss: 0.036, acc: 0.987, lr: 2.5E-04, t: 39 sec\n",
      "Step 800/1000  | loss: 0.035, acc: 0.987, lr: 2.5E-04, t: 39 sec\n",
      "Step 900/1000  | loss: 0.035, acc: 0.987, lr: 2.5E-04, t: 39 sec\n",
      "Step 1000/1000 | loss: 0.035, acc: 0.987, val_loss: 3.184,  val lsd: 11.1 ,lr: 2.5E-04, t: 65 sec\n",
      "Epoch 6 Loss 0.037, time: 422 sec\n",
      "\n",
      "***** EPOCH 8 *****\n",
      "Step 100/1000  | loss: 0.035, acc: 0.987, lr: 2.5E-04, t: 40 sec\n",
      "Step 200/1000  | loss: 0.034, acc: 0.987, lr: 2.5E-04, t: 39 sec\n",
      "Step 300/1000  | loss: 0.034, acc: 0.987, lr: 2.5E-04, t: 39 sec\n",
      "Step 400/1000  | loss: 0.034, acc: 0.988, lr: 2.5E-04, t: 39 sec\n",
      "Step 500/1000  | loss: 0.034, acc: 0.988, lr: 2.5E-04, t: 39 sec\n",
      "Step 600/1000  | loss: 0.032, acc: 0.988, lr: 1.8E-04, t: 39 sec\n",
      "Step 700/1000  | loss: 0.033, acc: 0.988, lr: 1.8E-04, t: 39 sec\n",
      "Step 800/1000  | loss: 0.032, acc: 0.988, lr: 1.8E-04, t: 39 sec\n",
      "Step 900/1000  | loss: 0.032, acc: 0.988, lr: 1.8E-04, t: 39 sec\n",
      "Step 1000/1000 | loss: 0.032, acc: 0.988, val_loss: 2.921,  val lsd: 9.7  ,lr: 1.8E-04, t: 65 sec\n",
      "Epoch 7 Loss 0.033, time: 422 sec\n",
      "\n",
      "***** EPOCH 9 *****\n",
      "Step 100/1000  | loss: 0.032, acc: 0.988, lr: 1.8E-04, t: 40 sec\n",
      "Step 200/1000  | loss: 0.031, acc: 0.989, lr: 1.8E-04, t: 39 sec\n",
      "Step 300/1000  | loss: 0.032, acc: 0.988, lr: 1.8E-04, t: 39 sec\n",
      "Step 400/1000  | loss: 0.030, acc: 0.989, lr: 1.3E-04, t: 39 sec\n",
      "Step 500/1000  | loss: 0.030, acc: 0.989, lr: 1.3E-04, t: 39 sec\n",
      "Step 600/1000  | loss: 0.030, acc: 0.989, lr: 1.3E-04, t: 39 sec\n",
      "Step 700/1000  | loss: 0.031, acc: 0.989, lr: 1.3E-04, t: 39 sec\n",
      "Step 800/1000  | loss: 0.030, acc: 0.989, lr: 1.3E-04, t: 39 sec\n",
      "Step 900/1000  | loss: 0.030, acc: 0.989, lr: 1.3E-04, t: 39 sec\n",
      "Step 1000/1000 | loss: 0.030, acc: 0.989, val_loss: 2.875,  val lsd: 9.2  ,lr: 1.3E-04, t: 65 sec\n",
      "Epoch 8 Loss 0.031, time: 422 sec\n",
      "\n",
      "***** EPOCH 10 *****\n",
      "Step 100/1000  | loss: 0.030, acc: 0.989, lr: 1.3E-04, t: 41 sec\n",
      "Step 200/1000  | loss: 0.029, acc: 0.989, lr: 1.3E-04, t: 39 sec\n",
      "Step 300/1000  | loss: 0.029, acc: 0.989, lr: 1.0E-04, t: 39 sec\n",
      "Step 400/1000  | loss: 0.029, acc: 0.989, lr: 1.0E-04, t: 39 sec\n",
      "Step 500/1000  | loss: 0.029, acc: 0.989, lr: 1.0E-04, t: 39 sec\n",
      "Step 600/1000  | loss: 0.028, acc: 0.990, lr: 1.0E-04, t: 39 sec\n",
      "Step 700/1000  | loss: 0.029, acc: 0.989, lr: 1.0E-04, t: 39 sec\n",
      "Step 800/1000  | loss: 0.028, acc: 0.990, lr: 1.0E-04, t: 39 sec\n",
      "Step 900/1000  | loss: 0.028, acc: 0.990, lr: 1.0E-04, t: 39 sec\n",
      "Step 1000/1000 | loss: 0.028, acc: 0.990, val_loss: 2.759,  val lsd: 8.9  ,lr: 1.0E-04, t: 65 sec\n",
      "Epoch 9 Loss 0.029, time: 423 sec\n",
      "\n"
     ]
    }
   ],
   "source": [
    "step_total = 0\n",
    "for epoch in range(EPOCHS):\n",
    "    print(f'***** EPOCH {epoch + 1} *****')\n",
    "    \n",
    "    t_start = time.time()\n",
    "    t_start_batch = time.time()\n",
    "    total_loss = 0\n",
    "    \n",
    "    # create distributed versions of dataset\n",
    "    train_dist_dataset = iter(strategy.experimental_distribute_dataset(train_dataset))\n",
    "    val_dist_dataset = iter(strategy.experimental_distribute_dataset(val_dataset))\n",
    "\n",
    "    for step in range(1, STEPS_PER_EPOCH + 1):\n",
    "        # train step\n",
    "        distributed_train_step(train_dist_dataset)\n",
    "        STATS.update_stats()\n",
    "        # save epoch weights\n",
    "        encoder.save_weights(f'./encoder_epoch_{epoch+1}.h5')\n",
    "        decoder.save_weights(f'./decoder_epoch_{epoch+1}.h5')\n",
    "            \n",
    "        # end of epoch validation\n",
    "        if step == STEPS_PER_EPOCH:\n",
    "            val_ls_distance = get_val_metrics(val_dist_dataset)\n",
    "            # log with validation\n",
    "            log(step, t_start_batch, val_ls_distance)\n",
    "        else:\n",
    "            # normal log\n",
    "            log(step, t_start_batch)\n",
    "            # reset start time batch\n",
    "        t_start_batch = time.time()\n",
    "            \n",
    "        total_loss += train_loss.result()\n",
    "        \n",
    "        # learning rate step\n",
    "        LRREDUCE.step(epoch * TRAIN_STEPS + step * VERBOSE_FREQ - 1)\n",
    "        \n",
    "        # stop training when NaN loss is detected, this can be caused by exploding gradients\n",
    "        if np.isnan(total_loss):\n",
    "            break\n",
    "            \n",
    "    # stop training when NaN loss is detected\n",
    "    if np.isnan(total_loss):\n",
    "        break\n",
    "\n",
    "    print(f'Epoch {epoch} Loss {round(total_loss.numpy() / TRAIN_STEPS, 3)}, time: {int(time.time() - t_start)} sec\\n')"
   ]
  },
  {
   "cell_type": "markdown",
   "metadata": {},
   "source": [
    "## Beam Search"
   ]
  },
  {
   "cell_type": "code",
   "execution_count": 50,
   "metadata": {
    "execution": {
     "iopub.execute_input": "2021-07-04T07:54:06.709477Z",
     "iopub.status.busy": "2021-07-04T07:54:06.709095Z",
     "iopub.status.idle": "2021-07-04T07:54:06.724513Z",
     "shell.execute_reply": "2021-07-04T07:54:06.723444Z",
     "shell.execute_reply.started": "2021-07-04T07:54:06.709447Z"
    }
   },
   "outputs": [],
   "source": [
    "#Reference: https://kundan-jha.medium.com/impression-generation-from-x-ray-images-case-study-341d25af6edf#0535-6053f58966b1\n",
    "def evaluate(image):\n",
    "    '''\n",
    "    Input - image \n",
    "    output - return InChi String of the images\n",
    "    This function takes images and using encoder decoder model\n",
    "    return InChi String of the images\n",
    "    The function predicts the sentence using beam search\n",
    "    '''\n",
    "    \n",
    "    image_features = encoder(image, training=False)\n",
    "    H,C = decoder.init_hidden_state(image_features, training=False)\n",
    "\n",
    "    result = ''\n",
    "    sequences     = [['<start>', H,C, 0]]\n",
    "\n",
    "    max_len = 200\n",
    "    beam_width = 2\n",
    "    finished_seq = []\n",
    "\n",
    "    for i in range(max_len):#traverse through all lengths\n",
    "        new_seq = [] #stores the seq which does not have <end> in them\n",
    "        all_probable = [] #stores all the top k seq along with their scores\n",
    "        \n",
    "        for seq,hidden_state0,hidden_state1,score in sequences: #traverse for all top k sequences\n",
    "            \n",
    "            cur_vec = np.reshape(vocabulary_to_int[seq.split(\" \")[-1]],(1,1)) \n",
    "           # decoder_hidden_state = state\n",
    "           # x = [cur_vec, image_features, initial_state]\n",
    "            output, hidden_state0, hidden_state1 =decoder(cur_vec, hidden_state0, hidden_state1, image_features)\n",
    "            #output,hidden_state,att_weights,context_vector = Attention_model.get_layer('decoder').onestepdecoder(x)\n",
    "            output = tf.nn.softmax(output)\n",
    "            top_words = np.argsort(output).flatten()[-beam_width:] #get the top k words\n",
    "            for index in top_words:\n",
    "                #here we will update score with log of probabilities and subtracting(log of prob will be in negative)\n",
    "                #here since its -(log), lower the score higher the prob\n",
    "                predicted = [seq + ' '+ int_to_vocabulary[index], hidden_state0,hidden_state1, score-np.log(np.array(output).flatten()[index])] #updating the score and seq\n",
    "                all_probable.append(predicted)\n",
    "\n",
    "        sequences = sorted(all_probable, key = lambda l: l[-1])[:beam_width] #getting the top 3 sentences with high prob ie low score\n",
    "        \n",
    "        count = 0 \n",
    "        for seq,state0,state1,score in sequences: #check for 'endseq' in each seq in the beam\n",
    "            if seq.split(\" \")[-1] == '<end>': #if last word of the seq is <end>\n",
    "                score = score/len(seq) #normalizing\n",
    "                finished_seq.append([seq,state0,state1,score])\n",
    "                count+=1\n",
    "            else:\n",
    "                new_seq.append([seq,state0,state1,score])\n",
    "        \n",
    "        sequences = new_seq\n",
    "        beam_width= beam_width - count #substracting the no. of finished sentences from beam length\n",
    "        \n",
    "        if not sequences: #if all the sequences reaches its end\n",
    "            break        \n",
    "        else:\n",
    "            continue\n",
    "\n",
    "    if len(finished_seq) >0:\n",
    "          finished_seq = sorted(finished_seq, reverse=True, key = lambda l: l[-1]) # Reverse Sorted the Predicted output by score measure\n",
    "          sequences = finished_seq[-1] #getting the last predicted output with least probablity score.\n",
    "          k=0\n",
    "          for i in finished_seq:\n",
    "            k+=1\n",
    "            print('Beam probablity-',i[-1],'Candidate',k,':',i[0]) #printing top k predicted sentence by beam serch and their probablity score\n",
    "          return sequences[0]\n"
   ]
  },
  {
   "cell_type": "markdown",
   "metadata": {},
   "source": [
    "## Beam search Prediction on sample Image"
   ]
  },
  {
   "cell_type": "code",
   "execution_count": 56,
   "metadata": {
    "execution": {
     "iopub.execute_input": "2021-07-04T07:57:33.309583Z",
     "iopub.status.busy": "2021-07-04T07:57:33.308985Z",
     "iopub.status.idle": "2021-07-04T07:57:33.520157Z",
     "shell.execute_reply": "2021-07-04T07:57:33.519110Z",
     "shell.execute_reply.started": "2021-07-04T07:57:33.309534Z"
    }
   },
   "outputs": [
    {
     "data": {
      "text/plain": [
       "<matplotlib.image.AxesImage at 0x7f1e3922dc50>"
      ]
     },
     "execution_count": 56,
     "metadata": {},
     "output_type": "execute_result"
    },
    {
     "data": {
      "image/png": "[encoded data removed]",
      "text/plain": [
       "<Figure size 432x288 with 1 Axes>"
      ]
     },
     "metadata": {
      "needs_background": "light"
     },
     "output_type": "display_data"
    }
   ],
   "source": [
    "import matplotlib.pyplot as plt\n",
    "plt.imshow(imgs[1:2][0])"
   ]
  },
  {
   "cell_type": "code",
   "execution_count": 63,
   "metadata": {
    "execution": {
     "iopub.execute_input": "2021-07-04T07:59:38.546930Z",
     "iopub.status.busy": "2021-07-04T07:59:38.546458Z",
     "iopub.status.idle": "2021-07-04T07:59:38.559641Z",
     "shell.execute_reply": "2021-07-04T07:59:38.558541Z",
     "shell.execute_reply.started": "2021-07-04T07:59:38.546895Z"
    }
   },
   "outputs": [
    {
     "data": {
      "text/plain": [
       "['InChI=1S/C21H30O4/c1-12(22)25-14-6-8-20(2)13(10-14)11-17(23)19-15-4-5-18(24)21(15,3)9-7-16(19)20/h13-16,19H,4-11H2,1-3H3/t13-,14+,15+,16-,19-,20+,21+/m1/s1']"
      ]
     },
     "execution_count": 63,
     "metadata": {},
     "output_type": "execute_result"
    }
   ],
   "source": [
    "# original InChi\n",
    "[int2char(p) for p in lbls[1:2].numpy()]"
   ]
  },
  {
   "cell_type": "code",
   "execution_count": null,
   "metadata": {},
   "outputs": [],
   "source": [
    "# converts and integer encoded InChI prediction to a correct InChI string\n",
    "# Note the \"InChI=1S/\" part is prepended and all <start>/<end>/<pad> tokens are ignored\n",
    "\n",
    "END_TOKEN = vocabulary_to_int.get('<end>')\n",
    "START_TOKEN = vocabulary_to_int.get('<start>')\n",
    "PAD_TOKEN =  vocabulary_to_int.get('<pad>')\n",
    "\n",
    "def int2char(i_str):\n",
    "    res = 'InChI=1S/'\n",
    "    for i in i_str:\n",
    "        if i == END_TOKEN:\n",
    "            return res\n",
    "        elif i != START_TOKEN and i != PAD_TOKEN:\n",
    "            res += int_to_vocabulary.get(i)\n",
    "    return res"
   ]
  },
  {
   "cell_type": "code",
   "execution_count": 51,
   "metadata": {
    "execution": {
     "iopub.execute_input": "2021-07-04T07:54:06.996784Z",
     "iopub.status.busy": "2021-07-04T07:54:06.996365Z",
     "iopub.status.idle": "2021-07-04T07:54:21.145621Z",
     "shell.execute_reply": "2021-07-04T07:54:21.144759Z",
     "shell.execute_reply.started": "2021-07-04T07:54:06.996749Z"
    }
   },
   "outputs": [
    {
     "name": "stdout",
     "output_type": "stream",
     "text": [
      "Beam probablity- 0.024248212334561564 Candidate 1 : <start> C 2 1 H 3 0 O 4 / c 1 - 1 2 ( 2 2 ) 2 5 - 1 4 - 6 - 9 - 2 0 ( 2 ) 1 3 ( 1 1 - 1 4 ) 1 0 - 1 7 ( 2 3 ) 1 9 - 1 5 - 4 - 5 - 1 8 ( 2 4 ) 2 1 ( 1 5 , 3 ) 8 - 7 - 1 6 ( 1 9 ) 2 0 / h 1 3 - 1 6 , 1 9 H , 4 - 1 1 H 2 , 1 - 3 H 3 / t 1 3 - , 1 4 - , 1 5 - , 1 6 - , 1 9 - , 2 0 - , 2 1 - / m 0 / s 1 <end>\n",
      "Beam probablity- 0.02373634530454099 Candidate 2 : <start> C 2 1 H 3 0 O 4 / c 1 - 1 2 ( 2 2 ) 2 5 - 1 4 - 6 - 9 - 2 0 ( 2 ) 1 3 ( 1 0 - 1 4 ) 1 1 - 1 7 ( 2 3 ) 1 9 - 1 5 - 4 - 5 - 1 8 ( 2 4 ) 2 1 ( 1 5 , 3 ) 8 - 7 - 1 6 ( 1 9 ) 2 0 / h 1 3 - 1 6 , 1 9 H , 4 - 1 1 H 2 , 1 - 3 H 3 / t 1 3 - , 1 4 - , 1 5 - , 1 6 - , 1 9 - , 2 0 - , 2 1 - / m 0 / s 1 <end>\n"
     ]
    },
    {
     "data": {
      "text/plain": [
       "'<start> C 2 1 H 3 0 O 4 / c 1 - 1 2 ( 2 2 ) 2 5 - 1 4 - 6 - 9 - 2 0 ( 2 ) 1 3 ( 1 0 - 1 4 ) 1 1 - 1 7 ( 2 3 ) 1 9 - 1 5 - 4 - 5 - 1 8 ( 2 4 ) 2 1 ( 1 5 , 3 ) 8 - 7 - 1 6 ( 1 9 ) 2 0 / h 1 3 - 1 6 , 1 9 H , 4 - 1 1 H 2 , 1 - 3 H 3 / t 1 3 - , 1 4 - , 1 5 - , 1 6 - , 1 9 - , 2 0 - , 2 1 - / m 0 / s 1 <end>'"
      ]
     },
     "execution_count": 51,
     "metadata": {},
     "output_type": "execute_result"
    }
   ],
   "source": [
    "# Predicted InChi\n",
    "evaluate(imgs[1:2])"
   ]
  },
  {
   "cell_type": "code",
   "execution_count": null,
   "metadata": {},
   "outputs": [],
   "source": [
    "# Decodes the TFRecords to a tuple yielding the image and image_id\n",
    "@tf.function\n",
    "def decode_tfrecord_train(record_bytes):\n",
    "    features = tf.io.parse_single_example(record_bytes, {\n",
    "        'image': tf.io.FixedLenFeature([], tf.string),\n",
    "        'image_id': tf.io.FixedLenFeature([], tf.string),\n",
    "    })\n",
    "\n",
    "    image = tf.io.decode_png(features['image'])    \n",
    "    image = tf.reshape(image, [IMG_HEIGHT, IMG_WIDTH, 1])\n",
    "    image = tf.cast(image, tf.float32)  / 255.0\n",
    "    image = (image - IMAGENET_MEAN) / IMAGENET_STD\n",
    "    image = tf.cast(image, TARGET_DTYPE)\n",
    "    \n",
    "    image_id = features['image_id']\n",
    "    \n",
    "    return image, image_id"
   ]
  },
  {
   "cell_type": "code",
   "execution_count": null,
   "metadata": {},
   "outputs": [],
   "source": [
    "#  dataset for the test images\n",
    "def get_test_dataset(bs=BATCH_SIZE):\n",
    "    ignore_order = tf.data.Options()\n",
    "    ignore_order.experimental_deterministic = False\n",
    "    \n",
    "    if TPU:\n",
    "        FNAMES_TRAIN_TFRECORDS = tf.io.gfile.glob(f'{GCS_DS_PATH}/test/*.tfrecords')\n",
    "    else:\n",
    "        FNAMES_TRAIN_TFRECORDS = tf.io.gfile.glob('/kaggle/input/molecular-translation-images-cleaned-tfrecords/test/*.tfrecords')\n",
    "        \n",
    "    train_dataset = tf.data.TFRecordDataset(FNAMES_TRAIN_TFRECORDS, num_parallel_reads=AUTO if TPU else cpu_count())\n",
    "    train_dataset = train_dataset.with_options(ignore_order)\n",
    "    train_dataset = train_dataset.prefetch(AUTO)\n",
    "    train_dataset = train_dataset.map(decode_tfrecord_train, num_parallel_calls=AUTO if TPU else cpu_count())\n",
    "    train_dataset = train_dataset.batch(BATCH_SIZE)\n",
    "    train_dataset = train_dataset.prefetch(1)\n",
    "    \n",
    "    return train_dataset\n",
    "\n",
    "test_dataset = get_test_dataset()"
   ]
  },
  {
   "cell_type": "code",
   "execution_count": null,
   "metadata": {},
   "outputs": [],
   "source": [
    "START_TOKEN = tf.constant(vocabulary_to_int.get('<start>'), dtype=tf.int32)\n",
    "END_TOKEN = tf.constant(vocabulary_to_int.get('<end>'), dtype=tf.int32)\n",
    "PAD_TOKEN = tf.constant(vocabulary_to_int.get('<pad>'), dtype=tf.int32)\n"
   ]
  },
  {
   "cell_type": "markdown",
   "metadata": {},
   "source": [
    "## Teacher Forcing Technique"
   ]
  },
  {
   "cell_type": "code",
   "execution_count": null,
   "metadata": {},
   "outputs": [],
   "source": [
    "def prediction_step(imgs):\n",
    "    # get the feature maps from the encoder\n",
    "    encoder_res = encoder(imgs)\n",
    "    # initialize the hidden LSTM states given the feature maps\n",
    "    h, c = decoder.init_hidden_state(encoder_res,training=False)\n",
    "    \n",
    "    # initialize the prediction results with the <start> token\n",
    "    predictions_seq = tf.fill([len(imgs), 1], value=vocabulary_to_int.get('<start>'))\n",
    "    predictions_seq = tf.cast(predictions_seq, tf.int32)\n",
    "    # first encoder input is always the <start> token\n",
    "    dec_input = tf.expand_dims([vocabulary_to_int.get('<start>')] * len(imgs), 1)\n",
    "\n",
    "    # Teacher forcing - feeding the target as the next input\n",
    "    for t in range(1, SEQ_LEN_OUT):\n",
    "        # make character prediction and receive new LSTM states\n",
    "        predictions, h, c = decoder(dec_input, h, c, encoder_res)\n",
    "        \n",
    "        # softmax prediction to get prediction classes\n",
    "        dec_input = tf.math.argmax(predictions, axis=1, output_type=tf.int32)\n",
    "               \n",
    "        # expand dimension of prediction to make valid encoder input\n",
    "        dec_input = tf.expand_dims(dec_input, axis=1)\n",
    "        \n",
    "        # add character to predictions\n",
    "        predictions_seq = tf.concat([predictions_seq, dec_input], axis=1)\n",
    "            \n",
    "    return predictions_seq"
   ]
  },
  {
   "cell_type": "code",
   "execution_count": null,
   "metadata": {},
   "outputs": [],
   "source": [
    "# distributed test step, will also run on TPU :D\n",
    "@tf.function\n",
    "def distributed_test_step(imgs):\n",
    "    per_replica_predictions = strategy.run(prediction_step, args=[imgs])\n",
    "    predictions = strategy.gather(per_replica_predictions, axis=0)\n",
    "    \n",
    "    return predictions"
   ]
  },
  {
   "cell_type": "code",
   "execution_count": null,
   "metadata": {},
   "outputs": [],
   "source": [
    "# perform a test step on a single device, used for last batch with random size\n",
    "@tf.function\n",
    "def test_step_last_batch(imgs):\n",
    "    return prediction_step(imgs)\n"
   ]
  },
  {
   "cell_type": "code",
   "execution_count": null,
   "metadata": {},
   "outputs": [],
   "source": [
    "N_TEST_IMGS = 1616107\n",
    "N_TEST_STEPS = N_TEST_IMGS // BATCH_SIZE + 1"
   ]
  },
  {
   "cell_type": "code",
   "execution_count": null,
   "metadata": {},
   "outputs": [],
   "source": [
    "# list with predicted InChI's\n",
    "predictions_inchi = []\n",
    "# List with image id's\n",
    "predictions_img_ids = []\n",
    "# Distributed test set, needed for TPU\n",
    "test_dist_dataset = strategy.experimental_distribute_dataset(test_dataset)\n",
    "\n",
    "# Prediction Loop\n",
    "for step, (per_replica_imgs, per_repliac_img_ids) in tqdm(enumerate(test_dist_dataset), total=N_TEST_STEPS):\n",
    "    # special step for last batch which has a different size\n",
    "    # this step will take about half a minute because the function needs to be compiled\n",
    "    if TPU and step == N_TEST_STEPS - 1:\n",
    "        imgs_single_device = strategy.gather(per_replica_imgs, axis=0)\n",
    "        preds = test_step_last_batch(imgs_single_device)\n",
    "    else:\n",
    "        # make test step and get predictions\n",
    "        preds = distributed_test_step(per_replica_imgs)\n",
    "    \n",
    "    # get image ids\n",
    "    img_ids = strategy.gather(per_repliac_img_ids, axis=0)\n",
    "    \n",
    "    # decode integer encoded predictions to characters and add to InChI's prediction list\n",
    "    predictions_inchi += [int2char(p) for p in preds.numpy()]\n",
    "    # add image id's to list\n",
    "    predictions_img_ids += [e.decode() for e in img_ids.numpy()]"
   ]
  },
  {
   "cell_type": "markdown",
   "metadata": {},
   "source": [
    "## This is used for Submitting the result in the competetion."
   ]
  },
  {
   "cell_type": "code",
   "execution_count": null,
   "metadata": {},
   "outputs": [],
   "source": [
    "# create DataFrame with image ids and predicted InChI's\n",
    "submission = pd.DataFrame({ 'image_id': predictions_img_ids, 'InChI': predictions_inchi }, dtype='string')\n",
    "# save as CSV file so we can submit it :D\n",
    "submission.to_csv('submission.csv', index=False)\n",
    "# show head of submission, sanity check\n",
    "pd.options.display.max_colwidth = 200\n",
    "submission.head()"
   ]
  },
  {
   "cell_type": "code",
   "execution_count": null,
   "metadata": {},
   "outputs": [],
   "source": [
    "! mkdir -p /root/.kaggle/"
   ]
  },
  {
   "cell_type": "code",
   "execution_count": null,
   "metadata": {},
   "outputs": [],
   "source": [
    "! cp ../input/apitoken/kaggle.json /root/.kaggle/kaggle.json"
   ]
  },
  {
   "cell_type": "code",
   "execution_count": null,
   "metadata": {},
   "outputs": [],
   "source": [
    "!kaggle competitions submit -c bms-molecular-translation -f submission.csv -m \"Message\""
   ]
  },
  {
   "attachments": {
    "LSTM_kaggle_output.PNG": {
     "image/png": "[encoded data removed]"
    }
   },
   "cell_type": "markdown",
   "metadata": {},
   "source": [
    "![LSTM_kaggle_output.PNG](attachment:LSTM_kaggle_output.PNG)"
   ]
  },
  {
   "cell_type": "code",
   "execution_count": 1,
   "metadata": {},
   "outputs": [
    {
     "name": "stderr",
     "output_type": "stream",
     "text": [
      "[NbConvertApp] Converting notebook LSTM_Final_Notebook.ipynb to html\n",
      "[NbConvertApp] Writing 658645 bytes to LSTM_Final_Notebook.html\n"
     ]
    }
   ],
   "source": [
    "!jupyter nbconvert --to html LSTM_Final_Notebook.ipynb"
   ]
  },
  {
   "cell_type": "code",
   "execution_count": null,
   "metadata": {},
   "outputs": [],
   "source": []
  }
 ],
 "metadata": {
  "kernelspec": {
   "display_name": "Python 3",
   "language": "python",
   "name": "python3"
  },
  "language_info": {
   "codemirror_mode": {
    "name": "ipython",
    "version": 3
   },
   "file_extension": ".py",
   "mimetype": "text/x-python",
   "name": "python",
   "nbconvert_exporter": "python",
   "pygments_lexer": "ipython3",
   "version": "3.8.3"
  }
 },
 "nbformat": 4,
 "nbformat_minor": 4
}
