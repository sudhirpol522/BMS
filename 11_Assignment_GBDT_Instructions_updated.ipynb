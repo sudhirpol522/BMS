{
  "nbformat": 4,
  "nbformat_minor": 0,
  "metadata": {
    "colab": {
      "name": "11_Assignment_GBDT_Instructions_updated.ipynb",
      "provenance": [],
      "collapsed_sections": []
    },
    "language_info": {
      "codemirror_mode": {
        "name": "ipython",
        "version": 3
      },
      "file_extension": ".py",
      "mimetype": "text/x-python",
      "name": "python",
      "nbconvert_exporter": "python",
      "pygments_lexer": "ipython3",
      "version": "3.6.8"
    },
    "kernelspec": {
      "display_name": "Python 3",
      "language": "python",
      "name": "python3"
    },
    "accelerator": "GPU"
  },
  "cells": [
    {
      "cell_type": "markdown",
      "metadata": {
        "id": "8wqapAXjsc24",
        "colab_type": "text"
      },
      "source": [
        "# Assignment 9: GBDT"
      ]
    },
    {
      "cell_type": "code",
      "metadata": {
        "id": "aWtA-PVWorAL",
        "colab_type": "code",
        "colab": {
          "base_uri": "https://localhost:8080/",
          "height": 121
        },
        "outputId": "21b812c2-65e0-4a7a-c75b-ee74aac8b1ef"
      },
      "source": [
        "from google.colab import drive\n",
        "drive.mount('/content/drive')"
      ],
      "execution_count": 2,
      "outputs": [
        {
          "output_type": "stream",
          "text": [
            "Go to this URL in a browser: https://accounts.google.com/o/oauth2/auth?client_id=947318989803-6bn6qk8qdgf4n4g3pfee6491hc0brc4i.apps.googleusercontent.com&redirect_uri=urn%3aietf%3awg%3aoauth%3a2.0%3aoob&response_type=code&scope=email%20https%3a%2f%2fwww.googleapis.com%2fauth%2fdocs.test%20https%3a%2f%2fwww.googleapis.com%2fauth%2fdrive%20https%3a%2f%2fwww.googleapis.com%2fauth%2fdrive.photos.readonly%20https%3a%2f%2fwww.googleapis.com%2fauth%2fpeopleapi.readonly\n",
            "\n",
            "Enter your authorization code:\n",
            "··········\n",
            "Mounted at /content/drive\n"
          ],
          "name": "stdout"
        }
      ]
    },
    {
      "cell_type": "code",
      "metadata": {
        "id": "0zURVk79o-8c",
        "colab_type": "code",
        "colab": {
          "base_uri": "https://localhost:8080/",
          "height": 34
        },
        "outputId": "6e3fed3f-12dc-4308-b03b-f1373020e6b2"
      },
      "source": [
        "cd /content/drive/My Drive/9_Donors_choose_DT"
      ],
      "execution_count": 3,
      "outputs": [
        {
          "output_type": "stream",
          "text": [
            "/content/drive/My Drive/9_Donors_choose_DT\n"
          ],
          "name": "stdout"
        }
      ]
    },
    {
      "cell_type": "markdown",
      "metadata": {
        "id": "8u5NhbnEsc2-",
        "colab_type": "text"
      },
      "source": [
        "#### Response Coding: Example"
      ]
    },
    {
      "cell_type": "markdown",
      "metadata": {
        "id": "HIFWmwHKsc3A",
        "colab_type": "text"
      },
      "source": [
        "<img src='http://i.imgur.com/TufZptV.jpg' width=700px>\n",
        "\n",
        "> The response tabel is built only on train dataset.\n",
        "> For a category which is not there in train data and present in test data, we will encode them with default values\n",
        "Ex: in our test data if have State: D then we encode it as [0.5, 0.05]"
      ]
    },
    {
      "cell_type": "code",
      "metadata": {
        "id": "sMUNcjIsJqyA",
        "colab_type": "code",
        "colab": {
          "base_uri": "https://localhost:8080/",
          "height": 50
        },
        "outputId": "8c2560ce-6326-4c46-b9ca-2be54dba0153"
      },
      "source": [
        " \n",
        "import nltk\n",
        "nltk.download('vader_lexicon')"
      ],
      "execution_count": 4,
      "outputs": [
        {
          "output_type": "stream",
          "text": [
            "[nltk_data] Downloading package vader_lexicon to /root/nltk_data...\n"
          ],
          "name": "stdout"
        },
        {
          "output_type": "execute_result",
          "data": {
            "text/plain": [
              "True"
            ]
          },
          "metadata": {
            "tags": []
          },
          "execution_count": 4
        }
      ]
    },
    {
      "cell_type": "markdown",
      "metadata": {
        "id": "3KwfGufDsc3D",
        "colab_type": "text"
      },
      "source": [
        "<ol>\n",
        "    <li><strong>Apply GBDT on these feature sets</strong>\n",
        "        <ul>\n",
        "            <li><font color='red'>Set 1</font>: categorical(instead of one hot encoding, try <a href='https://www.appliedaicourse.com/course/applied-ai-course-online/lessons/handling-categorical-and-numerical-features/'>response coding</a>: use probability values), numerical features + project_title(TFIDF)+  preprocessed_eassay (TFIDF)+sentiment Score of eassay(check the bellow example, include all 4 values as 4 features)</li>\n",
        "            <li><font color='red'>Set 2</font>: categorical(instead of one hot encoding, try <a href='https://www.appliedaicourse.com/course/applied-ai-course-online/lessons/handling-categorical-and-numerical-features/'>response coding</a>: use probability values), numerical features + project_title(TFIDF W2V)+  preprocessed_eassay (TFIDF W2V)</li>        </ul>\n",
        "    </li>\n",
        "    <li><strong>The hyper paramter tuning (Consider any two hyper parameters)</strong>\n",
        "        <ul>\n",
        "    <li>Find the best hyper parameter which will give the maximum <a href='https://www.appliedaicourse.com/course/applied-ai-course-online/lessons/receiver-operating-characteristic-curve-roc-curve-and-auc-1/'>AUC</a> value</li>\n",
        "    <li>find the best hyper paramter using k-fold cross validation/simple cross validation data</li>\n",
        "    <li>use gridsearch cv or randomsearch cv or you can write your own for loops to do this task</li>\n",
        "        </ul>\n",
        "    </li>\n",
        "    <li>\n",
        "    <strong>Representation of results</strong>\n",
        "        <ul>\n",
        "    <li>You need to plot the performance of model both on train data and cross validation data for each hyper parameter, like shown in the figure\n",
        "    <img src='https://i.imgur.com/Gp2DQmh.jpg' width=500px> with X-axis as <strong>n_estimators</strong>, Y-axis as <strong>max_depth</strong>, and Z-axis as <strong>AUC Score</strong> , we have given the notebook which explains how to plot this 3d plot, you can find it in the same drive <i>3d_scatter_plot.ipynb</i></li>\n",
        "            <p style=\"text-align:center;font-size:30px;color:red;\"><strong>or</strong></p> <br>\n",
        "    <li>You need to plot the performance of model both on train data and cross validation data for each hyper parameter, like shown in the figure\n",
        "    <img src='https://i.imgur.com/fgN9aUP.jpg' width=300px> <a href='https://seaborn.pydata.org/generated/seaborn.heatmap.html'>seaborn heat maps</a> with rows as <strong>n_estimators</strong>, columns as <strong>max_depth</strong>, and values inside the cell representing <strong>AUC Score</strong> </li>\n",
        "    <li>You choose either of the plotting techniques out of 3d plot or heat map</li>\n",
        "    <li>Once after you found the best hyper parameter, you need to train your model with it, and find the AUC on test data and plot the ROC curve on both train and test.\n",
        "    <img src='https://i.imgur.com/wMQDTFe.jpg' width=300px></li>\n",
        "    <li>Along with plotting ROC curve, you need to print the <a href='https://www.appliedaicourse.com/course/applied-ai-course-online/lessons/confusion-matrix-tpr-fpr-fnr-tnr-1/'>confusion matrix</a> with predicted and original labels of test data points\n",
        "    <img src='https://i.imgur.com/IdN5Ctv.png' width=300px></li>\n",
        "            </ul>\n",
        "    <br>\n",
        "    <li>You need to summarize the results at the end of the notebook, summarize it in the table format\n",
        "        <img src='http://i.imgur.com/YVpIGGE.jpg' width=400px>\n",
        "    </li>\n",
        "</ol>"
      ]
    },
    {
      "cell_type": "code",
      "metadata": {
        "id": "iffa2_WGsc3H",
        "colab_type": "code",
        "colab": {
          "base_uri": "https://localhost:8080/",
          "height": 70
        },
        "outputId": "670a71a2-d058-4f9d-b23e-290fb19f8553"
      },
      "source": [
        "import nltk\n",
        "from nltk.sentiment.vader import SentimentIntensityAnalyzer\n",
        " \n",
        "# import nltk\n",
        "# nltk.download('vader_lexicon')\n",
        " \n",
        "sid = SentimentIntensityAnalyzer()\n",
        " \n",
        "for_sentiment = 'a person is a person no matter how small dr seuss i teach the smallest students with the biggest enthusiasm \\\n",
        "for learning my students learn in many different ways using all of our senses and multiple intelligences i use a wide range\\\n",
        "of techniques to help all my students succeed students in my class come from a variety of different backgrounds which makes\\\n",
        "for wonderful sharing of experiences and cultures including native americans our school is a caring community of successful \\\n",
        "learners which can be seen through collaborative student project based learning in and out of the classroom kindergarteners \\\n",
        "in my class love to work with hands on materials and have many different opportunities to practice a skill before it is\\\n",
        "mastered having the social skills to work cooperatively with friends is a crucial aspect of the kindergarten curriculum\\\n",
        "montana is the perfect place to learn about agriculture and nutrition my students love to role play in our pretend kitchen\\\n",
        "in the early childhood classroom i have had several kids ask me can we try cooking with real food i will take their idea \\\n",
        "and create common core cooking lessons where we learn important math and writing concepts while cooking delicious healthy \\\n",
        "food for snack time my students will have a grounded appreciation for the work that went into making the food and knowledge \\\n",
        "of where the ingredients came from as well as how it is healthy for their bodies this project would expand our learning of \\\n",
        "nutrition and agricultural cooking recipes by having us peel our own apples to make homemade applesauce make our own bread \\\n",
        "and mix up healthy plants from our classroom garden in the spring we will also create our own cookbooks to be printed and \\\n",
        "shared with families students will gain math and literature skills as well as a life long enjoyment for healthy cooking \\\n",
        "nannan'\n",
        "ss = sid.polarity_scores(for_sentiment)\n",
        " \n",
        "for k in ss:\n",
        "    print('{0}: {1}, '.format(k, ss[k]), end='')\n",
        " \n",
        "# we can use these 4 things as features/attributes (neg, neu, pos, compound)\n",
        "# neg: 0.0, neu: 0.753, pos: 0.247, compound: 0.93"
      ],
      "execution_count": 5,
      "outputs": [
        {
          "output_type": "stream",
          "text": [
            "neg: 0.01, neu: 0.745, pos: 0.245, compound: 0.9975, "
          ],
          "name": "stdout"
        },
        {
          "output_type": "stream",
          "text": [
            "/usr/local/lib/python3.6/dist-packages/nltk/twitter/__init__.py:20: UserWarning: The twython library has not been installed. Some functionality from the twitter package will not be available.\n",
            "  warnings.warn(\"The twython library has not been installed. \"\n"
          ],
          "name": "stderr"
        }
      ]
    },
    {
      "cell_type": "markdown",
      "metadata": {
        "id": "BOyTl7oKsc3W",
        "colab_type": "text"
      },
      "source": [
        "<h1>1. GBDT (xgboost/lightgbm) </h1>"
      ]
    },
    {
      "cell_type": "markdown",
      "metadata": {
        "id": "VWge-b2Zsc3Z",
        "colab_type": "text"
      },
      "source": [
        "## 1.1 Loading Data"
      ]
    },
    {
      "cell_type": "code",
      "metadata": {
        "id": "WDZFu6-usc3d",
        "colab_type": "code",
        "colab": {}
      },
      "source": [
        "import pandas\n",
        "data = pandas.read_csv('preprocessed_data.csv')"
      ],
      "execution_count": 6,
      "outputs": []
    },
    {
      "cell_type": "markdown",
      "metadata": {
        "id": "6lAMFKFcsc3j",
        "colab_type": "text"
      },
      "source": [
        "<h2>1.2 Splitting data into Train and cross validation(or test): Stratified Sampling</h2>"
      ]
    },
    {
      "cell_type": "code",
      "metadata": {
        "id": "ODMijuuNsc3l",
        "colab_type": "code",
        "colab": {
          "base_uri": "https://localhost:8080/",
          "height": 464
        },
        "outputId": "15c22f29-8b91-4557-c46c-2c3069f69aa6"
      },
      "source": [
        "# please write all the code with proper documentation, and proper titles for each subsection\n",
        "# go through documentations and blogs before you start coding\n",
        "# first figure out what to do, and then think about how to do.\n",
        "# reading and understanding error messages will be very much helpfull in debugging your code\n",
        "# when you plot any graph make sure you use \n",
        "    # a. Title, that describes your plot, this will be very helpful to the reader\n",
        "    # b. Legends if needed\n",
        "    # c. X-axis label\n",
        "    # d. Y-axis label\n",
        "import numpy as np\n",
        "data.head()"
      ],
      "execution_count": 7,
      "outputs": [
        {
          "output_type": "execute_result",
          "data": {
            "text/html": [
              "<div>\n",
              "<style scoped>\n",
              "    .dataframe tbody tr th:only-of-type {\n",
              "        vertical-align: middle;\n",
              "    }\n",
              "\n",
              "    .dataframe tbody tr th {\n",
              "        vertical-align: top;\n",
              "    }\n",
              "\n",
              "    .dataframe thead th {\n",
              "        text-align: right;\n",
              "    }\n",
              "</style>\n",
              "<table border=\"1\" class=\"dataframe\">\n",
              "  <thead>\n",
              "    <tr style=\"text-align: right;\">\n",
              "      <th></th>\n",
              "      <th>school_state</th>\n",
              "      <th>teacher_prefix</th>\n",
              "      <th>project_grade_category</th>\n",
              "      <th>teacher_number_of_previously_posted_projects</th>\n",
              "      <th>project_is_approved</th>\n",
              "      <th>clean_categories</th>\n",
              "      <th>clean_subcategories</th>\n",
              "      <th>essay</th>\n",
              "      <th>price</th>\n",
              "    </tr>\n",
              "  </thead>\n",
              "  <tbody>\n",
              "    <tr>\n",
              "      <th>0</th>\n",
              "      <td>ca</td>\n",
              "      <td>mrs</td>\n",
              "      <td>grades_prek_2</td>\n",
              "      <td>53</td>\n",
              "      <td>1</td>\n",
              "      <td>math_science</td>\n",
              "      <td>appliedsciences health_lifescience</td>\n",
              "      <td>i fortunate enough use fairy tale stem kits cl...</td>\n",
              "      <td>725.05</td>\n",
              "    </tr>\n",
              "    <tr>\n",
              "      <th>1</th>\n",
              "      <td>ut</td>\n",
              "      <td>ms</td>\n",
              "      <td>grades_3_5</td>\n",
              "      <td>4</td>\n",
              "      <td>1</td>\n",
              "      <td>specialneeds</td>\n",
              "      <td>specialneeds</td>\n",
              "      <td>imagine 8 9 years old you third grade classroo...</td>\n",
              "      <td>213.03</td>\n",
              "    </tr>\n",
              "    <tr>\n",
              "      <th>2</th>\n",
              "      <td>ca</td>\n",
              "      <td>mrs</td>\n",
              "      <td>grades_prek_2</td>\n",
              "      <td>10</td>\n",
              "      <td>1</td>\n",
              "      <td>literacy_language</td>\n",
              "      <td>literacy</td>\n",
              "      <td>having class 24 students comes diverse learner...</td>\n",
              "      <td>329.00</td>\n",
              "    </tr>\n",
              "    <tr>\n",
              "      <th>3</th>\n",
              "      <td>ga</td>\n",
              "      <td>mrs</td>\n",
              "      <td>grades_prek_2</td>\n",
              "      <td>2</td>\n",
              "      <td>1</td>\n",
              "      <td>appliedlearning</td>\n",
              "      <td>earlydevelopment</td>\n",
              "      <td>i recently read article giving students choice...</td>\n",
              "      <td>481.04</td>\n",
              "    </tr>\n",
              "    <tr>\n",
              "      <th>4</th>\n",
              "      <td>wa</td>\n",
              "      <td>mrs</td>\n",
              "      <td>grades_3_5</td>\n",
              "      <td>2</td>\n",
              "      <td>1</td>\n",
              "      <td>literacy_language</td>\n",
              "      <td>literacy</td>\n",
              "      <td>my students crave challenge eat obstacles brea...</td>\n",
              "      <td>17.74</td>\n",
              "    </tr>\n",
              "  </tbody>\n",
              "</table>\n",
              "</div>"
            ],
            "text/plain": [
              "  school_state  ...   price\n",
              "0           ca  ...  725.05\n",
              "1           ut  ...  213.03\n",
              "2           ca  ...  329.00\n",
              "3           ga  ...  481.04\n",
              "4           wa  ...   17.74\n",
              "\n",
              "[5 rows x 9 columns]"
            ]
          },
          "metadata": {
            "tags": []
          },
          "execution_count": 7
        }
      ]
    },
    {
      "cell_type": "markdown",
      "metadata": {
        "id": "vsALgl5Asc3u",
        "colab_type": "text"
      },
      "source": [
        "<h2>1.3 Make Data Model Ready: encoding eassay, and project_title</h2>"
      ]
    },
    {
      "cell_type": "code",
      "metadata": {
        "id": "1A_85jbWsc3v",
        "colab_type": "code",
        "colab": {}
      },
      "source": [
        "# please write all the code with proper documentation, and proper titles for each subsection\n",
        "# go through documentations and blogs before you start coding\n",
        "# first figure out what to do, and then think about how to do.\n",
        "# reading and understanding error messages will be very much helpfull in debugging your code\n",
        "# make sure you featurize train and test data separatly\n",
        " \n",
        "# when you plot any graph make sure you use \n",
        "    # a. Title, that describes your plot, this will be very helpful to the reader\n",
        "    # b. Legends if needed\n",
        "    # c. X-axis label\n",
        "    # d. Y-axis label\n",
        "# train test split\n",
        "y = data['project_is_approved'].values\n",
        "X = data.drop(['project_is_approved'], axis=1)\n",
        " \n",
        "from sklearn.model_selection import train_test_split\n",
        "X_train, X_test, y_train, y_test = train_test_split(X, y, test_size=0.33, stratify=y,random_state=1)"
      ],
      "execution_count": 8,
      "outputs": []
    },
    {
      "cell_type": "code",
      "metadata": {
        "id": "si2sGSTnriVQ",
        "colab_type": "code",
        "colab": {}
      },
      "source": [
        "def code_train(name):\n",
        "    d=dict()\n",
        "    p=0\n",
        "    n=0\n",
        "    t=0\n",
        "    l=X_train[name].unique()\n",
        "    f=[]\n",
        "    for j in range(len(l)):\n",
        "        for i in range(X_train.shape[0]):\n",
        "            if X_train[name].values[i]==l[j] and y_train[i]==1:\n",
        "               p+=1\n",
        "            if X_train[name].values[i]==l[j] and y_train[i]==0:\n",
        "               n+=1\n",
        "        t=n+p\n",
        "        d[l[j]]=[n/t,p/t]\n",
        "        p=n=t=0\n",
        "    \n",
        " \n",
        "    for i in range(X_train.shape[0]):\n",
        "        f.append(d[X_train[name].values[i]])\n",
        "    return np.array(f),l,d"
      ],
      "execution_count": 9,
      "outputs": []
    },
    {
      "cell_type": "code",
      "metadata": {
        "id": "KJoNOEISuPrt",
        "colab_type": "code",
        "colab": {}
      },
      "source": [
        "new_school_state,l_sc,d_sc=code_train('school_state')\n",
        "new_teacher_prefix,l_t,d_t=code_train('teacher_prefix')\n",
        "new_project_grade_category,l_p,d_p=code_train('project_grade_category')\n",
        "new_clean_categories,l_c,d_c=code_train('clean_categories')\n",
        "new_clean_subcategories,l_cs,d_cs=code_train('clean_subcategories')"
      ],
      "execution_count": 10,
      "outputs": []
    },
    {
      "cell_type": "code",
      "metadata": {
        "id": "89EOrz3-5WFb",
        "colab_type": "code",
        "colab": {}
      },
      "source": [
        " \n",
        "def code_test(name,l,d):\n",
        "    f=[]\n",
        "    \n",
        "    \n",
        " \n",
        "    for i in range(X_test.shape[0]):\n",
        "        if X_test[name].values[i] in l:\n",
        "           f.append(d[X_test[name].values[i]])\n",
        "        else:\n",
        "           f.append([0.5,0.5])\n",
        "    return np.array(f)"
      ],
      "execution_count": 11,
      "outputs": []
    },
    {
      "cell_type": "code",
      "metadata": {
        "id": "GGt0gB1k-M5h",
        "colab_type": "code",
        "colab": {}
      },
      "source": [
        " \n",
        "new_school_state_test=code_test('school_state',l_sc,d_sc)\n",
        "new_teacher_prefix_test=code_test('teacher_prefix',l_t,d_t)\n",
        "new_project_grade_category_test=code_test('project_grade_category',l_p,d_p)\n",
        "new_clean_categories_test=code_test('clean_categories',l_c,d_c)\n",
        "new_clean_subcategories_test=code_test('clean_subcategories',l_cs,d_cs)"
      ],
      "execution_count": 12,
      "outputs": []
    },
    {
      "cell_type": "code",
      "metadata": {
        "id": "5yOHtcXFA9XV",
        "colab_type": "code",
        "colab": {}
      },
      "source": [
        " \n",
        " \n",
        "from sklearn.preprocessing import Normalizer\n",
        "normalizer = Normalizer()\n",
        "# normalizer.fit(X_train['price'].values)\n",
        "# this will rise an error Expected 2D array, got 1D array instead: \n",
        "# array=[105.22 215.96  96.01 ... 368.98  80.53 709.67].\n",
        "# Reshape your data either using \n",
        "# array.reshape(-1, 1) if your data has a single feature \n",
        "# array.reshape(1, -1)  if it contains a single sample.\n",
        "normalizer.fit(X_train['price'].values.reshape(1,-1))\n",
        " \n",
        " \n",
        "X_train_price_norm = normalizer.transform(X_train['price'].values.reshape(1,-1))\n",
        "X_test_price_norm = normalizer.transform(X_test['price'].values.reshape(1,-1))\n",
        "X_train_price_norm=X_train_price_norm.reshape(-1,1)\n",
        "X_test_price_norm=X_test_price_norm.reshape(-1,1)"
      ],
      "execution_count": 13,
      "outputs": []
    },
    {
      "cell_type": "code",
      "metadata": {
        "id": "InoWdO3eHcLt",
        "colab_type": "code",
        "colab": {
          "base_uri": "https://localhost:8080/",
          "height": 84
        },
        "outputId": "ac1ccbd4-e1ff-4e49-be77-a3086b1b2d2b"
      },
      "source": [
        " \n",
        " \n",
        "from sklearn.preprocessing import Normalizer\n",
        "normalizer = Normalizer()\n",
        "# normalizer.fit(X_train['price'].values)\n",
        "# this will rise an error Expected 2D array, got 1D array instead: \n",
        "# array=[105.22 215.96  96.01 ... 368.98  80.53 709.67].\n",
        "# Reshape your data either using \n",
        "# array.reshape(-1, 1) if your data has a single feature \n",
        "# array.reshape(1, -1)  if it contains a single sample.\n",
        "normalizer.fit(X_train['teacher_number_of_previously_posted_projects'].values.reshape(1,-1))\n",
        " \n",
        "X_train_teacher_number_of_previously_posted_projects_norm= normalizer.transform(X_train['teacher_number_of_previously_posted_projects'].values.reshape(1,-1))\n",
        "X_test_teacher_number_of_previously_posted_projects_norm = normalizer.transform(X_test['teacher_number_of_previously_posted_projects'].values.reshape(1,-1))\n",
        " \n",
        "X_train_teacher_number_of_previously_posted_projects_norm=X_train_teacher_number_of_previously_posted_projects_norm.reshape(-1,1)\n",
        " \n",
        "X_test_teacher_number_of_previously_posted_projects_norm=X_test_teacher_number_of_previously_posted_projects_norm.reshape(-1,1)\n",
        "print(\"After vectorizations\")\n",
        "print(X_train_teacher_number_of_previously_posted_projects_norm.shape, y_train.shape)\n",
        "#print(X_cv_teacher_number_of_previously_posted_projects_norm.shape, y_cv.shape)\n",
        "print(X_test_teacher_number_of_previously_posted_projects_norm.shape, y_test.shape)\n",
        "print(\"=\"*100)"
      ],
      "execution_count": 14,
      "outputs": [
        {
          "output_type": "stream",
          "text": [
            "After vectorizations\n",
            "(73196, 1) (73196,)\n",
            "(36052, 1) (36052,)\n",
            "====================================================================================================\n"
          ],
          "name": "stdout"
        }
      ]
    },
    {
      "cell_type": "code",
      "metadata": {
        "id": "Qa5AE27qIb0F",
        "colab_type": "code",
        "colab": {}
      },
      "source": [
        " import pickle\n",
        "#please use below code to load glove vectors \n",
        "with open('glove_vectors', 'rb') as f:\n",
        "    model = pickle.load(f)\n",
        "    glove_words =  set(model.keys())"
      ],
      "execution_count": 15,
      "outputs": []
    },
    {
      "cell_type": "code",
      "metadata": {
        "id": "OxHTVljOInaH",
        "colab_type": "code",
        "colab": {
          "base_uri": "https://localhost:8080/",
          "height": 34
        },
        "outputId": "15dd949f-900a-472c-9fb7-f4d02940e2df"
      },
      "source": [
        " \n",
        " \n",
        " \n",
        " \n",
        "from sklearn.feature_extraction.text import TfidfVectorizer\n",
        "vectorizer = TfidfVectorizer(min_df=10,max_features=8000)\n",
        "vectorizer.fit(X_train['essay'].values)\n",
        "# we use the fitted CountVectorizer to convert the text to vector\n",
        "X_train_essay_tfidf_ra= vectorizer.transform(X_train['essay'].values)\n",
        "#X_cv_essay_tfidf= vectorizer.transform(X_cv['essay'].values)\n",
        "X_test_essay_tfidf_ra = vectorizer.transform(X_test['essay'].values)\n",
        " \n",
        "print(X_train_essay_tfidf_ra.shape)"
      ],
      "execution_count": 16,
      "outputs": [
        {
          "output_type": "stream",
          "text": [
            "(73196, 8000)\n"
          ],
          "name": "stdout"
        }
      ]
    },
    {
      "cell_type": "code",
      "metadata": {
        "id": "j1uAZq7dJcNL",
        "colab_type": "code",
        "colab": {
          "base_uri": "https://localhost:8080/",
          "height": 34
        },
        "outputId": "4b38d945-2716-4740-a834-00269ebecd2c"
      },
      "source": [
        "\n",
        " \n",
        "import nltk\n",
        "from nltk.sentiment.vader import SentimentIntensityAnalyzer\n",
        "sid = SentimentIntensityAnalyzer()\n",
        "sent_score_train=[]\n",
        "sent_score_test=[]\n",
        "temp_l=[]\n",
        "temp_l1=[]\n",
        "for i in X_train['essay'].values:\n",
        "    temp_l=sid.polarity_scores(i).values()\n",
        "    sent_score_train.append(list(temp_l))\n",
        " \n",
        "for i in X_test['essay'].values:\n",
        "    temp_l1=sid.polarity_scores(i).values()\n",
        "    sent_score_test.append(list(temp_l1))\n",
        "print(len(sent_score_train))"
      ],
      "execution_count": 17,
      "outputs": [
        {
          "output_type": "stream",
          "text": [
            "73196\n"
          ],
          "name": "stdout"
        }
      ]
    },
    {
      "cell_type": "code",
      "metadata": {
        "id": "cAx7TWPcV7mk",
        "colab_type": "code",
        "colab": {}
      },
      "source": [
        " \n",
        "# S = [\"abc def pqr\", \"def def def abc\", \"pqr pqr def\"]\n",
        "tfidf_model = TfidfVectorizer()\n",
        "tfidf_model.fit(X_train['essay'].values)\n",
        "# we are converting a dictionary with word as a key, and the idf as a value\n",
        "dictionary = dict(zip(tfidf_model.get_feature_names(), list(tfidf_model.idf_)))\n",
        "tfidf_words = set(tfidf_model.get_feature_names())"
      ],
      "execution_count": 18,
      "outputs": []
    },
    {
      "cell_type": "code",
      "metadata": {
        "id": "Ju2fA3acV_iw",
        "colab_type": "code",
        "colab": {
          "base_uri": "https://localhost:8080/",
          "height": 50
        },
        "outputId": "93484558-7e08-4db4-9f1b-6f5e7eded543"
      },
      "source": [
        " \n",
        "# average Word2Vec\n",
        "# compute average word2vec for each review.\n",
        "tfidf_w2v_vectors_tr = []; # the avg-w2v for each sentence/review is stored in this list\n",
        "for sentence in (X_train['essay'].values): # for each review/sentence\n",
        "    vector = np.zeros(300) # as word vectors are of zero length\n",
        "    tf_idf_weight =0; # num of words with a valid vector in the sentence/review\n",
        "    for word in sentence.split(): # for each word in a review/sentence\n",
        "        if (word in glove_words) and (word in tfidf_words):\n",
        "            vec = model[word] # getting the vector for each word\n",
        "            # here we are multiplying idf value(dictionary[word]) and the tf value((sentence.count(word)/len(sentence.split())))\n",
        "            tf_idf = dictionary[word]*(sentence.count(word)/len(sentence.split())) # getting the tfidf value for each word\n",
        "            vector += (vec * tf_idf) # calculating tfidf weighted w2v\n",
        "            tf_idf_weight += tf_idf\n",
        "    if tf_idf_weight != 0:\n",
        "        vector /= tf_idf_weight\n",
        "    tfidf_w2v_vectors_tr.append(vector)\n",
        " \n",
        "print(len(tfidf_w2v_vectors_tr))\n",
        "print(len(tfidf_w2v_vectors_tr[0]))"
      ],
      "execution_count": 19,
      "outputs": [
        {
          "output_type": "stream",
          "text": [
            "73196\n",
            "300\n"
          ],
          "name": "stdout"
        }
      ]
    },
    {
      "cell_type": "code",
      "metadata": {
        "id": "3UNy8pc1WEUm",
        "colab_type": "code",
        "colab": {
          "base_uri": "https://localhost:8080/",
          "height": 50
        },
        "outputId": "c89a410a-6475-4b0a-d323-449c7d784287"
      },
      "source": [
        " \n",
        " \n",
        "# average Word2Vec\n",
        "# compute average word2vec for each review.\n",
        "tfidf_w2v_vectors_te = []; # the avg-w2v for each sentence/review is stored in this list\n",
        "for sentence in (X_test['essay'].values): # for each review/sentence\n",
        "    vector = np.zeros(300) # as word vectors are of zero length\n",
        "    tf_idf_weight =0; # num of words with a valid vector in the sentence/review\n",
        "    for word in sentence.split(): # for each word in a review/sentence\n",
        "        if (word in glove_words) and (word in tfidf_words):\n",
        "            vec = model[word] # getting the vector for each word\n",
        "            # here we are multiplying idf value(dictionary[word]) and the tf value((sentence.count(word)/len(sentence.split())))\n",
        "            tf_idf = dictionary[word]*(sentence.count(word)/len(sentence.split())) # getting the tfidf value for each word\n",
        "            vector += (vec * tf_idf) # calculating tfidf weighted w2v\n",
        "            tf_idf_weight += tf_idf\n",
        "    if tf_idf_weight != 0:\n",
        "        vector /= tf_idf_weight\n",
        "    tfidf_w2v_vectors_te.append(vector)\n",
        " \n",
        "print(len(tfidf_w2v_vectors_te))\n",
        "print(len(tfidf_w2v_vectors_te[0]))"
      ],
      "execution_count": 20,
      "outputs": [
        {
          "output_type": "stream",
          "text": [
            "36052\n",
            "300\n"
          ],
          "name": "stdout"
        }
      ]
    },
    {
      "cell_type": "code",
      "metadata": {
        "id": "mZ-Vt7r5Ji2X",
        "colab_type": "code",
        "colab": {
          "base_uri": "https://localhost:8080/",
          "height": 50
        },
        "outputId": "efdb58f6-bcd5-4cf4-f2cd-95cefa8ac5a9"
      },
      "source": [
        " \n",
        "sent_score_train_np=np.array(sent_score_train)\n",
        "sent_score_test_np=np.array(sent_score_test)\n",
        "print(sent_score_train_np.shape)\n",
        "print(sent_score_train_np[0])"
      ],
      "execution_count": 21,
      "outputs": [
        {
          "output_type": "stream",
          "text": [
            "(73196, 4)\n",
            "[0.062  0.618  0.32   0.9914]\n"
          ],
          "name": "stdout"
        }
      ]
    },
    {
      "cell_type": "code",
      "metadata": {
        "id": "Xi2zIkdsWIYQ",
        "colab_type": "code",
        "colab": {
          "base_uri": "https://localhost:8080/",
          "height": 50
        },
        "outputId": "d80761a4-dd64-4631-fa6b-d96afd07e8ec"
      },
      "source": [
        " \n",
        "tfidf_w2v_vectors_te_np=np.array(tfidf_w2v_vectors_te)\n",
        "tfidf_w2v_vectors_tr_np=np.array(tfidf_w2v_vectors_tr)\n",
        "print(tfidf_w2v_vectors_te_np.shape)\n",
        "print(tfidf_w2v_vectors_tr_np.shape)"
      ],
      "execution_count": 22,
      "outputs": [
        {
          "output_type": "stream",
          "text": [
            "(36052, 300)\n",
            "(73196, 300)\n"
          ],
          "name": "stdout"
        }
      ]
    },
    {
      "cell_type": "code",
      "metadata": {
        "id": "E5FuST4Mcbv1",
        "colab_type": "code",
        "colab": {
          "base_uri": "https://localhost:8080/",
          "height": 84
        },
        "outputId": "17e9a11e-ce40-46c0-c55d-6c48edaba117"
      },
      "source": [
        " \n",
        " \n",
        " \n",
        " \n",
        "# merge two sparse matrices: https://stackoverflow.com/a/19710648/4084039\n",
        "from scipy.sparse import hstack\n",
        "X_tr_= np.hstack((new_school_state, new_teacher_prefix, new_project_grade_category,new_clean_categories, new_clean_subcategories,X_train_price_norm,X_train_teacher_number_of_previously_posted_projects_norm,tfidf_w2v_vectors_tr_np))\n",
        "X_te_= np.hstack((new_school_state_test, new_teacher_prefix_test, new_project_grade_category_test,new_clean_categories_test, new_clean_subcategories_test,X_test_price_norm,X_test_teacher_number_of_previously_posted_projects_norm,tfidf_w2v_vectors_te_np))\n",
        " \n",
        "print(\"Final Data matrix\")\n",
        "print(X_tr_.shape, y_train.shape)\n",
        " \n",
        "print(X_te_.shape, y_test.shape)\n",
        "print(\"=\"*100)"
      ],
      "execution_count": 23,
      "outputs": [
        {
          "output_type": "stream",
          "text": [
            "Final Data matrix\n",
            "(73196, 312) (73196,)\n",
            "(36052, 312) (36052,)\n",
            "====================================================================================================\n"
          ],
          "name": "stdout"
        }
      ]
    },
    {
      "cell_type": "code",
      "metadata": {
        "id": "Sxz5l2zRKnDq",
        "colab_type": "code",
        "colab": {
          "base_uri": "https://localhost:8080/",
          "height": 84
        },
        "outputId": "f9cb4a05-0458-4050-81f4-b6aad3a6f379"
      },
      "source": [
        " \n",
        " \n",
        " \n",
        " \n",
        "# merge two sparse matrices: https://stackoverflow.com/a/19710648/4084039\n",
        "from scipy.sparse import hstack\n",
        "X_tr_ra = hstack((new_school_state, new_teacher_prefix, new_project_grade_category,new_clean_categories, new_clean_subcategories,X_train_price_norm,X_train_teacher_number_of_previously_posted_projects_norm,X_train_essay_tfidf_ra,sent_score_train_np)).tocsr()\n",
        "X_te_ra=hstack((new_school_state_test, new_teacher_prefix_test, new_project_grade_category_test,new_clean_categories_test, new_clean_subcategories_test,X_test_price_norm,X_test_teacher_number_of_previously_posted_projects_norm,X_test_essay_tfidf_ra,sent_score_test_np)).tocsr()\n",
        " \n",
        "print(\"Final Data matrix\")\n",
        "print(X_tr_ra.shape, y_train.shape)\n",
        " \n",
        "print(X_te_ra.shape, y_test.shape)\n",
        "print(\"=\"*100)"
      ],
      "execution_count": 24,
      "outputs": [
        {
          "output_type": "stream",
          "text": [
            "Final Data matrix\n",
            "(73196, 8016) (73196,)\n",
            "(36052, 8016) (36052,)\n",
            "====================================================================================================\n"
          ],
          "name": "stdout"
        }
      ]
    },
    {
      "cell_type": "markdown",
      "metadata": {
        "id": "I5wDFj17sc3-",
        "colab_type": "text"
      },
      "source": [
        "<h2>1.5 Appling Models on different kind of featurization as mentioned in the instructions</h2>"
      ]
    },
    {
      "cell_type": "code",
      "metadata": {
        "id": "LEzrbWHJNr5m",
        "colab_type": "code",
        "colab": {
          "base_uri": "https://localhost:8080/",
          "height": 104
        },
        "outputId": "14af57a4-014e-46cd-fa65-99d8b874472e"
      },
      "source": [
        " \n",
        "%%time\n",
        "from xgboost import XGBClassifier\n",
        " \n",
        " \n",
        "# https://scikit-learn.org/stable/modules/generated/sklearn.model_selection.GridSearchCV.html\n",
        "from sklearn.model_selection import GridSearchCV\n",
        "from scipy.stats import randint as sp_randint\n",
        "from sklearn.model_selection import RandomizedSearchCV\n",
        "from sklearn.tree import DecisionTreeClassifier\n",
        " \n",
        "dtree = XGBClassifier(tree_method='gpu_hist', gpu_id=0)\n",
        "parameters = {'learning_rate' :[0.0001, 0.001, 0.01, 0.1, 0.2, 0.3] ,'n_estimators':[5, 10,50,75,100]}\n",
        "clf = RandomizedSearchCV(dtree, parameters, cv=3, scoring='roc_auc',return_train_score=True,n_jobs=-1)\n",
        "clf.fit(X_tr_ra, y_train)"
      ],
      "execution_count": 25,
      "outputs": [
        {
          "output_type": "stream",
          "text": [
            "/usr/local/lib/python3.6/dist-packages/joblib/externals/loky/process_executor.py:691: UserWarning: A worker stopped while some jobs were given to the executor. This can be caused by a too short worker timeout or by a memory leak.\n",
            "  \"timeout or by a memory leak.\", UserWarning\n"
          ],
          "name": "stderr"
        },
        {
          "output_type": "stream",
          "text": [
            "CPU times: user 13.1 s, sys: 13.9 s, total: 27 s\n",
            "Wall time: 7min 32s\n"
          ],
          "name": "stdout"
        }
      ]
    },
    {
      "cell_type": "code",
      "metadata": {
        "id": "msRvMq4xz_8q",
        "colab_type": "code",
        "colab": {
          "base_uri": "https://localhost:8080/",
          "height": 467
        },
        "outputId": "c1fd45d5-a256-491f-eb58-c2a2001ab1b0"
      },
      "source": [
        "import pandas as pd\n",
        "results = pd.DataFrame.from_dict(clf.cv_results_)\n",
        " \n",
        " \n",
        "train_auc= results['mean_train_score']\n",
        "train_auc_std= results['std_train_score']\n",
        "cv_auc = results['mean_test_score'] \n",
        "cv_auc_std= results['std_test_score']\n",
        "results.head()"
      ],
      "execution_count": 26,
      "outputs": [
        {
          "output_type": "execute_result",
          "data": {
            "text/html": [
              "<div>\n",
              "<style scoped>\n",
              "    .dataframe tbody tr th:only-of-type {\n",
              "        vertical-align: middle;\n",
              "    }\n",
              "\n",
              "    .dataframe tbody tr th {\n",
              "        vertical-align: top;\n",
              "    }\n",
              "\n",
              "    .dataframe thead th {\n",
              "        text-align: right;\n",
              "    }\n",
              "</style>\n",
              "<table border=\"1\" class=\"dataframe\">\n",
              "  <thead>\n",
              "    <tr style=\"text-align: right;\">\n",
              "      <th></th>\n",
              "      <th>mean_fit_time</th>\n",
              "      <th>std_fit_time</th>\n",
              "      <th>mean_score_time</th>\n",
              "      <th>std_score_time</th>\n",
              "      <th>param_n_estimators</th>\n",
              "      <th>param_learning_rate</th>\n",
              "      <th>params</th>\n",
              "      <th>split0_test_score</th>\n",
              "      <th>split1_test_score</th>\n",
              "      <th>split2_test_score</th>\n",
              "      <th>mean_test_score</th>\n",
              "      <th>std_test_score</th>\n",
              "      <th>rank_test_score</th>\n",
              "      <th>split0_train_score</th>\n",
              "      <th>split1_train_score</th>\n",
              "      <th>split2_train_score</th>\n",
              "      <th>mean_train_score</th>\n",
              "      <th>std_train_score</th>\n",
              "    </tr>\n",
              "  </thead>\n",
              "  <tbody>\n",
              "    <tr>\n",
              "      <th>0</th>\n",
              "      <td>25.557605</td>\n",
              "      <td>0.823871</td>\n",
              "      <td>1.979051</td>\n",
              "      <td>0.053493</td>\n",
              "      <td>50</td>\n",
              "      <td>0.2</td>\n",
              "      <td>{'n_estimators': 50, 'learning_rate': 0.2}</td>\n",
              "      <td>0.715105</td>\n",
              "      <td>0.707417</td>\n",
              "      <td>0.715809</td>\n",
              "      <td>0.712777</td>\n",
              "      <td>0.003801</td>\n",
              "      <td>3</td>\n",
              "      <td>0.759185</td>\n",
              "      <td>0.760407</td>\n",
              "      <td>0.756555</td>\n",
              "      <td>0.758716</td>\n",
              "      <td>0.001607</td>\n",
              "    </tr>\n",
              "    <tr>\n",
              "      <th>1</th>\n",
              "      <td>20.616565</td>\n",
              "      <td>1.816967</td>\n",
              "      <td>1.929717</td>\n",
              "      <td>0.038062</td>\n",
              "      <td>10</td>\n",
              "      <td>0.0001</td>\n",
              "      <td>{'n_estimators': 10, 'learning_rate': 0.0001}</td>\n",
              "      <td>0.611661</td>\n",
              "      <td>0.600135</td>\n",
              "      <td>0.606848</td>\n",
              "      <td>0.606214</td>\n",
              "      <td>0.004727</td>\n",
              "      <td>9</td>\n",
              "      <td>0.619981</td>\n",
              "      <td>0.616675</td>\n",
              "      <td>0.611147</td>\n",
              "      <td>0.615934</td>\n",
              "      <td>0.003644</td>\n",
              "    </tr>\n",
              "    <tr>\n",
              "      <th>2</th>\n",
              "      <td>25.013358</td>\n",
              "      <td>0.733841</td>\n",
              "      <td>2.007719</td>\n",
              "      <td>0.056965</td>\n",
              "      <td>75</td>\n",
              "      <td>0.1</td>\n",
              "      <td>{'n_estimators': 75, 'learning_rate': 0.1}</td>\n",
              "      <td>0.712033</td>\n",
              "      <td>0.704098</td>\n",
              "      <td>0.710675</td>\n",
              "      <td>0.708935</td>\n",
              "      <td>0.003465</td>\n",
              "      <td>4</td>\n",
              "      <td>0.746483</td>\n",
              "      <td>0.748172</td>\n",
              "      <td>0.747154</td>\n",
              "      <td>0.747269</td>\n",
              "      <td>0.000694</td>\n",
              "    </tr>\n",
              "    <tr>\n",
              "      <th>3</th>\n",
              "      <td>21.534328</td>\n",
              "      <td>1.055336</td>\n",
              "      <td>1.896257</td>\n",
              "      <td>0.034025</td>\n",
              "      <td>50</td>\n",
              "      <td>0.3</td>\n",
              "      <td>{'n_estimators': 50, 'learning_rate': 0.3}</td>\n",
              "      <td>0.719970</td>\n",
              "      <td>0.712121</td>\n",
              "      <td>0.718541</td>\n",
              "      <td>0.716877</td>\n",
              "      <td>0.003413</td>\n",
              "      <td>2</td>\n",
              "      <td>0.774597</td>\n",
              "      <td>0.777160</td>\n",
              "      <td>0.771793</td>\n",
              "      <td>0.774517</td>\n",
              "      <td>0.002192</td>\n",
              "    </tr>\n",
              "    <tr>\n",
              "      <th>4</th>\n",
              "      <td>23.555114</td>\n",
              "      <td>0.400442</td>\n",
              "      <td>1.974423</td>\n",
              "      <td>0.060700</td>\n",
              "      <td>75</td>\n",
              "      <td>0.01</td>\n",
              "      <td>{'n_estimators': 75, 'learning_rate': 0.01}</td>\n",
              "      <td>0.644815</td>\n",
              "      <td>0.639654</td>\n",
              "      <td>0.654619</td>\n",
              "      <td>0.646363</td>\n",
              "      <td>0.006207</td>\n",
              "      <td>5</td>\n",
              "      <td>0.658138</td>\n",
              "      <td>0.662459</td>\n",
              "      <td>0.665034</td>\n",
              "      <td>0.661877</td>\n",
              "      <td>0.002845</td>\n",
              "    </tr>\n",
              "  </tbody>\n",
              "</table>\n",
              "</div>"
            ],
            "text/plain": [
              "   mean_fit_time  std_fit_time  ...  mean_train_score  std_train_score\n",
              "0      25.557605      0.823871  ...          0.758716         0.001607\n",
              "1      20.616565      1.816967  ...          0.615934         0.003644\n",
              "2      25.013358      0.733841  ...          0.747269         0.000694\n",
              "3      21.534328      1.055336  ...          0.774517         0.002192\n",
              "4      23.555114      0.400442  ...          0.661877         0.002845\n",
              "\n",
              "[5 rows x 18 columns]"
            ]
          },
          "metadata": {
            "tags": []
          },
          "execution_count": 26
        }
      ]
    },
    {
      "cell_type": "code",
      "metadata": {
        "id": "gehRzuZjVK1g",
        "colab_type": "code",
        "colab": {
          "base_uri": "https://localhost:8080/",
          "height": 404
        },
        "outputId": "6f5c64e8-d91d-4a46-dff8-b55c70002bf9"
      },
      "source": [
        "#Took this code from https://www.kaggle.com/arindambanerjee/grid-search-simplified\n",
        "import seaborn as sns\n",
        "import matplotlib.pyplot as plt\n",
        "\n",
        "learning_rate_list = list(clf.cv_results_['param_learning_rate'].data)\n",
        "estimators_list = list(clf.cv_results_['param_n_estimators'].data)\n",
        "\n",
        "sns.set_style(\"whitegrid\")\n",
        "plt.figure(figsize=(16,6))\n",
        "plt.subplot(1,2,1)\n",
        "data = pd.DataFrame(data={'Estimators':estimators_list, 'Learning rate':learning_rate_list, 'AUC':clf.cv_results_['mean_train_score']})\n",
        "data = data.pivot(index='Estimators', columns='Learning rate', values='AUC')\n",
        "sns.heatmap(data, annot=True, cmap=\"YlGnBu\").set_title('AUC for Training data')\n",
        "plt.subplot(1,2,2)\n",
        "data = pd.DataFrame(data={'Estimators':estimators_list, 'learning rate':learning_rate_list, 'AUC':clf.cv_results_['mean_test_score']})\n",
        "data = data.pivot(index='Estimators', columns='learning rate', values='AUC')\n",
        "sns.heatmap(data, annot=True, cmap=\"YlGnBu\").set_title('AUC for Test data')\n",
        "plt.show()"
      ],
      "execution_count": 28,
      "outputs": [
        {
          "output_type": "display_data",
          "data": {
            "image/png": "[encoded data removed]",
            "text/plain": [
              "<Figure size 1152x432 with 4 Axes>"
            ]
          },
          "metadata": {
            "tags": []
          }
        }
      ]
    },
    {
      "cell_type": "code",
      "metadata": {
        "id": "t85MDujiN_-z",
        "colab_type": "code",
        "colab": {
          "base_uri": "https://localhost:8080/",
          "height": 34
        },
        "outputId": "632da809-a822-41d2-93f5-aafa9000f2f4"
      },
      "source": [
        "clf.best_params_"
      ],
      "execution_count": 29,
      "outputs": [
        {
          "output_type": "execute_result",
          "data": {
            "text/plain": [
              "{'learning_rate': 0.2, 'n_estimators': 100}"
            ]
          },
          "metadata": {
            "tags": []
          },
          "execution_count": 29
        }
      ]
    },
    {
      "cell_type": "code",
      "metadata": {
        "id": "3wSAsVE2OLs0",
        "colab_type": "code",
        "colab": {
          "base_uri": "https://localhost:8080/",
          "height": 134
        },
        "outputId": "fe3f9ad2-fb7a-4c29-fd5c-04f474bd3a56"
      },
      "source": [
        "dtree_final= XGBClassifier(n_jobs=-1,learning_rate=0.3,n_estimators=50,tree_method='gpu_hist', gpu_id=0)\n",
        "dtree_final.fit(X_tr_ra, y_train)"
      ],
      "execution_count": 30,
      "outputs": [
        {
          "output_type": "execute_result",
          "data": {
            "text/plain": [
              "XGBClassifier(base_score=0.5, booster='gbtree', colsample_bylevel=1,\n",
              "              colsample_bynode=1, colsample_bytree=1, gamma=0, gpu_id=0,\n",
              "              learning_rate=0.3, max_delta_step=0, max_depth=3,\n",
              "              min_child_weight=1, missing=None, n_estimators=50, n_jobs=-1,\n",
              "              nthread=None, objective='binary:logistic', random_state=0,\n",
              "              reg_alpha=0, reg_lambda=1, scale_pos_weight=1, seed=None,\n",
              "              silent=None, subsample=1, tree_method='gpu_hist', verbosity=1)"
            ]
          },
          "metadata": {
            "tags": []
          },
          "execution_count": 30
        }
      ]
    },
    {
      "cell_type": "code",
      "metadata": {
        "id": "sEzAXB2WRAwf",
        "colab_type": "code",
        "colab": {}
      },
      "source": [
        " \n",
        "# we are writing our own function for predict, with defined thresould\n",
        "# we will pick a threshold that will give the least fpr\n",
        "def find_best_threshold(threshould, fpr, tpr):\n",
        "    t = threshould[np.argmax(tpr*(1-fpr))]\n",
        "    # (tpr*(1-fpr)) will be maximum if your fpr is very low and tpr is very high\n",
        "    print(\"the maximum value of tpr*(1-fpr)\", max(tpr*(1-fpr)), \"for threshold\", np.round(t,3))\n",
        "    return t\n",
        " \n",
        "def predict_with_best_t(proba, threshould):\n",
        "    predictions = []\n",
        "    for i in proba:\n",
        "        if i>=threshould:\n",
        "            predictions.append(1)\n",
        "        else:\n",
        "            predictions.append(0)\n",
        "    return predictions"
      ],
      "execution_count": 31,
      "outputs": []
    },
    {
      "cell_type": "code",
      "metadata": {
        "id": "_UG4L8eHSB3x",
        "colab_type": "code",
        "colab": {}
      },
      "source": [
        "import matplotlib.pyplot as plt\n"
      ],
      "execution_count": 32,
      "outputs": []
    },
    {
      "cell_type": "code",
      "metadata": {
        "id": "WgMj1CONROVS",
        "colab_type": "code",
        "colab": {
          "base_uri": "https://localhost:8080/",
          "height": 279
        },
        "outputId": "835de692-13d6-4bdf-ec78-dc9075353ce4"
      },
      "source": [
        "from sklearn.metrics import roc_curve, auc\n",
        "y_train_pred = dtree_final.predict_proba(X_tr_ra)[:,1]\n",
        "y_test_pred = dtree_final.predict_proba(X_te_ra)[:,1]\n",
        " \n",
        "train_fpr, train_tpr, tr_thresholds = roc_curve(y_train, y_train_pred)\n",
        "test_fpr, test_tpr, te_thresholds = roc_curve(y_test, y_test_pred)\n",
        " \n",
        "plt.plot(train_fpr, train_tpr, label=\"train AUC =\"+str(auc(train_fpr, train_tpr)))\n",
        "plt.plot(test_fpr, test_tpr, label=\"test AUC =\"+str(auc(test_fpr, test_tpr)))\n",
        "plt.legend()\n",
        "plt.xlabel(\"FPR\")\n",
        "plt.ylabel(\"TPR\")\n",
        "plt.grid()\n",
        "plt.show()\n",
        "a=auc(test_fpr,test_tpr)"
      ],
      "execution_count": 33,
      "outputs": [
        {
          "output_type": "display_data",
          "data": {
            "image/png": "[encoded data removed]",
            "text/plain": [
              "<Figure size 432x288 with 1 Axes>"
            ]
          },
          "metadata": {
            "tags": []
          }
        }
      ]
    },
    {
      "cell_type": "code",
      "metadata": {
        "id": "PFfoJ9j_937w",
        "colab_type": "code",
        "colab": {
          "base_uri": "https://localhost:8080/",
          "height": 332
        },
        "outputId": "da8f39a7-0885-4748-c917-1123fbdb4af3"
      },
      "source": [
        " \n",
        "import seaborn as sns\n",
        "print(\"=\"*100)\n",
        "from sklearn.metrics import confusion_matrix\n",
        "best_t = find_best_threshold(tr_thresholds, train_fpr, train_tpr)\n",
        "print(\"Train confusion matrix\")\n",
        "\n",
        "sns.heatmap(confusion_matrix(y_train, predict_with_best_t(y_train_pred, best_t)),annot=True)"
      ],
      "execution_count": 34,
      "outputs": [
        {
          "output_type": "stream",
          "text": [
            "====================================================================================================\n",
            "the maximum value of tpr*(1-fpr) 0.48449559757025523 for threshold 0.838\n",
            "Train confusion matrix\n"
          ],
          "name": "stdout"
        },
        {
          "output_type": "execute_result",
          "data": {
            "text/plain": [
              "<matplotlib.axes._subplots.AxesSubplot at 0x7f3f1f35bf98>"
            ]
          },
          "metadata": {
            "tags": []
          },
          "execution_count": 34
        },
        {
          "output_type": "display_data",
          "data": {
            "image/png": "[encoded data removed]",
            "text/plain": [
              "<Figure size 432x288 with 2 Axes>"
            ]
          },
          "metadata": {
            "tags": []
          }
        }
      ]
    },
    {
      "cell_type": "code",
      "metadata": {
        "id": "z8wfiVS3-Dc9",
        "colab_type": "code",
        "colab": {
          "base_uri": "https://localhost:8080/",
          "height": 298
        },
        "outputId": "fb0e1c26-29e1-4696-be11-66d92194bf4b"
      },
      "source": [
        " \n",
        "print(\"Test confusion matrix\")\n",
        "sns.heatmap(confusion_matrix(y_test, predict_with_best_t(y_test_pred, best_t)),annot=True)"
      ],
      "execution_count": 35,
      "outputs": [
        {
          "output_type": "stream",
          "text": [
            "Test confusion matrix\n"
          ],
          "name": "stdout"
        },
        {
          "output_type": "execute_result",
          "data": {
            "text/plain": [
              "<matplotlib.axes._subplots.AxesSubplot at 0x7f3f1f35b7b8>"
            ]
          },
          "metadata": {
            "tags": []
          },
          "execution_count": 35
        },
        {
          "output_type": "display_data",
          "data": {
            "image/png": "[encoded data removed]",
            "text/plain": [
              "<Figure size 432x288 with 2 Axes>"
            ]
          },
          "metadata": {
            "tags": []
          }
        }
      ]
    },
    {
      "cell_type": "markdown",
      "metadata": {
        "id": "S3Vxxv2Hsc31",
        "colab_type": "text"
      },
      "source": [
        "<h2>1.4 Make Data Model Ready: encoding numerical, categorical features</h2>"
      ]
    },
    {
      "cell_type": "code",
      "metadata": {
        "id": "Xv9riYwUWr4x",
        "colab_type": "code",
        "colab": {
          "base_uri": "https://localhost:8080/",
          "height": 50
        },
        "outputId": "a7b7cce9-9640-4eb1-abfb-22f99b5e7626"
      },
      "source": [
        " \n",
        "%%time\n",
        "from xgboost import XGBClassifier\n",
        " \n",
        " \n",
        "# https://scikit-learn.org/stable/modules/generated/sklearn.model_selection.GridSearchCV.html\n",
        "from sklearn.model_selection import GridSearchCV\n",
        "from scipy.stats import randint as sp_randint\n",
        "from sklearn.model_selection import RandomizedSearchCV\n",
        "from sklearn.tree import DecisionTreeClassifier\n",
        " \n",
        "dtree = XGBClassifier(tree_method='gpu_hist', gpu_id=0)\n",
        "parameters = {'learning_rate' :[0.0001, 0.001, 0.01, 0.1, 0.2, 0.3] ,'n_estimators':[5, 10,50,75,100]}\n",
        "clf = RandomizedSearchCV(dtree, parameters, cv=3, scoring='roc_auc',return_train_score=True,n_jobs=-1)\n",
        "clf.fit(X_tr_, y_train)"
      ],
      "execution_count": 36,
      "outputs": [
        {
          "output_type": "stream",
          "text": [
            "CPU times: user 3.24 s, sys: 2.51 s, total: 5.75 s\n",
            "Wall time: 1min 14s\n"
          ],
          "name": "stdout"
        }
      ]
    },
    {
      "cell_type": "code",
      "metadata": {
        "id": "IPF9Rw1zWy0A",
        "colab_type": "code",
        "colab": {
          "base_uri": "https://localhost:8080/",
          "height": 467
        },
        "outputId": "0c9e4753-71ce-4957-afd1-a644a6b415d0"
      },
      "source": [
        "import pandas as pd\n",
        "results = pd.DataFrame.from_dict(clf.cv_results_)\n",
        " \n",
        " \n",
        "train_auc= results['mean_train_score']\n",
        "train_auc_std= results['std_train_score']\n",
        "cv_auc = results['mean_test_score'] \n",
        "cv_auc_std= results['std_test_score']\n",
        "results.head()"
      ],
      "execution_count": 37,
      "outputs": [
        {
          "output_type": "execute_result",
          "data": {
            "text/html": [
              "<div>\n",
              "<style scoped>\n",
              "    .dataframe tbody tr th:only-of-type {\n",
              "        vertical-align: middle;\n",
              "    }\n",
              "\n",
              "    .dataframe tbody tr th {\n",
              "        vertical-align: top;\n",
              "    }\n",
              "\n",
              "    .dataframe thead th {\n",
              "        text-align: right;\n",
              "    }\n",
              "</style>\n",
              "<table border=\"1\" class=\"dataframe\">\n",
              "  <thead>\n",
              "    <tr style=\"text-align: right;\">\n",
              "      <th></th>\n",
              "      <th>mean_fit_time</th>\n",
              "      <th>std_fit_time</th>\n",
              "      <th>mean_score_time</th>\n",
              "      <th>std_score_time</th>\n",
              "      <th>param_n_estimators</th>\n",
              "      <th>param_learning_rate</th>\n",
              "      <th>params</th>\n",
              "      <th>split0_test_score</th>\n",
              "      <th>split1_test_score</th>\n",
              "      <th>split2_test_score</th>\n",
              "      <th>mean_test_score</th>\n",
              "      <th>std_test_score</th>\n",
              "      <th>rank_test_score</th>\n",
              "      <th>split0_train_score</th>\n",
              "      <th>split1_train_score</th>\n",
              "      <th>split2_train_score</th>\n",
              "      <th>mean_train_score</th>\n",
              "      <th>std_train_score</th>\n",
              "    </tr>\n",
              "  </thead>\n",
              "  <tbody>\n",
              "    <tr>\n",
              "      <th>0</th>\n",
              "      <td>1.807911</td>\n",
              "      <td>0.295590</td>\n",
              "      <td>0.126292</td>\n",
              "      <td>0.014376</td>\n",
              "      <td>5</td>\n",
              "      <td>0.1</td>\n",
              "      <td>{'n_estimators': 5, 'learning_rate': 0.1}</td>\n",
              "      <td>0.647233</td>\n",
              "      <td>0.642363</td>\n",
              "      <td>0.660868</td>\n",
              "      <td>0.650155</td>\n",
              "      <td>0.007832</td>\n",
              "      <td>5</td>\n",
              "      <td>0.664299</td>\n",
              "      <td>0.670994</td>\n",
              "      <td>0.671549</td>\n",
              "      <td>0.668947</td>\n",
              "      <td>0.003295</td>\n",
              "    </tr>\n",
              "    <tr>\n",
              "      <th>1</th>\n",
              "      <td>1.475820</td>\n",
              "      <td>0.135400</td>\n",
              "      <td>0.133450</td>\n",
              "      <td>0.011994</td>\n",
              "      <td>10</td>\n",
              "      <td>0.0001</td>\n",
              "      <td>{'n_estimators': 10, 'learning_rate': 0.0001}</td>\n",
              "      <td>0.606897</td>\n",
              "      <td>0.602659</td>\n",
              "      <td>0.624923</td>\n",
              "      <td>0.611493</td>\n",
              "      <td>0.009653</td>\n",
              "      <td>9</td>\n",
              "      <td>0.623389</td>\n",
              "      <td>0.622253</td>\n",
              "      <td>0.626586</td>\n",
              "      <td>0.624076</td>\n",
              "      <td>0.001834</td>\n",
              "    </tr>\n",
              "    <tr>\n",
              "      <th>2</th>\n",
              "      <td>7.574486</td>\n",
              "      <td>0.420583</td>\n",
              "      <td>0.174255</td>\n",
              "      <td>0.017043</td>\n",
              "      <td>75</td>\n",
              "      <td>0.01</td>\n",
              "      <td>{'n_estimators': 75, 'learning_rate': 0.01}</td>\n",
              "      <td>0.658171</td>\n",
              "      <td>0.653493</td>\n",
              "      <td>0.672658</td>\n",
              "      <td>0.661440</td>\n",
              "      <td>0.008159</td>\n",
              "      <td>3</td>\n",
              "      <td>0.676765</td>\n",
              "      <td>0.683627</td>\n",
              "      <td>0.681782</td>\n",
              "      <td>0.680725</td>\n",
              "      <td>0.002900</td>\n",
              "    </tr>\n",
              "    <tr>\n",
              "      <th>3</th>\n",
              "      <td>5.406503</td>\n",
              "      <td>0.372415</td>\n",
              "      <td>0.139446</td>\n",
              "      <td>0.002164</td>\n",
              "      <td>50</td>\n",
              "      <td>0.3</td>\n",
              "      <td>{'n_estimators': 50, 'learning_rate': 0.3}</td>\n",
              "      <td>0.710408</td>\n",
              "      <td>0.698505</td>\n",
              "      <td>0.710275</td>\n",
              "      <td>0.706396</td>\n",
              "      <td>0.005580</td>\n",
              "      <td>2</td>\n",
              "      <td>0.767165</td>\n",
              "      <td>0.770134</td>\n",
              "      <td>0.767095</td>\n",
              "      <td>0.768131</td>\n",
              "      <td>0.001416</td>\n",
              "    </tr>\n",
              "    <tr>\n",
              "      <th>4</th>\n",
              "      <td>5.478174</td>\n",
              "      <td>0.620881</td>\n",
              "      <td>0.133609</td>\n",
              "      <td>0.001465</td>\n",
              "      <td>50</td>\n",
              "      <td>0.001</td>\n",
              "      <td>{'n_estimators': 50, 'learning_rate': 0.001}</td>\n",
              "      <td>0.619173</td>\n",
              "      <td>0.628706</td>\n",
              "      <td>0.638642</td>\n",
              "      <td>0.628840</td>\n",
              "      <td>0.007949</td>\n",
              "      <td>8</td>\n",
              "      <td>0.636433</td>\n",
              "      <td>0.653929</td>\n",
              "      <td>0.640301</td>\n",
              "      <td>0.643554</td>\n",
              "      <td>0.007504</td>\n",
              "    </tr>\n",
              "  </tbody>\n",
              "</table>\n",
              "</div>"
            ],
            "text/plain": [
              "   mean_fit_time  std_fit_time  ...  mean_train_score  std_train_score\n",
              "0       1.807911      0.295590  ...          0.668947         0.003295\n",
              "1       1.475820      0.135400  ...          0.624076         0.001834\n",
              "2       7.574486      0.420583  ...          0.680725         0.002900\n",
              "3       5.406503      0.372415  ...          0.768131         0.001416\n",
              "4       5.478174      0.620881  ...          0.643554         0.007504\n",
              "\n",
              "[5 rows x 18 columns]"
            ]
          },
          "metadata": {
            "tags": []
          },
          "execution_count": 37
        }
      ]
    },
    {
      "cell_type": "code",
      "metadata": {
        "id": "RcGcK36gW3G0",
        "colab_type": "code",
        "colab": {
          "base_uri": "https://localhost:8080/",
          "height": 404
        },
        "outputId": "7f74eae1-6172-4193-cc9e-f2b09207ade1"
      },
      "source": [
        "#Took this code from https://www.kaggle.com/arindambanerjee/grid-search-simplified\n",
        "import seaborn as sns\n",
        "import matplotlib.pyplot as plt\n",
        "\n",
        "learning_rate_list = list(clf.cv_results_['param_learning_rate'].data)\n",
        "estimators_list = list(clf.cv_results_['param_n_estimators'].data)\n",
        "\n",
        "sns.set_style(\"whitegrid\")\n",
        "plt.figure(figsize=(16,6))\n",
        "plt.subplot(1,2,1)\n",
        "data = pd.DataFrame(data={'Estimators':estimators_list, 'Learning rate':learning_rate_list, 'AUC':clf.cv_results_['mean_train_score']})\n",
        "data = data.pivot(index='Estimators', columns='Learning rate', values='AUC')\n",
        "sns.heatmap(data, annot=True, cmap=\"YlGnBu\").set_title('AUC for Training data')\n",
        "plt.subplot(1,2,2)\n",
        "data = pd.DataFrame(data={'Estimators':estimators_list, 'learning rate':learning_rate_list, 'AUC':clf.cv_results_['mean_test_score']})\n",
        "data = data.pivot(index='Estimators', columns='learning rate', values='AUC')\n",
        "sns.heatmap(data, annot=True, cmap=\"YlGnBu\").set_title('AUC for Test data')\n",
        "plt.show()"
      ],
      "execution_count": 38,
      "outputs": [
        {
          "output_type": "display_data",
          "data": {
            "image/png": "[encoded data removed]",
            "text/plain": [
              "<Figure size 1152x432 with 4 Axes>"
            ]
          },
          "metadata": {
            "tags": []
          }
        }
      ]
    },
    {
      "cell_type": "code",
      "metadata": {
        "id": "rozoc39iW7-b",
        "colab_type": "code",
        "colab": {
          "base_uri": "https://localhost:8080/",
          "height": 34
        },
        "outputId": "43a2e0a8-7efa-4b4d-b01e-529c397003c0"
      },
      "source": [
        "clf.best_params_"
      ],
      "execution_count": 39,
      "outputs": [
        {
          "output_type": "execute_result",
          "data": {
            "text/plain": [
              "{'learning_rate': 0.3, 'n_estimators': 75}"
            ]
          },
          "metadata": {
            "tags": []
          },
          "execution_count": 39
        }
      ]
    },
    {
      "cell_type": "code",
      "metadata": {
        "id": "n6aZoIyJimQD",
        "colab_type": "code",
        "colab": {
          "base_uri": "https://localhost:8080/",
          "height": 134
        },
        "outputId": "3a84b978-5a5a-453e-8aa9-db348f6a8f7b"
      },
      "source": [
        "dtree_final= XGBClassifier(n_jobs=-1,learning_rate=0.3,n_estimators=50,tree_method='gpu_hist', gpu_id=0)\n",
        "dtree_final.fit(X_tr_, y_train)"
      ],
      "execution_count": 40,
      "outputs": [
        {
          "output_type": "execute_result",
          "data": {
            "text/plain": [
              "XGBClassifier(base_score=0.5, booster='gbtree', colsample_bylevel=1,\n",
              "              colsample_bynode=1, colsample_bytree=1, gamma=0, gpu_id=0,\n",
              "              learning_rate=0.3, max_delta_step=0, max_depth=3,\n",
              "              min_child_weight=1, missing=None, n_estimators=50, n_jobs=-1,\n",
              "              nthread=None, objective='binary:logistic', random_state=0,\n",
              "              reg_alpha=0, reg_lambda=1, scale_pos_weight=1, seed=None,\n",
              "              silent=None, subsample=1, tree_method='gpu_hist', verbosity=1)"
            ]
          },
          "metadata": {
            "tags": []
          },
          "execution_count": 40
        }
      ]
    },
    {
      "cell_type": "code",
      "metadata": {
        "id": "KJ9Mgu_OiwGc",
        "colab_type": "code",
        "colab": {
          "base_uri": "https://localhost:8080/",
          "height": 279
        },
        "outputId": "6d32a51c-4a9c-4e04-aae7-b54359a3db1e"
      },
      "source": [
        "from sklearn.metrics import roc_curve, auc\n",
        "y_train_pred = dtree_final.predict_proba(X_tr_)[:,1]\n",
        "y_test_pred = dtree_final.predict_proba(X_te_)[:,1]\n",
        " \n",
        "train_fpr, train_tpr, tr_thresholds = roc_curve(y_train, y_train_pred)\n",
        "test_fpr, test_tpr, te_thresholds = roc_curve(y_test, y_test_pred)\n",
        " \n",
        "plt.plot(train_fpr, train_tpr, label=\"train AUC =\"+str(auc(train_fpr, train_tpr)))\n",
        "plt.plot(test_fpr, test_tpr, label=\"test AUC =\"+str(auc(test_fpr, test_tpr)))\n",
        "plt.legend()\n",
        "plt.xlabel(\"FPR\")\n",
        "plt.ylabel(\"TPR\")\n",
        "plt.grid()\n",
        "plt.show()\n",
        "b=auc(test_fpr,test_tpr)"
      ],
      "execution_count": 41,
      "outputs": [
        {
          "output_type": "display_data",
          "data": {
            "image/png": "[encoded data removed]",
            "text/plain": [
              "<Figure size 432x288 with 1 Axes>"
            ]
          },
          "metadata": {
            "tags": []
          }
        }
      ]
    },
    {
      "cell_type": "code",
      "metadata": {
        "id": "7a1Nmi5i-LSD",
        "colab_type": "code",
        "colab": {
          "base_uri": "https://localhost:8080/",
          "height": 332
        },
        "outputId": "04bf0954-b8bf-48bf-e2ba-5dcdbbcbdeb8"
      },
      "source": [
        " \n",
        "import seaborn as sns\n",
        "print(\"=\"*100)\n",
        "from sklearn.metrics import confusion_matrix\n",
        "best_t = find_best_threshold(tr_thresholds, train_fpr, train_tpr)\n",
        "print(\"Train confusion matrix\")\n",
        " \n",
        "sns.heatmap(confusion_matrix(y_train, predict_with_best_t(y_train_pred, best_t)),annot=True)"
      ],
      "execution_count": 42,
      "outputs": [
        {
          "output_type": "stream",
          "text": [
            "====================================================================================================\n",
            "the maximum value of tpr*(1-fpr) 0.4719287347421252 for threshold 0.845\n",
            "Train confusion matrix\n"
          ],
          "name": "stdout"
        },
        {
          "output_type": "execute_result",
          "data": {
            "text/plain": [
              "<matplotlib.axes._subplots.AxesSubplot at 0x7f3f1d0e6550>"
            ]
          },
          "metadata": {
            "tags": []
          },
          "execution_count": 42
        },
        {
          "output_type": "display_data",
          "data": {
            "image/png": "[encoded data removed]",
            "text/plain": [
              "<Figure size 432x288 with 2 Axes>"
            ]
          },
          "metadata": {
            "tags": []
          }
        }
      ]
    },
    {
      "cell_type": "code",
      "metadata": {
        "id": "Pyin9VCN-PQp",
        "colab_type": "code",
        "colab": {
          "base_uri": "https://localhost:8080/",
          "height": 298
        },
        "outputId": "c5df5138-ee49-4e60-d3ac-9bc481d5d961"
      },
      "source": [
        " \n",
        "print(\"Test confusion matrix\")\n",
        "sns.heatmap(confusion_matrix(y_test, predict_with_best_t(y_test_pred, best_t)),annot=True)"
      ],
      "execution_count": 43,
      "outputs": [
        {
          "output_type": "stream",
          "text": [
            "Test confusion matrix\n"
          ],
          "name": "stdout"
        },
        {
          "output_type": "execute_result",
          "data": {
            "text/plain": [
              "<matplotlib.axes._subplots.AxesSubplot at 0x7f3f1d073908>"
            ]
          },
          "metadata": {
            "tags": []
          },
          "execution_count": 43
        },
        {
          "output_type": "display_data",
          "data": {
            "image/png": "[encoded data removed]",
            "text/plain": [
              "<Figure size 432x288 with 2 Axes>"
            ]
          },
          "metadata": {
            "tags": []
          }
        }
      ]
    },
    {
      "cell_type": "markdown",
      "metadata": {
        "id": "O5tWox1jsc3_",
        "colab_type": "text"
      },
      "source": [
        "<br>Apply GBDT on different kind of featurization as mentioned in the instructions\n",
        "<br> For Every model that you work on make sure you do the step 2 and step 3 of instrucations"
      ]
    },
    {
      "cell_type": "code",
      "metadata": {
        "id": "ARWulYUwsc4B",
        "colab_type": "code",
        "colab": {}
      },
      "source": [
        "# please write all the code with proper documentation, and proper titles for each subsection\n",
        "# go through documentations and blogs before you start coding\n",
        "# first figure out what to do, and then think about how to do.\n",
        "# reading and understanding error messages will be very much helpfull in debugging your code\n",
        "# when you plot any graph make sure you use \n",
        "    # a. Title, that describes your plot, this will be very helpful to the reader\n",
        "    # b. Legends if needed\n",
        "    # c. X-axis label\n",
        "    # d. Y-axis label"
      ],
      "execution_count": null,
      "outputs": []
    },
    {
      "cell_type": "markdown",
      "metadata": {
        "id": "YhFN-lDWsc4G",
        "colab_type": "text"
      },
      "source": [
        "<h1>3. Summary</h1>\n",
        "\n",
        "<br> as mentioned in the step 4 of instructions"
      ]
    },
    {
      "cell_type": "code",
      "metadata": {
        "id": "ekdeP_wG_jdk",
        "colab_type": "code",
        "colab": {
          "base_uri": "https://localhost:8080/",
          "height": 84
        },
        "outputId": "485f7689-5c1d-42a7-ebde-a296e27f2adc"
      },
      "source": [
        " \n",
        " \n",
        "#https://stackoverflow.com/questions/9535954/printing-lists-as-tabular-data\n",
        "from tabulate import tabulate\n",
        "print(tabulate([['TFIDF', \"Xgboost\",0.3,50,a], ['TFidf_w2v',\"Xgboost\",0.3,50,b]], headers=['Vectorizer', 'Model',\"Hyperparameter_learning_rate\",\"Hyperparameter_n_estimators\",\"AUC\"], tablefmt='orgtbl'))"
      ],
      "execution_count": 44,
      "outputs": [
        {
          "output_type": "stream",
          "text": [
            "| Vectorizer   | Model   |   Hyperparameter_learning_rate |   Hyperparameter_n_estimators |      AUC |\n",
            "|--------------+---------+--------------------------------+-------------------------------+----------|\n",
            "| TFIDF        | Xgboost |                            0.3 |                            50 | 0.713429 |\n",
            "| TFidf_w2v    | Xgboost |                            0.3 |                            50 | 0.701188 |\n"
          ],
          "name": "stdout"
        }
      ]
    },
    {
      "cell_type": "code",
      "metadata": {
        "id": "ZucdnO0IAGcx",
        "colab_type": "code",
        "colab": {}
      },
      "source": [
        ""
      ],
      "execution_count": null,
      "outputs": []
    }
  ]
}